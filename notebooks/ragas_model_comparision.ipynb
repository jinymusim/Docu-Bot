{
 "cells": [
  {
   "cell_type": "code",
   "execution_count": 1,
   "metadata": {},
   "outputs": [],
   "source": [
    "%load_ext autoreload\n",
    "%autoreload 2"
   ]
  },
  {
   "cell_type": "code",
   "execution_count": 2,
   "metadata": {},
   "outputs": [
    {
     "name": "stderr",
     "output_type": "stream",
     "text": [
      "c:\\Users\\qwert\\Git\\Docu-Bot\\venv\\Lib\\site-packages\\tqdm\\auto.py:21: TqdmWarning: IProgress not found. Please update jupyter and ipywidgets. See https://ipywidgets.readthedocs.io/en/stable/user_install.html\n",
      "  from .autonotebook import tqdm as notebook_tqdm\n"
     ]
    }
   ],
   "source": [
    "import os\n",
    "import time\n",
    "import pandas as pd\n",
    "from getpass import getpass\n",
    "from ragas.embeddings import LangchainEmbeddingsWrapper\n",
    "from ragas.testset import Testset\n",
    "from ragas.llms import LangchainLLMWrapper\n",
    "from docu_bot.utils import create_chatopenai_model, create_openai_embeddings\n",
    "from docu_bot.document_loaders.git_document_loader import GitDocumentLoader\n",
    "from docu_bot.document_loaders.utils import LoadedRepositoriesAndFiles\n",
    "from docu_bot.datasets.generate_synthetic_data_ragas import (\n",
    "    generate_dataset,\n",
    "    create_generator,\n",
    ")\n",
    "from docu_bot.evaluation.evaluate import Evaluator\n",
    "from docu_bot.retrievals.document_retrival import DocumentRetrieval\n",
    "from docu_bot.retrievals.empty_retrieval import EmptyRetrieval\n",
    "from docu_bot.retrievals.context_query_alteration_retrieval import ContextQueryAlterationDocumentRetrieval\n",
    "from docu_bot.retrievals.query_alteration_retrieval import QueryAlterationDocumentRetrieval\n",
    "from docu_bot.retrievals.generative_retrieval import GenerativeDocumentRetrieval\n",
    "from docu_bot.retrievals.rerank_retrieval import RerankDocumentRetrieval\n",
    "\n",
    "from docu_bot.stores.docstore import DocumentStore\n",
    "from docu_bot.stores.utils import create_vector_store_from_document_loader, LoadedVectorStores"
   ]
  },
  {
   "cell_type": "code",
   "execution_count": 3,
   "metadata": {},
   "outputs": [],
   "source": [
    "model_type = \"gpt-4o-mini\"\n",
    "embedding_model_type=\"text-embedding-3-small\"\n",
    "api_key = getpass(\"Enter your OpenAI API key: \")"
   ]
  },
  {
   "cell_type": "markdown",
   "metadata": {},
   "source": [
    "## Generate Sythetic Datase\n"
   ]
  },
  {
   "cell_type": "code",
   "execution_count": 4,
   "metadata": {},
   "outputs": [],
   "source": [
    "llm_model = LangchainLLMWrapper(create_chatopenai_model(model_type=model_type, api_key=api_key))\n",
    "embeddings_model = LangchainEmbeddingsWrapper(create_openai_embeddings(model_type=embedding_model_type, api_key=api_key))\n",
    "generator = create_generator(llm_model, embeddings_model)\n",
    "document_loader = GitDocumentLoader(\n",
    "    repo_path=\"https://code.it4i.cz/sccs/docs.it4i.cz.git\", branch=\"master\", loaded_repositories_and_files=LoadedRepositoriesAndFiles()\n",
    ")"
   ]
  },
  {
   "cell_type": "code",
   "execution_count": null,
   "metadata": {},
   "outputs": [],
   "source": [
    "synthetic_data_list = []\n",
    "for i in range(10):\n",
    "    print(f\"Generating synthetic data {i}\")\n",
    "    synthetic_data = generate_dataset(generator, document_loader.load(), dataset_size=100)\n",
    "    synthetic_data_list.append(synthetic_data.to_pandas())\n",
    "    print(f\"Sleeping for 10 seconds to prevent Token Limit Error\" )\n",
    "    time.sleep(10)\n",
    "synthetic_data = pd.concat(synthetic_data_list)"
   ]
  },
  {
   "cell_type": "code",
   "execution_count": 9,
   "metadata": {},
   "outputs": [
    {
     "data": {
      "text/html": [
       "<div>\n",
       "<style scoped>\n",
       "    .dataframe tbody tr th:only-of-type {\n",
       "        vertical-align: middle;\n",
       "    }\n",
       "\n",
       "    .dataframe tbody tr th {\n",
       "        vertical-align: top;\n",
       "    }\n",
       "\n",
       "    .dataframe thead th {\n",
       "        text-align: right;\n",
       "    }\n",
       "</style>\n",
       "<table border=\"1\" class=\"dataframe\">\n",
       "  <thead>\n",
       "    <tr style=\"text-align: right;\">\n",
       "      <th></th>\n",
       "      <th>user_input</th>\n",
       "      <th>reference_contexts</th>\n",
       "      <th>reference</th>\n",
       "      <th>synthesizer_name</th>\n",
       "    </tr>\n",
       "  </thead>\n",
       "  <tbody>\n",
       "    <tr>\n",
       "      <th>0</th>\n",
       "      <td>What is IT4Innovations and how do I install it...</td>\n",
       "      <td>[# IT4Inoovations Documentation\\n\\nThis projec...</td>\n",
       "      <td>IT4Innovations is a project that contains user...</td>\n",
       "      <td>single_hop_specifc_query_synthesizer</td>\n",
       "    </tr>\n",
       "    <tr>\n",
       "      <th>1</th>\n",
       "      <td>Can you explain what EOSC is and how it relate...</td>\n",
       "      <td>[# What Is DICE Project?\\n\\nDICE (Data Infrast...</td>\n",
       "      <td>The EOSC (European Open Science Cloud) project...</td>\n",
       "      <td>single_hop_specifc_query_synthesizer</td>\n",
       "    </tr>\n",
       "    <tr>\n",
       "      <th>2</th>\n",
       "      <td>Can you explain the significance of IT4I in th...</td>\n",
       "      <td>[# Migration to e-INFRA CZ\\n\\n## Introduction\\...</td>\n",
       "      <td>IT4Innovations is a crucial part of e-INFRA CZ...</td>\n",
       "      <td>single_hop_specifc_query_synthesizer</td>\n",
       "    </tr>\n",
       "    <tr>\n",
       "      <th>3</th>\n",
       "      <td>What is the default shell available on IT4Inno...</td>\n",
       "      <td>[# Environment and Modules\\n\\n## Shells on Clu...</td>\n",
       "      <td>The default shell available on IT4Innovations ...</td>\n",
       "      <td>single_hop_specifc_query_synthesizer</td>\n",
       "    </tr>\n",
       "    <tr>\n",
       "      <th>4</th>\n",
       "      <td>Why is CentOS recommended for new developers w...</td>\n",
       "      <td>[# Documentation\\n\\nWelcome to the IT4Innovati...</td>\n",
       "      <td>CentOS is recommended for new developers becau...</td>\n",
       "      <td>single_hop_specifc_query_synthesizer</td>\n",
       "    </tr>\n",
       "    <tr>\n",
       "      <th>...</th>\n",
       "      <td>...</td>\n",
       "      <td>...</td>\n",
       "      <td>...</td>\n",
       "      <td>...</td>\n",
       "    </tr>\n",
       "    <tr>\n",
       "      <th>45</th>\n",
       "      <td>What is IT4Innovashuns and what does it do?</td>\n",
       "      <td>[IT4Innovations national supercomputing center...</td>\n",
       "      <td>IT4Innovations is a national supercomputing ce...</td>\n",
       "      <td>single_hop_specifc_query_synthesizer</td>\n",
       "    </tr>\n",
       "    <tr>\n",
       "      <th>46</th>\n",
       "      <td>Wht is DGX-A100?</td>\n",
       "      <td>[Savings GPU\\n....\\nSpetko, Vysocky, Jansik, R...</td>\n",
       "      <td>The DGX-A100 is referenced in the context of a...</td>\n",
       "      <td>single_hop_specifc_query_synthesizer</td>\n",
       "    </tr>\n",
       "    <tr>\n",
       "      <th>47</th>\n",
       "      <td>How can I contact support at it4i?</td>\n",
       "      <td>[# Satisfaction and Feedback\\n\\nIT4Innovations...</td>\n",
       "      <td>For acute, pressing issues and immediate conta...</td>\n",
       "      <td>single_hop_specifc_query_synthesizer</td>\n",
       "    </tr>\n",
       "    <tr>\n",
       "      <th>48</th>\n",
       "      <td>Can you explain how to use HyperQueue on Karol...</td>\n",
       "      <td>[# HyperQueue\\n\\nHyperQueue lets you build a c...</td>\n",
       "      <td>To use HyperQueue on Karolina, you first need ...</td>\n",
       "      <td>single_hop_specifc_query_synthesizer</td>\n",
       "    </tr>\n",
       "    <tr>\n",
       "      <th>49</th>\n",
       "      <td>As a new developer, can you explain the signif...</td>\n",
       "      <td>[!!!warning\\n    This page has not been update...</td>\n",
       "      <td>The PBS_O_WORKDIR variable is significant in t...</td>\n",
       "      <td>single_hop_specifc_query_synthesizer</td>\n",
       "    </tr>\n",
       "  </tbody>\n",
       "</table>\n",
       "<p>350 rows × 4 columns</p>\n",
       "</div>"
      ],
      "text/plain": [
       "                                           user_input  \\\n",
       "0   What is IT4Innovations and how do I install it...   \n",
       "1   Can you explain what EOSC is and how it relate...   \n",
       "2   Can you explain the significance of IT4I in th...   \n",
       "3   What is the default shell available on IT4Inno...   \n",
       "4   Why is CentOS recommended for new developers w...   \n",
       "..                                                ...   \n",
       "45        What is IT4Innovashuns and what does it do?   \n",
       "46                                   Wht is DGX-A100?   \n",
       "47                 How can I contact support at it4i?   \n",
       "48  Can you explain how to use HyperQueue on Karol...   \n",
       "49  As a new developer, can you explain the signif...   \n",
       "\n",
       "                                   reference_contexts  \\\n",
       "0   [# IT4Inoovations Documentation\\n\\nThis projec...   \n",
       "1   [# What Is DICE Project?\\n\\nDICE (Data Infrast...   \n",
       "2   [# Migration to e-INFRA CZ\\n\\n## Introduction\\...   \n",
       "3   [# Environment and Modules\\n\\n## Shells on Clu...   \n",
       "4   [# Documentation\\n\\nWelcome to the IT4Innovati...   \n",
       "..                                                ...   \n",
       "45  [IT4Innovations national supercomputing center...   \n",
       "46  [Savings GPU\\n....\\nSpetko, Vysocky, Jansik, R...   \n",
       "47  [# Satisfaction and Feedback\\n\\nIT4Innovations...   \n",
       "48  [# HyperQueue\\n\\nHyperQueue lets you build a c...   \n",
       "49  [!!!warning\\n    This page has not been update...   \n",
       "\n",
       "                                            reference  \\\n",
       "0   IT4Innovations is a project that contains user...   \n",
       "1   The EOSC (European Open Science Cloud) project...   \n",
       "2   IT4Innovations is a crucial part of e-INFRA CZ...   \n",
       "3   The default shell available on IT4Innovations ...   \n",
       "4   CentOS is recommended for new developers becau...   \n",
       "..                                                ...   \n",
       "45  IT4Innovations is a national supercomputing ce...   \n",
       "46  The DGX-A100 is referenced in the context of a...   \n",
       "47  For acute, pressing issues and immediate conta...   \n",
       "48  To use HyperQueue on Karolina, you first need ...   \n",
       "49  The PBS_O_WORKDIR variable is significant in t...   \n",
       "\n",
       "                        synthesizer_name  \n",
       "0   single_hop_specifc_query_synthesizer  \n",
       "1   single_hop_specifc_query_synthesizer  \n",
       "2   single_hop_specifc_query_synthesizer  \n",
       "3   single_hop_specifc_query_synthesizer  \n",
       "4   single_hop_specifc_query_synthesizer  \n",
       "..                                   ...  \n",
       "45  single_hop_specifc_query_synthesizer  \n",
       "46  single_hop_specifc_query_synthesizer  \n",
       "47  single_hop_specifc_query_synthesizer  \n",
       "48  single_hop_specifc_query_synthesizer  \n",
       "49  single_hop_specifc_query_synthesizer  \n",
       "\n",
       "[350 rows x 4 columns]"
      ]
     },
     "execution_count": 9,
     "metadata": {},
     "output_type": "execute_result"
    }
   ],
   "source": [
    "synthetic_data"
   ]
  },
  {
   "cell_type": "code",
   "execution_count": null,
   "metadata": {},
   "outputs": [],
   "source": [
    "synthetic_data.to_feather(\n",
    "    os.path.join(os.path.abspath(''), \"..\", \"datasets\", \"it4i_large_synthetic_data.feather\")\n",
    ")"
   ]
  },
  {
   "cell_type": "markdown",
   "metadata": {},
   "source": [
    "### Use Sythetic Data to test the model"
   ]
  },
  {
   "cell_type": "code",
   "execution_count": 3,
   "metadata": {},
   "outputs": [],
   "source": [
    "model_type = \"aya-expanse:latest\"\n",
    "embedding_model_type = \"text-embedding-3-small\"\n",
    "api_key = getpass(\"Enter your Metacentrum API key: \")\n",
    "evaluator_llm_model_type = \"gpt-4o-mini\"\n",
    "evaluator_embeddings_model_type = \"text-embedding-3-small\"\n",
    "open_ai_api_key = getpass(\"Enter your OpenAI API key: \")"
   ]
  },
  {
   "cell_type": "code",
   "execution_count": 4,
   "metadata": {},
   "outputs": [],
   "source": [
    "synthetic_data = Testset.from_pandas(pd.read_feather(os.path.join(os.path.abspath(''), \"..\", \"datasets\", \"it4i_synthetic_data.feather\")))\n",
    "document_loader = GitDocumentLoader(\n",
    "    repo_path=\"https://code.it4i.cz/sccs/docs.it4i.cz.git\", branch=\"master\", loaded_repositories_and_files=LoadedRepositoriesAndFiles()\n",
    ")\n",
    "docstore =DocumentStore()\n",
    "cached_vector_store = LoadedVectorStores(embedding_model=embedding_model_type, api_key=open_ai_api_key)\n",
    "vector_store =create_vector_store_from_document_loader(document_loader, docstore, cached_vector_store, embedding_model_type, open_ai_api_key)"
   ]
  },
  {
   "cell_type": "code",
   "execution_count": 5,
   "metadata": {},
   "outputs": [],
   "source": [
    "evaluator = Evaluator(\n",
    "    evaluator_llm=create_chatopenai_model(model_type=evaluator_llm_model_type, api_key=open_ai_api_key),\n",
    "    evaluator_embedding_model=create_openai_embeddings(model_type=evaluator_embeddings_model_type, api_key=open_ai_api_key),\n",
    ")"
   ]
  },
  {
   "cell_type": "code",
   "execution_count": 6,
   "metadata": {},
   "outputs": [
    {
     "name": "stderr",
     "output_type": "stream",
     "text": [
      "Evaluating: 100%|██████████| 200/200 [02:01<00:00,  1.64it/s]\n"
     ]
    },
    {
     "data": {
      "text/plain": [
       "{'factual_correctness': 0.3976, 'faithfulness': 0.6689, 'context_recall': 0.4547, 'semantic_similarity': 0.7469, 'non_llm_context_recall': 0.2000, 'llm_context_precision_with_reference': 0.4900, 'non_llm_context_precision_with_reference': 0.1800, 'context_entity_recall': 0.1875}"
      ]
     },
     "execution_count": 6,
     "metadata": {},
     "output_type": "execute_result"
    }
   ],
   "source": [
    "eval_results = evaluator.evaluate_configuration(\n",
    "    dataset=synthetic_data,\n",
    "    rag_llm=create_chatopenai_model(model_type=model_type, api_key=api_key),\n",
    "    document_retriever=DocumentRetrieval(\n",
    "        vectorstore=vector_store, \n",
    "        docstore=docstore, \n",
    "        search_kwargs={\"min_score\": 0.3, \"k\": 5}\n",
    "    )\n",
    ")\n",
    "eval_results"
   ]
  },
  {
   "cell_type": "code",
   "execution_count": 7,
   "metadata": {},
   "outputs": [
    {
     "name": "stderr",
     "output_type": "stream",
     "text": [
      "Evaluating: 100%|██████████| 200/200 [02:01<00:00,  1.64it/s]\n"
     ]
    },
    {
     "data": {
      "text/plain": [
       "{'factual_correctness': 0.1492, 'faithfulness': 0.6988, 'context_recall': 0.0000, 'semantic_similarity': 0.4976, 'non_llm_context_recall': 0.0000, 'llm_context_precision_with_reference': 0.0000, 'non_llm_context_precision_with_reference': 0.0000, 'context_entity_recall': 0.0000}"
      ]
     },
     "execution_count": 7,
     "metadata": {},
     "output_type": "execute_result"
    }
   ],
   "source": [
    "eval_results = evaluator.evaluate_configuration(\n",
    "    dataset=synthetic_data,\n",
    "    rag_llm=create_chatopenai_model(model_type=model_type, api_key=api_key),\n",
    "    document_retriever=EmptyRetrieval(\n",
    "        docstore=docstore,\n",
    "        search_kwargs={}\n",
    "    )\n",
    ")\n",
    "eval_results"
   ]
  },
  {
   "cell_type": "code",
   "execution_count": 6,
   "metadata": {},
   "outputs": [
    {
     "name": "stderr",
     "output_type": "stream",
     "text": [
      "Evaluating: 100%|██████████| 200/200 [01:49<00:00,  1.83it/s]\n"
     ]
    },
    {
     "data": {
      "text/plain": [
       "{'factual_correctness': 0.1956, 'faithfulness': 0.5297, 'context_recall': 0.1700, 'semantic_similarity': 0.7282, 'non_llm_context_recall': 0.0000, 'llm_context_precision_with_reference': 0.4400, 'non_llm_context_precision_with_reference': 0.0000, 'context_entity_recall': 0.2057}"
      ]
     },
     "execution_count": 6,
     "metadata": {},
     "output_type": "execute_result"
    }
   ],
   "source": [
    "llm = create_chatopenai_model(model_type=model_type, api_key=api_key)\n",
    "\n",
    "eval_results = evaluator.evaluate_configuration(\n",
    "    dataset=synthetic_data,\n",
    "    rag_llm=llm,\n",
    "    document_retriever=GenerativeDocumentRetrieval(\n",
    "        llm=llm,\n",
    "        docstore=docstore,\n",
    "        search_kwargs={\"k\": 1}\n",
    "    )\n",
    ")\n",
    "eval_results"
   ]
  },
  {
   "cell_type": "code",
   "execution_count": 7,
   "metadata": {},
   "outputs": [
    {
     "name": "stderr",
     "output_type": "stream",
     "text": [
      "Evaluating: 100%|██████████| 200/200 [01:51<00:00,  1.80it/s]\n"
     ]
    },
    {
     "data": {
      "text/plain": [
       "{'factual_correctness': 0.2472, 'faithfulness': 0.6955, 'context_recall': 0.1533, 'semantic_similarity': 0.6022, 'non_llm_context_recall': 0.0800, 'llm_context_precision_with_reference': 0.1900, 'non_llm_context_precision_with_reference': 0.0800, 'context_entity_recall': 0.0298}"
      ]
     },
     "execution_count": 7,
     "metadata": {},
     "output_type": "execute_result"
    }
   ],
   "source": [
    "llm = create_chatopenai_model(model_type=model_type, api_key=api_key)\n",
    "\n",
    "eval_results = evaluator.evaluate_configuration(\n",
    "    dataset=synthetic_data,\n",
    "    rag_llm=llm,\n",
    "    document_retriever=QueryAlterationDocumentRetrieval(\n",
    "        llm=llm,\n",
    "        vectorstore=vector_store, \n",
    "        docstore=docstore, \n",
    "        search_kwargs={\"min_score\": 0.3, \"k\": 5, \"num_custom_queires\": 5}\n",
    "    )\n",
    ")\n",
    "eval_results"
   ]
  },
  {
   "cell_type": "code",
   "execution_count": 8,
   "metadata": {},
   "outputs": [
    {
     "name": "stderr",
     "output_type": "stream",
     "text": [
      "Evaluating: 100%|██████████| 200/200 [01:42<00:00,  1.96it/s]\n"
     ]
    },
    {
     "data": {
      "text/plain": [
       "{'factual_correctness': 0.2352, 'faithfulness': 0.6492, 'context_recall': 0.3013, 'semantic_similarity': 0.6146, 'non_llm_context_recall': 0.2000, 'llm_context_precision_with_reference': 0.3567, 'non_llm_context_precision_with_reference': 0.1467, 'context_entity_recall': 0.1307}"
      ]
     },
     "execution_count": 8,
     "metadata": {},
     "output_type": "execute_result"
    }
   ],
   "source": [
    "llm = create_chatopenai_model(model_type=model_type, api_key=api_key)\n",
    "\n",
    "eval_results = evaluator.evaluate_configuration(\n",
    "    dataset=synthetic_data,\n",
    "    rag_llm=llm,\n",
    "    document_retriever=ContextQueryAlterationDocumentRetrieval(\n",
    "        vectorstore=vector_store, \n",
    "        docstore=docstore, \n",
    "        llm=llm,\n",
    "        search_kwargs={\"min_score\": 0.3, \"k\": 5}\n",
    "    )\n",
    ")\n",
    "eval_results"
   ]
  },
  {
   "cell_type": "code",
   "execution_count": 14,
   "metadata": {},
   "outputs": [
    {
     "name": "stdout",
     "output_type": "stream",
     "text": [
      "content='Yes' additional_kwargs={'refusal': None} response_metadata={'token_usage': {'completion_tokens': 2, 'prompt_tokens': 235, 'total_tokens': 237, 'completion_tokens_details': {'accepted_prediction_tokens': 0, 'audio_tokens': None, 'reasoning_tokens': 0, 'rejected_prediction_tokens': 0}, 'prompt_tokens_details': None, 'response_token/s': 32.79, 'prompt_token/s': 117500.0, 'total_duration': 105855569, 'load_duration': 40585935, 'prompt_eval_count': 235, 'prompt_eval_duration': 2000000, 'eval_count': 2, 'eval_duration': 61000000, 'approximate_total': '0h0m0s'}, 'model_name': 'llama3.3:latest', 'system_fingerprint': None, 'finish_reason': 'stop', 'logprobs': None} id='run-7d719f88-862f-4e29-a1aa-f53462f41756-0' usage_metadata={'input_tokens': 235, 'output_tokens': 2, 'total_tokens': 237, 'input_token_details': {}, 'output_token_details': {'reasoning': 0}}\n",
      "Yes\n"
     ]
    },
    {
     "ename": "AttributeError",
     "evalue": "'NoneType' object has no attribute 'get'",
     "output_type": "error",
     "traceback": [
      "\u001b[1;31m---------------------------------------------------------------------------\u001b[0m",
      "\u001b[1;31mAttributeError\u001b[0m                            Traceback (most recent call last)",
      "Cell \u001b[1;32mIn[14], line 3\u001b[0m\n\u001b[0;32m      1\u001b[0m llm \u001b[38;5;241m=\u001b[39m create_chatopenai_model(model_type\u001b[38;5;241m=\u001b[39mmodel_type, api_key\u001b[38;5;241m=\u001b[39mapi_key)\n\u001b[1;32m----> 3\u001b[0m eval_results \u001b[38;5;241m=\u001b[39m \u001b[43mevaluator\u001b[49m\u001b[38;5;241;43m.\u001b[39;49m\u001b[43mevaluate_configuration\u001b[49m\u001b[43m(\u001b[49m\n\u001b[0;32m      4\u001b[0m \u001b[43m    \u001b[49m\u001b[43mdataset\u001b[49m\u001b[38;5;241;43m=\u001b[39;49m\u001b[43msynthetic_data\u001b[49m\u001b[43m,\u001b[49m\n\u001b[0;32m      5\u001b[0m \u001b[43m    \u001b[49m\u001b[43mrag_llm\u001b[49m\u001b[38;5;241;43m=\u001b[39;49m\u001b[43mllm\u001b[49m\u001b[43m,\u001b[49m\n\u001b[0;32m      6\u001b[0m \u001b[43m    \u001b[49m\u001b[43mdocument_retriever\u001b[49m\u001b[38;5;241;43m=\u001b[39;49m\u001b[43mRerankDocumentRetrieval\u001b[49m\u001b[43m(\u001b[49m\n\u001b[0;32m      7\u001b[0m \u001b[43m        \u001b[49m\u001b[43mvectorstore\u001b[49m\u001b[38;5;241;43m=\u001b[39;49m\u001b[43mvector_store\u001b[49m\u001b[43m,\u001b[49m\u001b[43m \u001b[49m\n\u001b[0;32m      8\u001b[0m \u001b[43m        \u001b[49m\u001b[43mdocstore\u001b[49m\u001b[38;5;241;43m=\u001b[39;49m\u001b[43mdocstore\u001b[49m\u001b[43m,\u001b[49m\u001b[43m \u001b[49m\n\u001b[0;32m      9\u001b[0m \u001b[43m        \u001b[49m\u001b[43mllm\u001b[49m\u001b[38;5;241;43m=\u001b[39;49m\u001b[43mllm\u001b[49m\u001b[43m,\u001b[49m\n\u001b[0;32m     10\u001b[0m \u001b[43m        \u001b[49m\u001b[43msearch_kwargs\u001b[49m\u001b[38;5;241;43m=\u001b[39;49m\u001b[43m{\u001b[49m\u001b[38;5;124;43m\"\u001b[39;49m\u001b[38;5;124;43mmin_score\u001b[39;49m\u001b[38;5;124;43m\"\u001b[39;49m\u001b[43m:\u001b[49m\u001b[43m \u001b[49m\u001b[38;5;241;43m0.1\u001b[39;49m\u001b[43m,\u001b[49m\u001b[43m \u001b[49m\u001b[38;5;124;43m\"\u001b[39;49m\u001b[38;5;124;43mk\u001b[39;49m\u001b[38;5;124;43m\"\u001b[39;49m\u001b[43m:\u001b[49m\u001b[43m \u001b[49m\u001b[38;5;241;43m5\u001b[39;49m\u001b[43m}\u001b[49m\n\u001b[0;32m     11\u001b[0m \u001b[43m    \u001b[49m\u001b[43m)\u001b[49m\n\u001b[0;32m     12\u001b[0m \u001b[43m)\u001b[49m\n\u001b[0;32m     13\u001b[0m eval_results\n",
      "File \u001b[1;32mc:\\users\\qwert\\git\\docu-bot\\src\\docu_bot\\evaluation\\evaluate.py:76\u001b[0m, in \u001b[0;36mEvaluator.evaluate_configuration\u001b[1;34m(self, dataset, rag_llm, document_retriever, prompt)\u001b[0m\n\u001b[0;32m     71\u001b[0m output_dataset[\u001b[38;5;124m\"\u001b[39m\u001b[38;5;124mreference\u001b[39m\u001b[38;5;124m\"\u001b[39m]\u001b[38;5;241m.\u001b[39mappend(sample\u001b[38;5;241m.\u001b[39meval_sample\u001b[38;5;241m.\u001b[39mreference)\n\u001b[0;32m     72\u001b[0m output_dataset[\u001b[38;5;124m\"\u001b[39m\u001b[38;5;124mreference_contexts\u001b[39m\u001b[38;5;124m\"\u001b[39m]\u001b[38;5;241m.\u001b[39mappend(\n\u001b[0;32m     73\u001b[0m     sample\u001b[38;5;241m.\u001b[39meval_sample\u001b[38;5;241m.\u001b[39mreference_contexts\n\u001b[0;32m     74\u001b[0m )\n\u001b[0;32m     75\u001b[0m output_dataset[\u001b[38;5;124m\"\u001b[39m\u001b[38;5;124mresponse\u001b[39m\u001b[38;5;124m\"\u001b[39m]\u001b[38;5;241m.\u001b[39mappend(\n\u001b[1;32m---> 76\u001b[0m     \u001b[43mrag_chain\u001b[49m\u001b[38;5;241;43m.\u001b[39;49m\u001b[43minvoke\u001b[49m\u001b[43m(\u001b[49m\u001b[43msample\u001b[49m\u001b[38;5;241;43m.\u001b[39;49m\u001b[43meval_sample\u001b[49m\u001b[38;5;241;43m.\u001b[39;49m\u001b[43muser_input\u001b[49m\u001b[43m)\u001b[49m\n\u001b[0;32m     77\u001b[0m )\n\u001b[0;32m     78\u001b[0m context \u001b[38;5;241m=\u001b[39m document_retriever\u001b[38;5;241m.\u001b[39minvoke(sample\u001b[38;5;241m.\u001b[39meval_sample\u001b[38;5;241m.\u001b[39muser_input)\n\u001b[0;32m     79\u001b[0m \u001b[38;5;28;01mif\u001b[39;00m \u001b[38;5;28mlen\u001b[39m(context) \u001b[38;5;241m==\u001b[39m \u001b[38;5;241m0\u001b[39m:\n",
      "File \u001b[1;32mc:\\Users\\qwert\\Git\\Docu-Bot\\venv\\Lib\\site-packages\\langchain_core\\runnables\\base.py:3022\u001b[0m, in \u001b[0;36mRunnableSequence.invoke\u001b[1;34m(self, input, config, **kwargs)\u001b[0m\n\u001b[0;32m   3020\u001b[0m context\u001b[38;5;241m.\u001b[39mrun(_set_config_context, config)\n\u001b[0;32m   3021\u001b[0m \u001b[38;5;28;01mif\u001b[39;00m i \u001b[38;5;241m==\u001b[39m \u001b[38;5;241m0\u001b[39m:\n\u001b[1;32m-> 3022\u001b[0m     \u001b[38;5;28minput\u001b[39m \u001b[38;5;241m=\u001b[39m \u001b[43mcontext\u001b[49m\u001b[38;5;241;43m.\u001b[39;49m\u001b[43mrun\u001b[49m\u001b[43m(\u001b[49m\u001b[43mstep\u001b[49m\u001b[38;5;241;43m.\u001b[39;49m\u001b[43minvoke\u001b[49m\u001b[43m,\u001b[49m\u001b[43m \u001b[49m\u001b[38;5;28;43minput\u001b[39;49m\u001b[43m,\u001b[49m\u001b[43m \u001b[49m\u001b[43mconfig\u001b[49m\u001b[43m,\u001b[49m\u001b[43m \u001b[49m\u001b[38;5;241;43m*\u001b[39;49m\u001b[38;5;241;43m*\u001b[39;49m\u001b[43mkwargs\u001b[49m\u001b[43m)\u001b[49m\n\u001b[0;32m   3023\u001b[0m \u001b[38;5;28;01melse\u001b[39;00m:\n\u001b[0;32m   3024\u001b[0m     \u001b[38;5;28minput\u001b[39m \u001b[38;5;241m=\u001b[39m context\u001b[38;5;241m.\u001b[39mrun(step\u001b[38;5;241m.\u001b[39minvoke, \u001b[38;5;28minput\u001b[39m, config)\n",
      "File \u001b[1;32mc:\\Users\\qwert\\Git\\Docu-Bot\\venv\\Lib\\site-packages\\langchain_core\\runnables\\base.py:3727\u001b[0m, in \u001b[0;36mRunnableParallel.invoke\u001b[1;34m(self, input, config, **kwargs)\u001b[0m\n\u001b[0;32m   3722\u001b[0m     \u001b[38;5;28;01mwith\u001b[39;00m get_executor_for_config(config) \u001b[38;5;28;01mas\u001b[39;00m executor:\n\u001b[0;32m   3723\u001b[0m         futures \u001b[38;5;241m=\u001b[39m [\n\u001b[0;32m   3724\u001b[0m             executor\u001b[38;5;241m.\u001b[39msubmit(_invoke_step, step, \u001b[38;5;28minput\u001b[39m, config, key)\n\u001b[0;32m   3725\u001b[0m             \u001b[38;5;28;01mfor\u001b[39;00m key, step \u001b[38;5;129;01min\u001b[39;00m steps\u001b[38;5;241m.\u001b[39mitems()\n\u001b[0;32m   3726\u001b[0m         ]\n\u001b[1;32m-> 3727\u001b[0m         output \u001b[38;5;241m=\u001b[39m \u001b[43m{\u001b[49m\u001b[43mkey\u001b[49m\u001b[43m:\u001b[49m\u001b[43m \u001b[49m\u001b[43mfuture\u001b[49m\u001b[38;5;241;43m.\u001b[39;49m\u001b[43mresult\u001b[49m\u001b[43m(\u001b[49m\u001b[43m)\u001b[49m\u001b[43m \u001b[49m\u001b[38;5;28;43;01mfor\u001b[39;49;00m\u001b[43m \u001b[49m\u001b[43mkey\u001b[49m\u001b[43m,\u001b[49m\u001b[43m \u001b[49m\u001b[43mfuture\u001b[49m\u001b[43m \u001b[49m\u001b[38;5;129;43;01min\u001b[39;49;00m\u001b[43m \u001b[49m\u001b[38;5;28;43mzip\u001b[39;49m\u001b[43m(\u001b[49m\u001b[43msteps\u001b[49m\u001b[43m,\u001b[49m\u001b[43m \u001b[49m\u001b[43mfutures\u001b[49m\u001b[43m)\u001b[49m\u001b[43m}\u001b[49m\n\u001b[0;32m   3728\u001b[0m \u001b[38;5;66;03m# finish the root run\u001b[39;00m\n\u001b[0;32m   3729\u001b[0m \u001b[38;5;28;01mexcept\u001b[39;00m \u001b[38;5;167;01mBaseException\u001b[39;00m \u001b[38;5;28;01mas\u001b[39;00m e:\n",
      "File \u001b[1;32mc:\\Users\\qwert\\Git\\Docu-Bot\\venv\\Lib\\site-packages\\langchain_core\\runnables\\base.py:3727\u001b[0m, in \u001b[0;36m<dictcomp>\u001b[1;34m(.0)\u001b[0m\n\u001b[0;32m   3722\u001b[0m     \u001b[38;5;28;01mwith\u001b[39;00m get_executor_for_config(config) \u001b[38;5;28;01mas\u001b[39;00m executor:\n\u001b[0;32m   3723\u001b[0m         futures \u001b[38;5;241m=\u001b[39m [\n\u001b[0;32m   3724\u001b[0m             executor\u001b[38;5;241m.\u001b[39msubmit(_invoke_step, step, \u001b[38;5;28minput\u001b[39m, config, key)\n\u001b[0;32m   3725\u001b[0m             \u001b[38;5;28;01mfor\u001b[39;00m key, step \u001b[38;5;129;01min\u001b[39;00m steps\u001b[38;5;241m.\u001b[39mitems()\n\u001b[0;32m   3726\u001b[0m         ]\n\u001b[1;32m-> 3727\u001b[0m         output \u001b[38;5;241m=\u001b[39m {key: \u001b[43mfuture\u001b[49m\u001b[38;5;241;43m.\u001b[39;49m\u001b[43mresult\u001b[49m\u001b[43m(\u001b[49m\u001b[43m)\u001b[49m \u001b[38;5;28;01mfor\u001b[39;00m key, future \u001b[38;5;129;01min\u001b[39;00m \u001b[38;5;28mzip\u001b[39m(steps, futures)}\n\u001b[0;32m   3728\u001b[0m \u001b[38;5;66;03m# finish the root run\u001b[39;00m\n\u001b[0;32m   3729\u001b[0m \u001b[38;5;28;01mexcept\u001b[39;00m \u001b[38;5;167;01mBaseException\u001b[39;00m \u001b[38;5;28;01mas\u001b[39;00m e:\n",
      "File \u001b[1;32mC:\\Program Files\\WindowsApps\\PythonSoftwareFoundation.Python.3.11_3.11.2544.0_x64__qbz5n2kfra8p0\\Lib\\concurrent\\futures\\_base.py:456\u001b[0m, in \u001b[0;36mFuture.result\u001b[1;34m(self, timeout)\u001b[0m\n\u001b[0;32m    454\u001b[0m     \u001b[38;5;28;01mraise\u001b[39;00m CancelledError()\n\u001b[0;32m    455\u001b[0m \u001b[38;5;28;01melif\u001b[39;00m \u001b[38;5;28mself\u001b[39m\u001b[38;5;241m.\u001b[39m_state \u001b[38;5;241m==\u001b[39m FINISHED:\n\u001b[1;32m--> 456\u001b[0m     \u001b[38;5;28;01mreturn\u001b[39;00m \u001b[38;5;28;43mself\u001b[39;49m\u001b[38;5;241;43m.\u001b[39;49m\u001b[43m__get_result\u001b[49m\u001b[43m(\u001b[49m\u001b[43m)\u001b[49m\n\u001b[0;32m    457\u001b[0m \u001b[38;5;28;01melse\u001b[39;00m:\n\u001b[0;32m    458\u001b[0m     \u001b[38;5;28;01mraise\u001b[39;00m \u001b[38;5;167;01mTimeoutError\u001b[39;00m()\n",
      "File \u001b[1;32mC:\\Program Files\\WindowsApps\\PythonSoftwareFoundation.Python.3.11_3.11.2544.0_x64__qbz5n2kfra8p0\\Lib\\concurrent\\futures\\_base.py:401\u001b[0m, in \u001b[0;36mFuture.__get_result\u001b[1;34m(self)\u001b[0m\n\u001b[0;32m    399\u001b[0m \u001b[38;5;28;01mif\u001b[39;00m \u001b[38;5;28mself\u001b[39m\u001b[38;5;241m.\u001b[39m_exception:\n\u001b[0;32m    400\u001b[0m     \u001b[38;5;28;01mtry\u001b[39;00m:\n\u001b[1;32m--> 401\u001b[0m         \u001b[38;5;28;01mraise\u001b[39;00m \u001b[38;5;28mself\u001b[39m\u001b[38;5;241m.\u001b[39m_exception\n\u001b[0;32m    402\u001b[0m     \u001b[38;5;28;01mfinally\u001b[39;00m:\n\u001b[0;32m    403\u001b[0m         \u001b[38;5;66;03m# Break a reference cycle with the exception in self._exception\u001b[39;00m\n\u001b[0;32m    404\u001b[0m         \u001b[38;5;28mself\u001b[39m \u001b[38;5;241m=\u001b[39m \u001b[38;5;28;01mNone\u001b[39;00m\n",
      "File \u001b[1;32mC:\\Program Files\\WindowsApps\\PythonSoftwareFoundation.Python.3.11_3.11.2544.0_x64__qbz5n2kfra8p0\\Lib\\concurrent\\futures\\thread.py:58\u001b[0m, in \u001b[0;36m_WorkItem.run\u001b[1;34m(self)\u001b[0m\n\u001b[0;32m     55\u001b[0m     \u001b[38;5;28;01mreturn\u001b[39;00m\n\u001b[0;32m     57\u001b[0m \u001b[38;5;28;01mtry\u001b[39;00m:\n\u001b[1;32m---> 58\u001b[0m     result \u001b[38;5;241m=\u001b[39m \u001b[38;5;28;43mself\u001b[39;49m\u001b[38;5;241;43m.\u001b[39;49m\u001b[43mfn\u001b[49m\u001b[43m(\u001b[49m\u001b[38;5;241;43m*\u001b[39;49m\u001b[38;5;28;43mself\u001b[39;49m\u001b[38;5;241;43m.\u001b[39;49m\u001b[43margs\u001b[49m\u001b[43m,\u001b[49m\u001b[43m \u001b[49m\u001b[38;5;241;43m*\u001b[39;49m\u001b[38;5;241;43m*\u001b[39;49m\u001b[38;5;28;43mself\u001b[39;49m\u001b[38;5;241;43m.\u001b[39;49m\u001b[43mkwargs\u001b[49m\u001b[43m)\u001b[49m\n\u001b[0;32m     59\u001b[0m \u001b[38;5;28;01mexcept\u001b[39;00m \u001b[38;5;167;01mBaseException\u001b[39;00m \u001b[38;5;28;01mas\u001b[39;00m exc:\n\u001b[0;32m     60\u001b[0m     \u001b[38;5;28mself\u001b[39m\u001b[38;5;241m.\u001b[39mfuture\u001b[38;5;241m.\u001b[39mset_exception(exc)\n",
      "File \u001b[1;32mc:\\Users\\qwert\\Git\\Docu-Bot\\venv\\Lib\\site-packages\\langchain_core\\runnables\\base.py:3711\u001b[0m, in \u001b[0;36mRunnableParallel.invoke.<locals>._invoke_step\u001b[1;34m(step, input, config, key)\u001b[0m\n\u001b[0;32m   3709\u001b[0m context \u001b[38;5;241m=\u001b[39m copy_context()\n\u001b[0;32m   3710\u001b[0m context\u001b[38;5;241m.\u001b[39mrun(_set_config_context, child_config)\n\u001b[1;32m-> 3711\u001b[0m \u001b[38;5;28;01mreturn\u001b[39;00m context\u001b[38;5;241m.\u001b[39mrun(\n\u001b[0;32m   3712\u001b[0m     step\u001b[38;5;241m.\u001b[39minvoke,\n\u001b[0;32m   3713\u001b[0m     \u001b[38;5;28minput\u001b[39m,\n\u001b[0;32m   3714\u001b[0m     child_config,\n\u001b[0;32m   3715\u001b[0m )\n",
      "File \u001b[1;32mc:\\Users\\qwert\\Git\\Docu-Bot\\venv\\Lib\\site-packages\\langchain_core\\runnables\\base.py:3022\u001b[0m, in \u001b[0;36mRunnableSequence.invoke\u001b[1;34m(self, input, config, **kwargs)\u001b[0m\n\u001b[0;32m   3020\u001b[0m context\u001b[38;5;241m.\u001b[39mrun(_set_config_context, config)\n\u001b[0;32m   3021\u001b[0m \u001b[38;5;28;01mif\u001b[39;00m i \u001b[38;5;241m==\u001b[39m \u001b[38;5;241m0\u001b[39m:\n\u001b[1;32m-> 3022\u001b[0m     \u001b[38;5;28minput\u001b[39m \u001b[38;5;241m=\u001b[39m \u001b[43mcontext\u001b[49m\u001b[38;5;241;43m.\u001b[39;49m\u001b[43mrun\u001b[49m\u001b[43m(\u001b[49m\u001b[43mstep\u001b[49m\u001b[38;5;241;43m.\u001b[39;49m\u001b[43minvoke\u001b[49m\u001b[43m,\u001b[49m\u001b[43m \u001b[49m\u001b[38;5;28;43minput\u001b[39;49m\u001b[43m,\u001b[49m\u001b[43m \u001b[49m\u001b[43mconfig\u001b[49m\u001b[43m,\u001b[49m\u001b[43m \u001b[49m\u001b[38;5;241;43m*\u001b[39;49m\u001b[38;5;241;43m*\u001b[39;49m\u001b[43mkwargs\u001b[49m\u001b[43m)\u001b[49m\n\u001b[0;32m   3023\u001b[0m \u001b[38;5;28;01melse\u001b[39;00m:\n\u001b[0;32m   3024\u001b[0m     \u001b[38;5;28minput\u001b[39m \u001b[38;5;241m=\u001b[39m context\u001b[38;5;241m.\u001b[39mrun(step\u001b[38;5;241m.\u001b[39minvoke, \u001b[38;5;28minput\u001b[39m, config)\n",
      "File \u001b[1;32mc:\\Users\\qwert\\Git\\Docu-Bot\\venv\\Lib\\site-packages\\langchain_core\\retrievers.py:254\u001b[0m, in \u001b[0;36mBaseRetriever.invoke\u001b[1;34m(self, input, config, **kwargs)\u001b[0m\n\u001b[0;32m    252\u001b[0m \u001b[38;5;28;01mexcept\u001b[39;00m \u001b[38;5;167;01mException\u001b[39;00m \u001b[38;5;28;01mas\u001b[39;00m e:\n\u001b[0;32m    253\u001b[0m     run_manager\u001b[38;5;241m.\u001b[39mon_retriever_error(e)\n\u001b[1;32m--> 254\u001b[0m     \u001b[38;5;28;01mraise\u001b[39;00m e\n\u001b[0;32m    255\u001b[0m \u001b[38;5;28;01melse\u001b[39;00m:\n\u001b[0;32m    256\u001b[0m     run_manager\u001b[38;5;241m.\u001b[39mon_retriever_end(\n\u001b[0;32m    257\u001b[0m         result,\n\u001b[0;32m    258\u001b[0m     )\n",
      "File \u001b[1;32mc:\\Users\\qwert\\Git\\Docu-Bot\\venv\\Lib\\site-packages\\langchain_core\\retrievers.py:247\u001b[0m, in \u001b[0;36mBaseRetriever.invoke\u001b[1;34m(self, input, config, **kwargs)\u001b[0m\n\u001b[0;32m    245\u001b[0m _kwargs \u001b[38;5;241m=\u001b[39m kwargs \u001b[38;5;28;01mif\u001b[39;00m \u001b[38;5;28mself\u001b[39m\u001b[38;5;241m.\u001b[39m_expects_other_args \u001b[38;5;28;01melse\u001b[39;00m {}\n\u001b[0;32m    246\u001b[0m \u001b[38;5;28;01mif\u001b[39;00m \u001b[38;5;28mself\u001b[39m\u001b[38;5;241m.\u001b[39m_new_arg_supported:\n\u001b[1;32m--> 247\u001b[0m     result \u001b[38;5;241m=\u001b[39m \u001b[38;5;28;43mself\u001b[39;49m\u001b[38;5;241;43m.\u001b[39;49m\u001b[43m_get_relevant_documents\u001b[49m\u001b[43m(\u001b[49m\n\u001b[0;32m    248\u001b[0m \u001b[43m        \u001b[49m\u001b[38;5;28;43minput\u001b[39;49m\u001b[43m,\u001b[49m\u001b[43m \u001b[49m\u001b[43mrun_manager\u001b[49m\u001b[38;5;241;43m=\u001b[39;49m\u001b[43mrun_manager\u001b[49m\u001b[43m,\u001b[49m\u001b[43m \u001b[49m\u001b[38;5;241;43m*\u001b[39;49m\u001b[38;5;241;43m*\u001b[39;49m\u001b[43m_kwargs\u001b[49m\n\u001b[0;32m    249\u001b[0m \u001b[43m    \u001b[49m\u001b[43m)\u001b[49m\n\u001b[0;32m    250\u001b[0m \u001b[38;5;28;01melse\u001b[39;00m:\n\u001b[0;32m    251\u001b[0m     result \u001b[38;5;241m=\u001b[39m \u001b[38;5;28mself\u001b[39m\u001b[38;5;241m.\u001b[39m_get_relevant_documents(\u001b[38;5;28minput\u001b[39m, \u001b[38;5;241m*\u001b[39m\u001b[38;5;241m*\u001b[39m_kwargs)\n",
      "File \u001b[1;32mc:\\users\\qwert\\git\\docu-bot\\src\\docu_bot\\retrievals\\rerank_retrieval.py:41\u001b[0m, in \u001b[0;36mRerankDocumentRetrieval._get_relevant_documents\u001b[1;34m(self, query, run_manager)\u001b[0m\n\u001b[0;32m     39\u001b[0m \u001b[38;5;28mprint\u001b[39m(msg)\n\u001b[0;32m     40\u001b[0m \u001b[38;5;28mprint\u001b[39m(msg\u001b[38;5;241m.\u001b[39mcontent)\n\u001b[1;32m---> 41\u001b[0m \u001b[38;5;28;01mif\u001b[39;00m \u001b[43mmsg\u001b[49m\u001b[38;5;241;43m.\u001b[39;49m\u001b[43mresponse_metadata\u001b[49m\u001b[43m[\u001b[49m\u001b[38;5;124;43m\"\u001b[39;49m\u001b[38;5;124;43mlogprobs\u001b[39;49m\u001b[38;5;124;43m\"\u001b[39;49m\u001b[43m]\u001b[49m\u001b[38;5;241;43m.\u001b[39;49m\u001b[43mget\u001b[49m(\u001b[38;5;124m\"\u001b[39m\u001b[38;5;124mYes\u001b[39m\u001b[38;5;124m\"\u001b[39m, \u001b[38;5;28;01mNone\u001b[39;00m):\n\u001b[0;32m     42\u001b[0m     score \u001b[38;5;241m=\u001b[39m exp(msg\u001b[38;5;241m.\u001b[39mresponse_metadata[\u001b[38;5;124m\"\u001b[39m\u001b[38;5;124mlogprobs\u001b[39m\u001b[38;5;124m\"\u001b[39m][\u001b[38;5;124m\"\u001b[39m\u001b[38;5;124mYes\u001b[39m\u001b[38;5;124m\"\u001b[39m])\n\u001b[0;32m     44\u001b[0m \u001b[38;5;28;01mif\u001b[39;00m score \u001b[38;5;241m>\u001b[39m min_score:\n",
      "\u001b[1;31mAttributeError\u001b[0m: 'NoneType' object has no attribute 'get'"
     ]
    }
   ],
   "source": [
    "llm = create_chatopenai_model(model_type=model_type, api_key=api_key)\n",
    "\n",
    "eval_results = evaluator.evaluate_configuration(\n",
    "    dataset=synthetic_data,\n",
    "    rag_llm=llm,\n",
    "    document_retriever=RerankDocumentRetrieval(\n",
    "        vectorstore=vector_store, \n",
    "        docstore=docstore, \n",
    "        llm=llm,\n",
    "        search_kwargs={\"min_score\": 0.1, \"k\": 5}\n",
    "    )\n",
    ")\n",
    "eval_results"
   ]
  }
 ],
 "metadata": {
  "kernelspec": {
   "display_name": "venv",
   "language": "python",
   "name": "python3"
  },
  "language_info": {
   "codemirror_mode": {
    "name": "ipython",
    "version": 3
   },
   "file_extension": ".py",
   "mimetype": "text/x-python",
   "name": "python",
   "nbconvert_exporter": "python",
   "pygments_lexer": "ipython3",
   "version": "3.11.9"
  }
 },
 "nbformat": 4,
 "nbformat_minor": 2
}
