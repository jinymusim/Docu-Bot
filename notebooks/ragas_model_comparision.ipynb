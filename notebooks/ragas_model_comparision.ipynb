{
 "cells": [
  {
   "cell_type": "code",
   "execution_count": 1,
   "metadata": {},
   "outputs": [],
   "source": [
    "%load_ext autoreload\n",
    "%autoreload 2"
   ]
  },
  {
   "cell_type": "code",
   "execution_count": 2,
   "metadata": {},
   "outputs": [
    {
     "name": "stderr",
     "output_type": "stream",
     "text": [
      "c:\\Users\\qwert\\Git\\Docu-Bot\\venv\\Lib\\site-packages\\tqdm\\auto.py:21: TqdmWarning: IProgress not found. Please update jupyter and ipywidgets. See https://ipywidgets.readthedocs.io/en/stable/user_install.html\n",
      "  from .autonotebook import tqdm as notebook_tqdm\n"
     ]
    }
   ],
   "source": [
    "import os\n",
    "from getpass import getpass\n",
    "from ragas.embeddings import LangchainEmbeddingsWrapper\n",
    "from ragas.testset import Testset\n",
    "from ragas.llms import LangchainLLMWrapper\n",
    "from docu_bot.utils import create_chatopenai_model, create_openai_embeddings\n",
    "from docu_bot.document_loaders.git_document_loader import GitDocumentLoader\n",
    "from docu_bot.document_loaders.utils import LoadedRepositoriesAndFiles\n",
    "from docu_bot.datasets.generate_synthetic_data_ragas import (\n",
    "    generate_dataset,\n",
    "    create_generator,\n",
    ")\n",
    "from docu_bot.evaluation.evaluate import Evaluator\n",
    "from docu_bot.retrievals.document_retrival import DocumentRetrieval\n",
    "from docu_bot.stores.docstore import DocumentStore\n",
    "from docu_bot.stores.utils import create_vector_store_from_document_loader, LoadedVectorStores"
   ]
  },
  {
   "cell_type": "code",
   "execution_count": null,
   "metadata": {},
   "outputs": [],
   "source": [
    "model_type = \"gpt-4o-mini\"\n",
    "embedding_model_type=\"text-embedding-3-small\"\n",
    "api_key = getpass(\"Enter your OpenAI API key: \")"
   ]
  },
  {
   "cell_type": "markdown",
   "metadata": {},
   "source": [
    "## Generate Sythetic Datase\n"
   ]
  },
  {
   "cell_type": "code",
   "execution_count": null,
   "metadata": {},
   "outputs": [],
   "source": [
    "llm_model = LangchainLLMWrapper(create_chatopenai_model(model_type=model_type, api_key=api_key))\n",
    "embeddings_model = LangchainEmbeddingsWrapper(create_openai_embeddings(model_type=embedding_model_type, api_key=api_key))\n",
    "generator = create_generator(llm_model, embeddings_model)\n",
    "document_loader = GitDocumentLoader(\n",
    "    repo_path=\"https://github.com/jinymusim/serve-model.git\", branch=\"main\", loaded_repositories_and_files=LoadedRepositoriesAndFiles()\n",
    ")"
   ]
  },
  {
   "cell_type": "code",
   "execution_count": 5,
   "metadata": {},
   "outputs": [
    {
     "name": "stderr",
     "output_type": "stream",
     "text": [
      "Generating Scenarios: 100%|██████████| 1/1 [00:06<00:00,  6.96s/it] \n",
      "Generating Samples: 100%|██████████| 40/40 [00:07<00:00,  5.23it/s]\n"
     ]
    }
   ],
   "source": [
    "synthetic_data = generate_dataset(generator, document_loader.load(), dataset_size=50)"
   ]
  },
  {
   "cell_type": "code",
   "execution_count": null,
   "metadata": {},
   "outputs": [],
   "source": [
    "synthetic_data.to_jsonl(\n",
    "    os.path.join(os.path.abspath(''), \"..\", \"datasets\", \"synthetic_data.jsonl\"),\n",
    ")"
   ]
  },
  {
   "cell_type": "markdown",
   "metadata": {},
   "source": [
    "### Use Sythetic Data to test the model"
   ]
  },
  {
   "cell_type": "code",
   "execution_count": 3,
   "metadata": {},
   "outputs": [],
   "source": [
    "model_type = \"Llama-3.2-3B\"\n",
    "api_key = getpass(\"Enter your Metacentrum API key: \")\n",
    "evaluator_llm_model_type = \"gpt-4o-mini\"\n",
    "evaluator_embeddings_model_type = \"text-embedding-3-small\"\n",
    "open_ai_api_key = getpass(\"Enter your OpenAI API key: \")"
   ]
  },
  {
   "cell_type": "code",
   "execution_count": 5,
   "metadata": {},
   "outputs": [],
   "source": [
    "synthetic_data = Testset.from_jsonl(os.path.join(os.path.abspath(''), \"..\", \"datasets\", \"synthetic_data.jsonl\"))\n",
    "document_loader = GitDocumentLoader(\n",
    "    repo_path=\"https://github.com/jinymusim/serve-model.git\", branch=\"main\", loaded_repositories_and_files=LoadedRepositoriesAndFiles()\n",
    ")\n",
    "docstore =DocumentStore()\n",
    "cached_vector_store = LoadedVectorStores()\n",
    "vector_store =create_vector_store_from_document_loader(document_loader, docstore, cached_vector_store)"
   ]
  },
  {
   "cell_type": "code",
   "execution_count": 7,
   "metadata": {},
   "outputs": [],
   "source": [
    "evaluator = Evaluator(\n",
    "    evaluator_llm=create_chatopenai_model(model_type=evaluator_llm_model_type, api_key=open_ai_api_key),\n",
    "    evaluator_embedding_model=create_openai_embeddings(model_type=evaluator_embeddings_model_type, api_key=open_ai_api_key),\n",
    ")"
   ]
  },
  {
   "cell_type": "code",
   "execution_count": 11,
   "metadata": {},
   "outputs": [
    {
     "name": "stderr",
     "output_type": "stream",
     "text": [
      "Evaluating: 100%|██████████| 320/320 [02:50<00:00,  1.88it/s]\n"
     ]
    }
   ],
   "source": [
    "eval_results = evaluator.evaluate_configuration(\n",
    "    dataset=synthetic_data,\n",
    "    rag_llm=create_chatopenai_model(model_type=model_type, api_key=api_key),\n",
    "    document_retriever=DocumentRetrieval(\n",
    "        vectorstore=vector_store, \n",
    "        docstore=docstore, \n",
    "        search_kwargs={\"min_score\": 0.5, \"k\": 1})\n",
    ")"
   ]
  },
  {
   "cell_type": "code",
   "execution_count": 13,
   "metadata": {},
   "outputs": [
    {
     "data": {
      "text/plain": [
       "{'factual_correctness': 0.1630, 'faithfulness': 0.2556, 'context_recall': 0.0375, 'semantic_similarity': 0.5644, 'non_llm_context_recall': 0.0000, 'llm_context_precision_with_reference': 0.0500, 'non_llm_context_precision_with_reference': 0.0000, 'context_entity_recall': 0.0224}"
      ]
     },
     "execution_count": 13,
     "metadata": {},
     "output_type": "execute_result"
    }
   ],
   "source": [
    "eval_results"
   ]
  }
 ],
 "metadata": {
  "kernelspec": {
   "display_name": "venv",
   "language": "python",
   "name": "python3"
  },
  "language_info": {
   "codemirror_mode": {
    "name": "ipython",
    "version": 3
   },
   "file_extension": ".py",
   "mimetype": "text/x-python",
   "name": "python",
   "nbconvert_exporter": "python",
   "pygments_lexer": "ipython3",
   "version": "3.11.9"
  }
 },
 "nbformat": 4,
 "nbformat_minor": 2
}
