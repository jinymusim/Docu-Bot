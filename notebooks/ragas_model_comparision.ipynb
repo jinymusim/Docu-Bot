{
 "cells": [
  {
   "cell_type": "code",
   "execution_count": 1,
   "metadata": {},
   "outputs": [],
   "source": [
    "%load_ext autoreload\n",
    "%autoreload 2"
   ]
  },
  {
   "cell_type": "code",
   "execution_count": 3,
   "metadata": {},
   "outputs": [],
   "source": [
    "import os\n",
    "from getpass import getpass\n",
    "from ragas.embeddings import LangchainEmbeddingsWrapper\n",
    "from ragas.testset import Testset\n",
    "from ragas.llms import LangchainLLMWrapper\n",
    "from docu_bot.utils import create_chatopenai_model, create_openai_embeddings\n",
    "from docu_bot.document_loaders.git_document_loader import GitDocumentLoader\n",
    "from docu_bot.document_loaders.utils import LoadedRepositoriesAndFiles\n",
    "from docu_bot.datasets.generate_synthetic_data_ragas import (\n",
    "    generate_dataset,\n",
    "    create_generator,\n",
    ")\n",
    "from docu_bot.evaluation.evaluate import Evaluator\n",
    "from docu_bot.retrievals.document_retrival import DocumentRetrieval\n",
    "from docu_bot.retrievals.empty_retrieval import EmptyRetrieval\n",
    "from docu_bot.retrievals.context_query_alteration_retrieval import ContextQueryAlterationDocumentRetrieval\n",
    "from docu_bot.retrievals.query_alteration_retrieval import QueryAlterationDocumentRetrieval\n",
    "from docu_bot.retrievals.generative_retrieval import GenerativeDocumentRetrieval\n",
    "\n",
    "from docu_bot.stores.docstore import DocumentStore\n",
    "from docu_bot.stores.utils import create_vector_store_from_document_loader, LoadedVectorStores"
   ]
  },
  {
   "cell_type": "code",
   "execution_count": 3,
   "metadata": {},
   "outputs": [],
   "source": [
    "model_type = \"gpt-4o-mini\"\n",
    "embedding_model_type=\"text-embedding-3-small\"\n",
    "api_key = getpass(\"Enter your OpenAI API key: \")"
   ]
  },
  {
   "cell_type": "markdown",
   "metadata": {},
   "source": [
    "## Generate Sythetic Datase\n"
   ]
  },
  {
   "cell_type": "code",
   "execution_count": 8,
   "metadata": {},
   "outputs": [],
   "source": [
    "llm_model = LangchainLLMWrapper(create_chatopenai_model(model_type=model_type, api_key=api_key))\n",
    "embeddings_model = LangchainEmbeddingsWrapper(create_openai_embeddings(model_type=embedding_model_type, api_key=api_key))\n",
    "generator = create_generator(llm_model, embeddings_model)\n",
    "document_loader = GitDocumentLoader(\n",
    "    repo_path=\"https://github.com/dCache/dcache.git\", branch=\"9.2\", loaded_repositories_and_files=LoadedRepositoriesAndFiles()\n",
    ")"
   ]
  },
  {
   "cell_type": "code",
   "execution_count": 9,
   "metadata": {},
   "outputs": [
    {
     "name": "stderr",
     "output_type": "stream",
     "text": [
      "Generating Scenarios: 100%|██████████| 1/1 [00:55<00:00, 55.02s/it]   \n",
      "Generating Samples: 100%|██████████| 25/25 [00:06<00:00,  3.58it/s]\n"
     ]
    }
   ],
   "source": [
    "synthetic_data = generate_dataset(generator, document_loader.load(), dataset_size=25)"
   ]
  },
  {
   "cell_type": "code",
   "execution_count": 10,
   "metadata": {},
   "outputs": [],
   "source": [
    "synthetic_data.to_jsonl(\n",
    "    os.path.join(os.path.abspath(''), \"..\", \"datasets\", \"dcache_synthetic_data.jsonl\"),\n",
    ")"
   ]
  },
  {
   "cell_type": "markdown",
   "metadata": {},
   "source": [
    "### Use Sythetic Data to test the model"
   ]
  },
  {
   "cell_type": "code",
   "execution_count": 13,
   "metadata": {},
   "outputs": [],
   "source": [
    "model_type = \"llama3.3:latest\"\n",
    "api_key = getpass(\"Enter your Metacentrum API key: \")\n",
    "evaluator_llm_model_type = \"gpt-4o-mini\"\n",
    "evaluator_embeddings_model_type = \"text-embedding-3-small\"\n",
    "open_ai_api_key = getpass(\"Enter your OpenAI API key: \")"
   ]
  },
  {
   "cell_type": "code",
   "execution_count": 14,
   "metadata": {},
   "outputs": [],
   "source": [
    "synthetic_data = Testset.from_jsonl(os.path.join(os.path.abspath(''), \"..\", \"datasets\", \"dcache_synthetic_data.jsonl\"))\n",
    "document_loader = GitDocumentLoader(\n",
    "    repo_path=\"https://github.com/dCache/dcache.git\", branch=\"9.2\", loaded_repositories_and_files=LoadedRepositoriesAndFiles()\n",
    ")\n",
    "docstore =DocumentStore()\n",
    "cached_vector_store = LoadedVectorStores()\n",
    "vector_store =create_vector_store_from_document_loader(document_loader, docstore, cached_vector_store)"
   ]
  },
  {
   "cell_type": "code",
   "execution_count": 15,
   "metadata": {},
   "outputs": [],
   "source": [
    "evaluator = Evaluator(\n",
    "    evaluator_llm=create_chatopenai_model(model_type=evaluator_llm_model_type, api_key=open_ai_api_key),\n",
    "    evaluator_embedding_model=create_openai_embeddings(model_type=evaluator_embeddings_model_type, api_key=open_ai_api_key),\n",
    ")"
   ]
  },
  {
   "cell_type": "code",
   "execution_count": 16,
   "metadata": {},
   "outputs": [
    {
     "name": "stderr",
     "output_type": "stream",
     "text": [
      "Evaluating: 100%|██████████| 200/200 [01:47<00:00,  1.86it/s]\n"
     ]
    },
    {
     "data": {
      "text/plain": [
       "{'factual_correctness': 0.2072, 'faithfulness': 0.5882, 'context_recall': 0.1200, 'semantic_similarity': 0.6592, 'non_llm_context_recall': 0.0000, 'llm_context_precision_with_reference': 0.0533, 'non_llm_context_precision_with_reference': 0.0000, 'context_entity_recall': 0.1002}"
      ]
     },
     "execution_count": 16,
     "metadata": {},
     "output_type": "execute_result"
    }
   ],
   "source": [
    "eval_results = evaluator.evaluate_configuration(\n",
    "    dataset=synthetic_data,\n",
    "    rag_llm=create_chatopenai_model(model_type=model_type, api_key=api_key),\n",
    "    document_retriever=DocumentRetrieval(\n",
    "        vectorstore=vector_store, \n",
    "        docstore=docstore, \n",
    "        search_kwargs={\"min_score\": 0.5, \"k\": 5}\n",
    "    )\n",
    ")\n",
    "eval_results"
   ]
  },
  {
   "cell_type": "code",
   "execution_count": 17,
   "metadata": {},
   "outputs": [
    {
     "name": "stderr",
     "output_type": "stream",
     "text": [
      "Evaluating: 100%|██████████| 200/200 [01:39<00:00,  2.01it/s]\n"
     ]
    },
    {
     "data": {
      "text/plain": [
       "{'factual_correctness': 0.2284, 'faithfulness': 0.4229, 'context_recall': 0.0400, 'semantic_similarity': 0.6927, 'non_llm_context_recall': 0.0000, 'llm_context_precision_with_reference': 0.0000, 'non_llm_context_precision_with_reference': 0.0000, 'context_entity_recall': 0.0000}"
      ]
     },
     "execution_count": 17,
     "metadata": {},
     "output_type": "execute_result"
    }
   ],
   "source": [
    "eval_results = evaluator.evaluate_configuration(\n",
    "    dataset=synthetic_data,\n",
    "    rag_llm=create_chatopenai_model(model_type=model_type, api_key=api_key),\n",
    "    document_retriever=EmptyRetrieval(\n",
    "        docstore=docstore,\n",
    "        search_kwargs={}\n",
    "    )\n",
    ")\n",
    "eval_results"
   ]
  },
  {
   "cell_type": "code",
   "execution_count": 18,
   "metadata": {},
   "outputs": [
    {
     "name": "stderr",
     "output_type": "stream",
     "text": [
      "Evaluating: 100%|██████████| 200/200 [02:06<00:00,  1.59it/s]\n"
     ]
    },
    {
     "data": {
      "text/plain": [
       "{'factual_correctness': 0.1452, 'faithfulness': 0.3945, 'context_recall': 0.1493, 'semantic_similarity': 0.7394, 'non_llm_context_recall': 0.0000, 'llm_context_precision_with_reference': 0.6000, 'non_llm_context_precision_with_reference': 0.0000, 'context_entity_recall': 0.2521}"
      ]
     },
     "execution_count": 18,
     "metadata": {},
     "output_type": "execute_result"
    }
   ],
   "source": [
    "llm = create_chatopenai_model(model_type=model_type, api_key=api_key)\n",
    "\n",
    "eval_results = evaluator.evaluate_configuration(\n",
    "    dataset=synthetic_data,\n",
    "    rag_llm=llm,\n",
    "    document_retriever=GenerativeDocumentRetrieval(\n",
    "        llm=llm,\n",
    "        docstore=docstore,\n",
    "        search_kwargs={\"k\": 1}\n",
    "    )\n",
    ")\n",
    "eval_results"
   ]
  },
  {
   "cell_type": "code",
   "execution_count": 19,
   "metadata": {},
   "outputs": [
    {
     "name": "stderr",
     "output_type": "stream",
     "text": [
      "Evaluating: 100%|██████████| 200/200 [01:21<00:00,  2.44it/s]\n"
     ]
    },
    {
     "data": {
      "text/plain": [
       "{'factual_correctness': 0.1468, 'faithfulness': 0.5575, 'context_recall': 0.1827, 'semantic_similarity': 0.6702, 'non_llm_context_recall': 0.0000, 'llm_context_precision_with_reference': 0.1133, 'non_llm_context_precision_with_reference': 0.0000, 'context_entity_recall': 0.0698}"
      ]
     },
     "execution_count": 19,
     "metadata": {},
     "output_type": "execute_result"
    }
   ],
   "source": [
    "llm = create_chatopenai_model(model_type=model_type, api_key=api_key)\n",
    "\n",
    "eval_results = evaluator.evaluate_configuration(\n",
    "    dataset=synthetic_data,\n",
    "    rag_llm=llm,\n",
    "    document_retriever=QueryAlterationDocumentRetrieval(\n",
    "        llm=llm,\n",
    "        vectorstore=vector_store, \n",
    "        docstore=docstore, \n",
    "        search_kwargs={\"min_score\": 0.5, \"k\": 5, \"num_custom_queires\": 5}\n",
    "    )\n",
    ")\n",
    "eval_results"
   ]
  },
  {
   "cell_type": "code",
   "execution_count": null,
   "metadata": {},
   "outputs": [],
   "source": [
    "llm = create_chatopenai_model(model_type=model_type, api_key=api_key)\n",
    "\n",
    "eval_results = evaluator.evaluate_configuration(\n",
    "    dataset=synthetic_data,\n",
    "    rag_llm=llm,\n",
    "    document_retriever=ContextQueryAlterationDocumentRetrieval(\n",
    "        vectorstore=vector_store, \n",
    "        docstore=docstore, \n",
    "        llm=llm,\n",
    "        search_kwargs={\"min_score\": 0.5, \"k\": 5}\n",
    "    )\n",
    ")\n",
    "eval_results"
   ]
  }
 ],
 "metadata": {
  "kernelspec": {
   "display_name": "venv",
   "language": "python",
   "name": "python3"
  },
  "language_info": {
   "codemirror_mode": {
    "name": "ipython",
    "version": 3
   },
   "file_extension": ".py",
   "mimetype": "text/x-python",
   "name": "python",
   "nbconvert_exporter": "python",
   "pygments_lexer": "ipython3",
   "version": "3.11.9"
  }
 },
 "nbformat": 4,
 "nbformat_minor": 2
}
