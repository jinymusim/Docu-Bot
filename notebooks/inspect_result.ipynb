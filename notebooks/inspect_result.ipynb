{
 "cells": [
  {
   "cell_type": "code",
   "execution_count": 7,
   "metadata": {},
   "outputs": [
    {
     "name": "stdout",
     "output_type": "stream",
     "text": [
      "The autoreload extension is already loaded. To reload it, use:\n",
      "  %reload_ext autoreload\n"
     ]
    }
   ],
   "source": [
    "%load_ext autoreload\n",
    "%autoreload 2"
   ]
  },
  {
   "cell_type": "code",
   "execution_count": 8,
   "metadata": {},
   "outputs": [],
   "source": [
    "import os\n",
    "import pandas as pd\n",
    "import plotly.express as px\n",
    "from glob import glob"
   ]
  },
  {
   "cell_type": "code",
   "execution_count": 13,
   "metadata": {},
   "outputs": [],
   "source": [
    "RESULTS_PATH = os.path.join(os.path.abspath(''), \"..\", \"results\")\n",
    "MODEL_TO_INSPECT = '*' # * for all models otherwise the name of the model\n",
    "DATASET_TO_INSPECT = '*' # * for all datasets otherwise the name of the dataset"
   ]
  },
  {
   "cell_type": "code",
   "execution_count": 14,
   "metadata": {},
   "outputs": [],
   "source": [
    "result_dfs = []\n",
    "for path in glob(os.path.join(RESULTS_PATH, f\"{MODEL_TO_INSPECT}+{DATASET_TO_INSPECT}+*.feather\")):\n",
    "    dataset, model, retrieval = os.path.basename(path).split('+')\n",
    "    result_df = pd.read_feather(path)\n",
    "    result_df['dataset'] = dataset\n",
    "    result_df['model'] = model\n",
    "    result_df['retrieval'] = retrieval\n",
    "    result_dfs.append(result_df)\n",
    "\n",
    "full_results_df = pd.concat(result_dfs)"
   ]
  },
  {
   "cell_type": "code",
   "execution_count": 15,
   "metadata": {},
   "outputs": [],
   "source": [
    "def display_results(\n",
    "    full_results_df, \n",
    "    value_vars = [\n",
    "        \"factual_correctness\",\n",
    "        \"faithfulness\",\n",
    "        \"context_recall\",\n",
    "        \"semantic_similarity\",\n",
    "        \"non_llm_context_recall\",\n",
    "        \"llm_context_precision_with_reference\",\n",
    "        \"non_llm_context_precision_with_reference\",\n",
    "        \"context_entity_recall\",    \n",
    "    ],\n",
    "    display_ttr = False,\n",
    "    \n",
    "):\n",
    "    grouped_results = full_results_df[value_vars + [\"time\"] + ['dataset', 'model', 'retrieval']].groupby(['dataset', 'model', 'retrieval']).mean().reset_index()\n",
    "    \n",
    "    cumul_results = full_results_df[value_vars + [\"time\"] + ['retrieval']].groupby(['retrieval']).mean().reset_index()\n",
    "    \n",
    "    unpivoted_results = grouped_results.melt(\n",
    "        id_vars=['dataset', 'model', 'retrieval'], value_vars=value_vars, var_name='metric', value_name='value'\n",
    "    )\n",
    "    (\n",
    "        px.bar(\n",
    "            unpivoted_results, \n",
    "            x='metric', \n",
    "            y='value', \n",
    "            color='retrieval', \n",
    "            facet_row='dataset', \n",
    "            facet_col='model', \n",
    "            title='Results', \n",
    "            barmode=\"group\",\n",
    "            facet_row_spacing = 0.1,\n",
    "            height=600 * len(unpivoted_results['dataset'].unique()), \n",
    "            width=1200 * len(unpivoted_results['model'].unique()),\n",
    "            )\n",
    "        .update_layout(title_font_size=24)\n",
    "        .update_xaxes(showgrid=True)\n",
    "    ).show()\n",
    "    \n",
    "    unpivoted_results = cumul_results.melt(\n",
    "        id_vars=['retrieval'], value_vars=value_vars, var_name='metric', value_name='value'\n",
    "    )\n",
    "    \n",
    "    (\n",
    "        px.bar(\n",
    "            unpivoted_results, \n",
    "            x='metric', \n",
    "            y='value', \n",
    "            color='retrieval', \n",
    "            title='Cumulative Results', \n",
    "            barmode=\"group\",\n",
    "            height=600, \n",
    "            width=1200,\n",
    "            )\n",
    "        .update_layout(title_font_size=24)\n",
    "        .update_xaxes(showgrid=True)\n",
    "    ).show()\n",
    "    \n",
    "    if display_ttr:\n",
    "        px.bar(\n",
    "            grouped_results, \n",
    "            x='model', \n",
    "            y='time', \n",
    "            color='retrieval', \n",
    "            facet_row='dataset', \n",
    "            title='Time to retrieve', \n",
    "            barmode=\"group\",\n",
    "            facet_row_spacing = 0.1,\n",
    "            height=600 * len(grouped_results['dataset'].unique()), \n",
    "            width=1200,\n",
    "        ).show()"
   ]
  },
  {
   "cell_type": "code",
   "execution_count": 16,
   "metadata": {},
   "outputs": [
    {
     "data": {
      "application/vnd.plotly.v1+json": {
       "config": {
        "plotlyServerURL": "https://plot.ly"
       },
       "data": [
        {
         "alignmentgroup": "True",
         "hovertemplate": "retrieval=context_query_alt_retrieval.feather<br>dataset=dcache_synthetic_data<br>model=aya-expanse_latest<br>metric=%{x}<br>value=%{y}<extra></extra>",
         "legendgroup": "context_query_alt_retrieval.feather",
         "marker": {
          "color": "#636efa",
          "pattern": {
           "shape": ""
          }
         },
         "name": "context_query_alt_retrieval.feather",
         "offsetgroup": "context_query_alt_retrieval.feather",
         "orientation": "v",
         "showlegend": true,
         "textposition": "auto",
         "type": "bar",
         "x": [
          "factual_correctness",
          "faithfulness",
          "context_recall",
          "semantic_similarity",
          "non_llm_context_recall",
          "llm_context_precision_with_reference",
          "non_llm_context_precision_with_reference",
          "context_entity_recall"
         ],
         "xaxis": "x2",
         "y": {
          "bdata": "v58aL90k1j/O5mzO5mzoP+0wdbn9QeY/rZt4tXuq6D97FK5H4XrEP9Nv1TsFNec/sWkAOm2gwz9MEgH6ZpHWPw==",
          "dtype": "f8"
         },
         "yaxis": "y2"
        },
        {
         "alignmentgroup": "True",
         "hovertemplate": "retrieval=context_query_alt_retrieval.feather<br>dataset=it4i_synthetic_data<br>model=aya-expanse_latest<br>metric=%{x}<br>value=%{y}<extra></extra>",
         "legendgroup": "context_query_alt_retrieval.feather",
         "marker": {
          "color": "#636efa",
          "pattern": {
           "shape": ""
          }
         },
         "name": "context_query_alt_retrieval.feather",
         "offsetgroup": "context_query_alt_retrieval.feather",
         "orientation": "v",
         "showlegend": false,
         "textposition": "auto",
         "type": "bar",
         "x": [
          "factual_correctness",
          "faithfulness",
          "context_recall",
          "semantic_similarity",
          "non_llm_context_recall",
          "llm_context_precision_with_reference",
          "non_llm_context_precision_with_reference",
          "context_entity_recall"
         ],
         "xaxis": "x",
         "y": {
          "bdata": "XwfOGVHa2z/070r+zO7jP/o3Qhm9LeM/bnWU86wy6T/sUbgehevRP3cZ9xb/s+U/DUs2Ctej0D89EN/APkHWPw==",
          "dtype": "f8"
         },
         "yaxis": "y"
        },
        {
         "alignmentgroup": "True",
         "hovertemplate": "retrieval=document_retrieval.feather<br>dataset=dcache_synthetic_data<br>model=aya-expanse_latest<br>metric=%{x}<br>value=%{y}<extra></extra>",
         "legendgroup": "document_retrieval.feather",
         "marker": {
          "color": "#EF553B",
          "pattern": {
           "shape": ""
          }
         },
         "name": "document_retrieval.feather",
         "offsetgroup": "document_retrieval.feather",
         "orientation": "v",
         "showlegend": true,
         "textposition": "auto",
         "type": "bar",
         "x": [
          "factual_correctness",
          "faithfulness",
          "context_recall",
          "semantic_similarity",
          "non_llm_context_recall",
          "llm_context_precision_with_reference",
          "non_llm_context_precision_with_reference",
          "context_entity_recall"
         ],
         "xaxis": "x2",
         "y": {
          "bdata": "SZ2AJsKG1z/Ki+kX7pDrP4jPsCtA7uU/t1gCrQXO6D+amZmZmZnJPzuFxOPLgOg/zc2QmZmZyT/2mSldloTWPw==",
          "dtype": "f8"
         },
         "yaxis": "y2"
        },
        {
         "alignmentgroup": "True",
         "hovertemplate": "retrieval=document_retrieval.feather<br>dataset=it4i_synthetic_data<br>model=aya-expanse_latest<br>metric=%{x}<br>value=%{y}<extra></extra>",
         "legendgroup": "document_retrieval.feather",
         "marker": {
          "color": "#EF553B",
          "pattern": {
           "shape": ""
          }
         },
         "name": "document_retrieval.feather",
         "offsetgroup": "document_retrieval.feather",
         "orientation": "v",
         "showlegend": false,
         "textposition": "auto",
         "type": "bar",
         "x": [
          "factual_correctness",
          "faithfulness",
          "context_recall",
          "semantic_similarity",
          "non_llm_context_recall",
          "llm_context_precision_with_reference",
          "non_llm_context_precision_with_reference",
          "context_entity_recall"
         ],
         "xaxis": "x",
         "y": {
          "bdata": "O5LLf0i/3T/3KGUB/CnrPySU0duyVuc/6MGk1ANG6T97FK5H4XrUP0axVI/C9eg/mJ+wHoXr0T+Kgxh7n3LaPw==",
          "dtype": "f8"
         },
         "yaxis": "y"
        },
        {
         "alignmentgroup": "True",
         "hovertemplate": "retrieval=empty_retrieval.feather<br>dataset=dcache_synthetic_data<br>model=aya-expanse_latest<br>metric=%{x}<br>value=%{y}<extra></extra>",
         "legendgroup": "empty_retrieval.feather",
         "marker": {
          "color": "#00cc96",
          "pattern": {
           "shape": ""
          }
         },
         "name": "empty_retrieval.feather",
         "offsetgroup": "empty_retrieval.feather",
         "orientation": "v",
         "showlegend": true,
         "textposition": "auto",
         "type": "bar",
         "x": [
          "factual_correctness",
          "faithfulness",
          "context_recall",
          "semantic_similarity",
          "non_llm_context_recall",
          "llm_context_precision_with_reference",
          "non_llm_context_precision_with_reference",
          "context_entity_recall"
         ],
         "xaxis": "x2",
         "y": {
          "bdata": "eOkmMQiszD/zhieX92TlP3sUrkfheqQ/ic56QCxY5j8AAAAAAAAAAAAAAAAAAAAAAAAAAAAAAAAAAAAAAAAAAA==",
          "dtype": "f8"
         },
         "yaxis": "y2"
        },
        {
         "alignmentgroup": "True",
         "hovertemplate": "retrieval=empty_retrieval.feather<br>dataset=it4i_synthetic_data<br>model=aya-expanse_latest<br>metric=%{x}<br>value=%{y}<extra></extra>",
         "legendgroup": "empty_retrieval.feather",
         "marker": {
          "color": "#00cc96",
          "pattern": {
           "shape": ""
          }
         },
         "name": "empty_retrieval.feather",
         "offsetgroup": "empty_retrieval.feather",
         "orientation": "v",
         "showlegend": false,
         "textposition": "auto",
         "type": "bar",
         "x": [
          "factual_correctness",
          "faithfulness",
          "context_recall",
          "semantic_similarity",
          "non_llm_context_recall",
          "llm_context_precision_with_reference",
          "non_llm_context_precision_with_reference",
          "context_entity_recall"
         ],
         "xaxis": "x",
         "y": {
          "bdata": "CM4ZUdobzD/V3lmFUcLiP3sUrkfheqQ/e4QD7pym5T8AAAAAAAAAAAAAAAAAAAAAAAAAAAAAAAAAAAAAAAAAAA==",
          "dtype": "f8"
         },
         "yaxis": "y"
        },
        {
         "alignmentgroup": "True",
         "hovertemplate": "retrieval=generative_retrieval.feather<br>dataset=dcache_synthetic_data<br>model=aya-expanse_latest<br>metric=%{x}<br>value=%{y}<extra></extra>",
         "legendgroup": "generative_retrieval.feather",
         "marker": {
          "color": "#ab63fa",
          "pattern": {
           "shape": ""
          }
         },
         "name": "generative_retrieval.feather",
         "offsetgroup": "generative_retrieval.feather",
         "orientation": "v",
         "showlegend": true,
         "textposition": "auto",
         "type": "bar",
         "x": [
          "factual_correctness",
          "faithfulness",
          "context_recall",
          "semantic_similarity",
          "non_llm_context_recall",
          "llm_context_precision_with_reference",
          "non_llm_context_precision_with_reference",
          "context_entity_recall"
         ],
         "xaxis": "x2",
         "y": {
          "bdata": "EoPAyqFFxj8K7WCwR3LhPxsv3SQGgcU/zHiM0UwO5z8AAAAAAAAAAAXtd+tRuN4/AAAAAAAAAAAkFoM/rzvQPw==",
          "dtype": "f8"
         },
         "yaxis": "y2"
        },
        {
         "alignmentgroup": "True",
         "hovertemplate": "retrieval=generative_retrieval.feather<br>dataset=it4i_synthetic_data<br>model=aya-expanse_latest<br>metric=%{x}<br>value=%{y}<extra></extra>",
         "legendgroup": "generative_retrieval.feather",
         "marker": {
          "color": "#ab63fa",
          "pattern": {
           "shape": ""
          }
         },
         "name": "generative_retrieval.feather",
         "offsetgroup": "generative_retrieval.feather",
         "orientation": "v",
         "showlegend": false,
         "textposition": "auto",
         "type": "bar",
         "x": [
          "factual_correctness",
          "faithfulness",
          "context_recall",
          "semantic_similarity",
          "non_llm_context_recall",
          "llm_context_precision_with_reference",
          "non_llm_context_precision_with_reference",
          "context_entity_recall"
         ],
         "xaxis": "x",
         "y": {
          "bdata": "QWDl0CLbyT+MdWZx9mviP1K4HoXrUcg/IYvSndyk5j8AAAAAAAAAAAXtd+tRuN4/AAAAAAAAAACaZrKexjbJPw==",
          "dtype": "f8"
         },
         "yaxis": "y"
        },
        {
         "alignmentgroup": "True",
         "hovertemplate": "retrieval=ner_retrieval.feather<br>dataset=dcache_synthetic_data<br>model=aya-expanse_latest<br>metric=%{x}<br>value=%{y}<extra></extra>",
         "legendgroup": "ner_retrieval.feather",
         "marker": {
          "color": "#FFA15A",
          "pattern": {
           "shape": ""
          }
         },
         "name": "ner_retrieval.feather",
         "offsetgroup": "ner_retrieval.feather",
         "orientation": "v",
         "showlegend": true,
         "textposition": "auto",
         "type": "bar",
         "x": [
          "factual_correctness",
          "faithfulness",
          "context_recall",
          "semantic_similarity",
          "non_llm_context_recall",
          "llm_context_precision_with_reference",
          "non_llm_context_precision_with_reference",
          "context_entity_recall"
         ],
         "xaxis": "x2",
         "y": {
          "bdata": "cFj7hrVv2D8aA6YxYFrqPyebbLLJJuM/OyrDi5aq6D+4HoXrUbi+P3dSTb5wOuU/Urcx+/AZtj9alY9QfTvOPw==",
          "dtype": "f8"
         },
         "yaxis": "y2"
        },
        {
         "alignmentgroup": "True",
         "hovertemplate": "retrieval=ner_retrieval.feather<br>dataset=it4i_synthetic_data<br>model=aya-expanse_latest<br>metric=%{x}<br>value=%{y}<extra></extra>",
         "legendgroup": "ner_retrieval.feather",
         "marker": {
          "color": "#FFA15A",
          "pattern": {
           "shape": ""
          }
         },
         "name": "ner_retrieval.feather",
         "offsetgroup": "ner_retrieval.feather",
         "orientation": "v",
         "showlegend": false,
         "textposition": "auto",
         "type": "bar",
         "x": [
          "factual_correctness",
          "faithfulness",
          "context_recall",
          "semantic_similarity",
          "non_llm_context_recall",
          "llm_context_precision_with_reference",
          "non_llm_context_precision_with_reference",
          "context_entity_recall"
         ],
         "xaxis": "x",
         "y": {
          "bdata": "YhBYObTI1j+N3zwyJj3oP7ZgC7ZgC+Q/KBpvXqrh5z/sUbgehevRP5LXD7KQheQ/Be1361G4zj+9eH3d5QDQPw==",
          "dtype": "f8"
         },
         "yaxis": "y"
        },
        {
         "alignmentgroup": "True",
         "hovertemplate": "retrieval=query_alt_retrieval.feather<br>dataset=dcache_synthetic_data<br>model=aya-expanse_latest<br>metric=%{x}<br>value=%{y}<extra></extra>",
         "legendgroup": "query_alt_retrieval.feather",
         "marker": {
          "color": "#19d3f3",
          "pattern": {
           "shape": ""
          }
         },
         "name": "query_alt_retrieval.feather",
         "offsetgroup": "query_alt_retrieval.feather",
         "orientation": "v",
         "showlegend": true,
         "textposition": "auto",
         "type": "bar",
         "x": [
          "factual_correctness",
          "faithfulness",
          "context_recall",
          "semantic_similarity",
          "non_llm_context_recall",
          "llm_context_precision_with_reference",
          "non_llm_context_precision_with_reference",
          "context_entity_recall"
         ],
         "xaxis": "x2",
         "y": {
          "bdata": "XynLEMe62D93QvzGM+7nP121pzNZGOE/ajvjmaq06D97FK5H4XrEP/gsvhsOmuU/N1D/OW2gwz9MHJxmdxLVPw==",
          "dtype": "f8"
         },
         "yaxis": "y2"
        },
        {
         "alignmentgroup": "True",
         "hovertemplate": "retrieval=query_alt_retrieval.feather<br>dataset=it4i_synthetic_data<br>model=aya-expanse_latest<br>metric=%{x}<br>value=%{y}<extra></extra>",
         "legendgroup": "query_alt_retrieval.feather",
         "marker": {
          "color": "#19d3f3",
          "pattern": {
           "shape": ""
          }
         },
         "name": "query_alt_retrieval.feather",
         "offsetgroup": "query_alt_retrieval.feather",
         "orientation": "v",
         "showlegend": false,
         "textposition": "auto",
         "type": "bar",
         "x": [
          "factual_correctness",
          "faithfulness",
          "context_recall",
          "semantic_similarity",
          "non_llm_context_recall",
          "llm_context_precision_with_reference",
          "non_llm_context_precision_with_reference",
          "context_entity_recall"
         ],
         "xaxis": "x",
         "y": {
          "bdata": "gZVDi2zn2z8ayNxab+roP3ZM8GCeqOc/37J7jNnC6D97FK5H4XrUP92yJrKd7+c/mJ+wHoXr0T+z+NrYc5TVPw==",
          "dtype": "f8"
         },
         "yaxis": "y"
        },
        {
         "alignmentgroup": "True",
         "hovertemplate": "retrieval=rerank_retrieval.feather<br>dataset=dcache_synthetic_data<br>model=aya-expanse_latest<br>metric=%{x}<br>value=%{y}<extra></extra>",
         "legendgroup": "rerank_retrieval.feather",
         "marker": {
          "color": "#FF6692",
          "pattern": {
           "shape": ""
          }
         },
         "name": "rerank_retrieval.feather",
         "offsetgroup": "rerank_retrieval.feather",
         "orientation": "v",
         "showlegend": true,
         "textposition": "auto",
         "type": "bar",
         "x": [
          "factual_correctness",
          "faithfulness",
          "context_recall",
          "semantic_similarity",
          "non_llm_context_recall",
          "llm_context_precision_with_reference",
          "non_llm_context_precision_with_reference",
          "context_entity_recall"
         ],
         "xaxis": "x2",
         "y": {
          "bdata": "TYQNT6+U1T/bxSDUgrjrP9fJVXs6k+U/ellPgi6w6D+amZmZmZnJP2Vrt3STGOo/zc2QmZmZyT+62Z1Fb8vWPw==",
          "dtype": "f8"
         },
         "yaxis": "y2"
        },
        {
         "alignmentgroup": "True",
         "hovertemplate": "retrieval=rerank_retrieval.feather<br>dataset=it4i_synthetic_data<br>model=aya-expanse_latest<br>metric=%{x}<br>value=%{y}<extra></extra>",
         "legendgroup": "rerank_retrieval.feather",
         "marker": {
          "color": "#FF6692",
          "pattern": {
           "shape": ""
          }
         },
         "name": "rerank_retrieval.feather",
         "offsetgroup": "rerank_retrieval.feather",
         "orientation": "v",
         "showlegend": false,
         "textposition": "auto",
         "type": "bar",
         "x": [
          "factual_correctness",
          "faithfulness",
          "context_recall",
          "semantic_similarity",
          "non_llm_context_recall",
          "llm_context_precision_with_reference",
          "non_llm_context_precision_with_reference",
          "context_entity_recall"
         ],
         "xaxis": "x",
         "y": {
          "bdata": "hetRuB6F2z9uAY5ge73pPwG511xImuI/KLq3rmC86D97FK5H4XrUP2/l2HoUruc/I/QqMzMz0z93VaCDyYPWPw==",
          "dtype": "f8"
         },
         "yaxis": "y"
        },
        {
         "alignmentgroup": "True",
         "hovertemplate": "retrieval=theme_retrieval.feather<br>dataset=dcache_synthetic_data<br>model=aya-expanse_latest<br>metric=%{x}<br>value=%{y}<extra></extra>",
         "legendgroup": "theme_retrieval.feather",
         "marker": {
          "color": "#B6E880",
          "pattern": {
           "shape": ""
          }
         },
         "name": "theme_retrieval.feather",
         "offsetgroup": "theme_retrieval.feather",
         "orientation": "v",
         "showlegend": true,
         "textposition": "auto",
         "type": "bar",
         "x": [
          "factual_correctness",
          "faithfulness",
          "context_recall",
          "semantic_similarity",
          "non_llm_context_recall",
          "llm_context_precision_with_reference",
          "non_llm_context_precision_with_reference",
          "context_entity_recall"
         ],
         "xaxis": "x2",
         "y": {
          "bdata": "yS+W/GLJ3z9onskcWZ3nP9TrSL2O1OM/n78HmTtp6D+4HoXrUbi+Pz3kWWWEAOU/KAvgtIFOuz+IadJ6e3vTPw==",
          "dtype": "f8"
         },
         "yaxis": "y2"
        },
        {
         "alignmentgroup": "True",
         "hovertemplate": "retrieval=theme_retrieval.feather<br>dataset=it4i_synthetic_data<br>model=aya-expanse_latest<br>metric=%{x}<br>value=%{y}<extra></extra>",
         "legendgroup": "theme_retrieval.feather",
         "marker": {
          "color": "#B6E880",
          "pattern": {
           "shape": ""
          }
         },
         "name": "theme_retrieval.feather",
         "offsetgroup": "theme_retrieval.feather",
         "orientation": "v",
         "showlegend": false,
         "textposition": "auto",
         "type": "bar",
         "x": [
          "factual_correctness",
          "faithfulness",
          "context_recall",
          "semantic_similarity",
          "non_llm_context_recall",
          "llm_context_precision_with_reference",
          "non_llm_context_precision_with_reference",
          "context_entity_recall"
         ],
         "xaxis": "x",
         "y": {
          "bdata": "UrgehetR4D9fu8QXMiXmP6qqqqqqquY/U/7xvM/e6D8K16NwPQrXP8f7gy666Oo/3cntKFyP0j/+t1w8z/PSPw==",
          "dtype": "f8"
         },
         "yaxis": "y"
        }
       ],
       "layout": {
        "annotations": [
         {
          "font": {},
          "showarrow": false,
          "text": "model=aya-expanse_latest",
          "x": 0.49,
          "xanchor": "center",
          "xref": "paper",
          "y": 1,
          "yanchor": "bottom",
          "yref": "paper"
         },
         {
          "font": {},
          "showarrow": false,
          "text": "dataset=it4i_synthetic_data",
          "textangle": 90,
          "x": 0.98,
          "xanchor": "left",
          "xref": "paper",
          "y": 0.225,
          "yanchor": "middle",
          "yref": "paper"
         },
         {
          "font": {},
          "showarrow": false,
          "text": "dataset=dcache_synthetic_data",
          "textangle": 90,
          "x": 0.98,
          "xanchor": "left",
          "xref": "paper",
          "y": 0.775,
          "yanchor": "middle",
          "yref": "paper"
         }
        ],
        "barmode": "group",
        "height": 1200,
        "legend": {
         "title": {
          "text": "retrieval"
         },
         "tracegroupgap": 0
        },
        "template": {
         "data": {
          "bar": [
           {
            "error_x": {
             "color": "#2a3f5f"
            },
            "error_y": {
             "color": "#2a3f5f"
            },
            "marker": {
             "line": {
              "color": "#E5ECF6",
              "width": 0.5
             },
             "pattern": {
              "fillmode": "overlay",
              "size": 10,
              "solidity": 0.2
             }
            },
            "type": "bar"
           }
          ],
          "barpolar": [
           {
            "marker": {
             "line": {
              "color": "#E5ECF6",
              "width": 0.5
             },
             "pattern": {
              "fillmode": "overlay",
              "size": 10,
              "solidity": 0.2
             }
            },
            "type": "barpolar"
           }
          ],
          "carpet": [
           {
            "aaxis": {
             "endlinecolor": "#2a3f5f",
             "gridcolor": "white",
             "linecolor": "white",
             "minorgridcolor": "white",
             "startlinecolor": "#2a3f5f"
            },
            "baxis": {
             "endlinecolor": "#2a3f5f",
             "gridcolor": "white",
             "linecolor": "white",
             "minorgridcolor": "white",
             "startlinecolor": "#2a3f5f"
            },
            "type": "carpet"
           }
          ],
          "choropleth": [
           {
            "colorbar": {
             "outlinewidth": 0,
             "ticks": ""
            },
            "type": "choropleth"
           }
          ],
          "contour": [
           {
            "colorbar": {
             "outlinewidth": 0,
             "ticks": ""
            },
            "colorscale": [
             [
              0,
              "#0d0887"
             ],
             [
              0.1111111111111111,
              "#46039f"
             ],
             [
              0.2222222222222222,
              "#7201a8"
             ],
             [
              0.3333333333333333,
              "#9c179e"
             ],
             [
              0.4444444444444444,
              "#bd3786"
             ],
             [
              0.5555555555555556,
              "#d8576b"
             ],
             [
              0.6666666666666666,
              "#ed7953"
             ],
             [
              0.7777777777777778,
              "#fb9f3a"
             ],
             [
              0.8888888888888888,
              "#fdca26"
             ],
             [
              1,
              "#f0f921"
             ]
            ],
            "type": "contour"
           }
          ],
          "contourcarpet": [
           {
            "colorbar": {
             "outlinewidth": 0,
             "ticks": ""
            },
            "type": "contourcarpet"
           }
          ],
          "heatmap": [
           {
            "colorbar": {
             "outlinewidth": 0,
             "ticks": ""
            },
            "colorscale": [
             [
              0,
              "#0d0887"
             ],
             [
              0.1111111111111111,
              "#46039f"
             ],
             [
              0.2222222222222222,
              "#7201a8"
             ],
             [
              0.3333333333333333,
              "#9c179e"
             ],
             [
              0.4444444444444444,
              "#bd3786"
             ],
             [
              0.5555555555555556,
              "#d8576b"
             ],
             [
              0.6666666666666666,
              "#ed7953"
             ],
             [
              0.7777777777777778,
              "#fb9f3a"
             ],
             [
              0.8888888888888888,
              "#fdca26"
             ],
             [
              1,
              "#f0f921"
             ]
            ],
            "type": "heatmap"
           }
          ],
          "histogram": [
           {
            "marker": {
             "pattern": {
              "fillmode": "overlay",
              "size": 10,
              "solidity": 0.2
             }
            },
            "type": "histogram"
           }
          ],
          "histogram2d": [
           {
            "colorbar": {
             "outlinewidth": 0,
             "ticks": ""
            },
            "colorscale": [
             [
              0,
              "#0d0887"
             ],
             [
              0.1111111111111111,
              "#46039f"
             ],
             [
              0.2222222222222222,
              "#7201a8"
             ],
             [
              0.3333333333333333,
              "#9c179e"
             ],
             [
              0.4444444444444444,
              "#bd3786"
             ],
             [
              0.5555555555555556,
              "#d8576b"
             ],
             [
              0.6666666666666666,
              "#ed7953"
             ],
             [
              0.7777777777777778,
              "#fb9f3a"
             ],
             [
              0.8888888888888888,
              "#fdca26"
             ],
             [
              1,
              "#f0f921"
             ]
            ],
            "type": "histogram2d"
           }
          ],
          "histogram2dcontour": [
           {
            "colorbar": {
             "outlinewidth": 0,
             "ticks": ""
            },
            "colorscale": [
             [
              0,
              "#0d0887"
             ],
             [
              0.1111111111111111,
              "#46039f"
             ],
             [
              0.2222222222222222,
              "#7201a8"
             ],
             [
              0.3333333333333333,
              "#9c179e"
             ],
             [
              0.4444444444444444,
              "#bd3786"
             ],
             [
              0.5555555555555556,
              "#d8576b"
             ],
             [
              0.6666666666666666,
              "#ed7953"
             ],
             [
              0.7777777777777778,
              "#fb9f3a"
             ],
             [
              0.8888888888888888,
              "#fdca26"
             ],
             [
              1,
              "#f0f921"
             ]
            ],
            "type": "histogram2dcontour"
           }
          ],
          "mesh3d": [
           {
            "colorbar": {
             "outlinewidth": 0,
             "ticks": ""
            },
            "type": "mesh3d"
           }
          ],
          "parcoords": [
           {
            "line": {
             "colorbar": {
              "outlinewidth": 0,
              "ticks": ""
             }
            },
            "type": "parcoords"
           }
          ],
          "pie": [
           {
            "automargin": true,
            "type": "pie"
           }
          ],
          "scatter": [
           {
            "fillpattern": {
             "fillmode": "overlay",
             "size": 10,
             "solidity": 0.2
            },
            "type": "scatter"
           }
          ],
          "scatter3d": [
           {
            "line": {
             "colorbar": {
              "outlinewidth": 0,
              "ticks": ""
             }
            },
            "marker": {
             "colorbar": {
              "outlinewidth": 0,
              "ticks": ""
             }
            },
            "type": "scatter3d"
           }
          ],
          "scattercarpet": [
           {
            "marker": {
             "colorbar": {
              "outlinewidth": 0,
              "ticks": ""
             }
            },
            "type": "scattercarpet"
           }
          ],
          "scattergeo": [
           {
            "marker": {
             "colorbar": {
              "outlinewidth": 0,
              "ticks": ""
             }
            },
            "type": "scattergeo"
           }
          ],
          "scattergl": [
           {
            "marker": {
             "colorbar": {
              "outlinewidth": 0,
              "ticks": ""
             }
            },
            "type": "scattergl"
           }
          ],
          "scattermap": [
           {
            "marker": {
             "colorbar": {
              "outlinewidth": 0,
              "ticks": ""
             }
            },
            "type": "scattermap"
           }
          ],
          "scattermapbox": [
           {
            "marker": {
             "colorbar": {
              "outlinewidth": 0,
              "ticks": ""
             }
            },
            "type": "scattermapbox"
           }
          ],
          "scatterpolar": [
           {
            "marker": {
             "colorbar": {
              "outlinewidth": 0,
              "ticks": ""
             }
            },
            "type": "scatterpolar"
           }
          ],
          "scatterpolargl": [
           {
            "marker": {
             "colorbar": {
              "outlinewidth": 0,
              "ticks": ""
             }
            },
            "type": "scatterpolargl"
           }
          ],
          "scatterternary": [
           {
            "marker": {
             "colorbar": {
              "outlinewidth": 0,
              "ticks": ""
             }
            },
            "type": "scatterternary"
           }
          ],
          "surface": [
           {
            "colorbar": {
             "outlinewidth": 0,
             "ticks": ""
            },
            "colorscale": [
             [
              0,
              "#0d0887"
             ],
             [
              0.1111111111111111,
              "#46039f"
             ],
             [
              0.2222222222222222,
              "#7201a8"
             ],
             [
              0.3333333333333333,
              "#9c179e"
             ],
             [
              0.4444444444444444,
              "#bd3786"
             ],
             [
              0.5555555555555556,
              "#d8576b"
             ],
             [
              0.6666666666666666,
              "#ed7953"
             ],
             [
              0.7777777777777778,
              "#fb9f3a"
             ],
             [
              0.8888888888888888,
              "#fdca26"
             ],
             [
              1,
              "#f0f921"
             ]
            ],
            "type": "surface"
           }
          ],
          "table": [
           {
            "cells": {
             "fill": {
              "color": "#EBF0F8"
             },
             "line": {
              "color": "white"
             }
            },
            "header": {
             "fill": {
              "color": "#C8D4E3"
             },
             "line": {
              "color": "white"
             }
            },
            "type": "table"
           }
          ]
         },
         "layout": {
          "annotationdefaults": {
           "arrowcolor": "#2a3f5f",
           "arrowhead": 0,
           "arrowwidth": 1
          },
          "autotypenumbers": "strict",
          "coloraxis": {
           "colorbar": {
            "outlinewidth": 0,
            "ticks": ""
           }
          },
          "colorscale": {
           "diverging": [
            [
             0,
             "#8e0152"
            ],
            [
             0.1,
             "#c51b7d"
            ],
            [
             0.2,
             "#de77ae"
            ],
            [
             0.3,
             "#f1b6da"
            ],
            [
             0.4,
             "#fde0ef"
            ],
            [
             0.5,
             "#f7f7f7"
            ],
            [
             0.6,
             "#e6f5d0"
            ],
            [
             0.7,
             "#b8e186"
            ],
            [
             0.8,
             "#7fbc41"
            ],
            [
             0.9,
             "#4d9221"
            ],
            [
             1,
             "#276419"
            ]
           ],
           "sequential": [
            [
             0,
             "#0d0887"
            ],
            [
             0.1111111111111111,
             "#46039f"
            ],
            [
             0.2222222222222222,
             "#7201a8"
            ],
            [
             0.3333333333333333,
             "#9c179e"
            ],
            [
             0.4444444444444444,
             "#bd3786"
            ],
            [
             0.5555555555555556,
             "#d8576b"
            ],
            [
             0.6666666666666666,
             "#ed7953"
            ],
            [
             0.7777777777777778,
             "#fb9f3a"
            ],
            [
             0.8888888888888888,
             "#fdca26"
            ],
            [
             1,
             "#f0f921"
            ]
           ],
           "sequentialminus": [
            [
             0,
             "#0d0887"
            ],
            [
             0.1111111111111111,
             "#46039f"
            ],
            [
             0.2222222222222222,
             "#7201a8"
            ],
            [
             0.3333333333333333,
             "#9c179e"
            ],
            [
             0.4444444444444444,
             "#bd3786"
            ],
            [
             0.5555555555555556,
             "#d8576b"
            ],
            [
             0.6666666666666666,
             "#ed7953"
            ],
            [
             0.7777777777777778,
             "#fb9f3a"
            ],
            [
             0.8888888888888888,
             "#fdca26"
            ],
            [
             1,
             "#f0f921"
            ]
           ]
          },
          "colorway": [
           "#636efa",
           "#EF553B",
           "#00cc96",
           "#ab63fa",
           "#FFA15A",
           "#19d3f3",
           "#FF6692",
           "#B6E880",
           "#FF97FF",
           "#FECB52"
          ],
          "font": {
           "color": "#2a3f5f"
          },
          "geo": {
           "bgcolor": "white",
           "lakecolor": "white",
           "landcolor": "#E5ECF6",
           "showlakes": true,
           "showland": true,
           "subunitcolor": "white"
          },
          "hoverlabel": {
           "align": "left"
          },
          "hovermode": "closest",
          "mapbox": {
           "style": "light"
          },
          "paper_bgcolor": "white",
          "plot_bgcolor": "#E5ECF6",
          "polar": {
           "angularaxis": {
            "gridcolor": "white",
            "linecolor": "white",
            "ticks": ""
           },
           "bgcolor": "#E5ECF6",
           "radialaxis": {
            "gridcolor": "white",
            "linecolor": "white",
            "ticks": ""
           }
          },
          "scene": {
           "xaxis": {
            "backgroundcolor": "#E5ECF6",
            "gridcolor": "white",
            "gridwidth": 2,
            "linecolor": "white",
            "showbackground": true,
            "ticks": "",
            "zerolinecolor": "white"
           },
           "yaxis": {
            "backgroundcolor": "#E5ECF6",
            "gridcolor": "white",
            "gridwidth": 2,
            "linecolor": "white",
            "showbackground": true,
            "ticks": "",
            "zerolinecolor": "white"
           },
           "zaxis": {
            "backgroundcolor": "#E5ECF6",
            "gridcolor": "white",
            "gridwidth": 2,
            "linecolor": "white",
            "showbackground": true,
            "ticks": "",
            "zerolinecolor": "white"
           }
          },
          "shapedefaults": {
           "line": {
            "color": "#2a3f5f"
           }
          },
          "ternary": {
           "aaxis": {
            "gridcolor": "white",
            "linecolor": "white",
            "ticks": ""
           },
           "baxis": {
            "gridcolor": "white",
            "linecolor": "white",
            "ticks": ""
           },
           "bgcolor": "#E5ECF6",
           "caxis": {
            "gridcolor": "white",
            "linecolor": "white",
            "ticks": ""
           }
          },
          "title": {
           "x": 0.05
          },
          "xaxis": {
           "automargin": true,
           "gridcolor": "white",
           "linecolor": "white",
           "ticks": "",
           "title": {
            "standoff": 15
           },
           "zerolinecolor": "white",
           "zerolinewidth": 2
          },
          "yaxis": {
           "automargin": true,
           "gridcolor": "white",
           "linecolor": "white",
           "ticks": "",
           "title": {
            "standoff": 15
           },
           "zerolinecolor": "white",
           "zerolinewidth": 2
          }
         }
        },
        "title": {
         "font": {
          "size": 24
         },
         "text": "Results"
        },
        "width": 1200,
        "xaxis": {
         "anchor": "y",
         "domain": [
          0,
          0.98
         ],
         "showgrid": true,
         "title": {
          "text": "metric"
         }
        },
        "xaxis2": {
         "anchor": "y2",
         "domain": [
          0,
          0.98
         ],
         "matches": "x",
         "showgrid": true,
         "showticklabels": false
        },
        "yaxis": {
         "anchor": "x",
         "domain": [
          0,
          0.45
         ],
         "title": {
          "text": "value"
         }
        },
        "yaxis2": {
         "anchor": "x2",
         "domain": [
          0.55,
          1
         ],
         "matches": "y",
         "title": {
          "text": "value"
         }
        }
       }
      }
     },
     "metadata": {},
     "output_type": "display_data"
    },
    {
     "data": {
      "application/vnd.plotly.v1+json": {
       "config": {
        "plotlyServerURL": "https://plot.ly"
       },
       "data": [
        {
         "alignmentgroup": "True",
         "hovertemplate": "retrieval=context_query_alt_retrieval.feather<br>metric=%{x}<br>value=%{y}<extra></extra>",
         "legendgroup": "context_query_alt_retrieval.feather",
         "marker": {
          "color": "#636efa",
          "pattern": {
           "shape": ""
          }
         },
         "name": "context_query_alt_retrieval.feather",
         "offsetgroup": "context_query_alt_retrieval.feather",
         "orientation": "v",
         "showlegend": true,
         "textposition": "auto",
         "type": "bar",
         "x": [
          "factual_correctness",
          "faithfulness",
          "context_recall",
          "semantic_similarity",
          "non_llm_context_recall",
          "llm_context_precision_with_reference",
          "non_llm_context_precision_with_reference",
          "context_entity_recall"
         ],
         "xaxis": "x",
         "y": {
          "bdata": "j1N0JJf/2D9h61vm2S3mP3O0W2ndt+Q/joiGVJTu6D8pXI/C9SjMP6VEZimCdOY/5X82pw10yj9EEXDdUmnWPw==",
          "dtype": "f8"
         },
         "yaxis": "y"
        },
        {
         "alignmentgroup": "True",
         "hovertemplate": "retrieval=document_retrieval.feather<br>metric=%{x}<br>value=%{y}<extra></extra>",
         "legendgroup": "document_retrieval.feather",
         "marker": {
          "color": "#EF553B",
          "pattern": {
           "shape": ""
          }
         },
         "name": "document_retrieval.feather",
         "offsetgroup": "document_retrieval.feather",
         "orientation": "v",
         "showlegend": true,
         "textposition": "auto",
         "type": "bar",
         "x": [
          "factual_correctness",
          "faithfulness",
          "context_recall",
          "semantic_similarity",
          "non_llm_context_recall",
          "llm_context_precision_with_reference",
          "non_llm_context_precision_with_reference",
          "context_entity_recall"
         ],
         "xaxis": "x",
         "y": {
          "bdata": "wRcmUwWj2j9hWqcMdV3rP9YxwYN5ouY/T43TwAQK6T+kcD0K16PQP0GbjDlHu+g/fwZ561G4zj/ADiHsmnvYPw==",
          "dtype": "f8"
         },
         "yaxis": "y"
        },
        {
         "alignmentgroup": "True",
         "hovertemplate": "retrieval=empty_retrieval.feather<br>metric=%{x}<br>value=%{y}<extra></extra>",
         "legendgroup": "empty_retrieval.feather",
         "marker": {
          "color": "#00cc96",
          "pattern": {
           "shape": ""
          }
         },
         "name": "empty_retrieval.feather",
         "offsetgroup": "empty_retrieval.feather",
         "orientation": "v",
         "showlegend": true,
         "textposition": "auto",
         "type": "bar",
         "x": [
          "factual_correctness",
          "faithfulness",
          "context_recall",
          "semantic_similarity",
          "non_llm_context_recall",
          "llm_context_precision_with_reference",
          "non_llm_context_precision_with_reference",
          "context_entity_recall"
         ],
         "xaxis": "x",
         "y": {
          "bdata": "wFsgQfFjzD/kskCOpBPkP3sUrkfheqQ/gSk/l2T/5T8AAAAAAAAAAAAAAAAAAAAAAAAAAAAAAAAAAAAAAAAAAA==",
          "dtype": "f8"
         },
         "yaxis": "y"
        },
        {
         "alignmentgroup": "True",
         "hovertemplate": "retrieval=generative_retrieval.feather<br>metric=%{x}<br>value=%{y}<extra></extra>",
         "legendgroup": "generative_retrieval.feather",
         "marker": {
          "color": "#ab63fa",
          "pattern": {
           "shape": ""
          }
         },
         "name": "generative_retrieval.feather",
         "offsetgroup": "generative_retrieval.feather",
         "orientation": "v",
         "showlegend": true,
         "textposition": "auto",
         "type": "bar",
         "x": [
          "factual_correctness",
          "faithfulness",
          "context_recall",
          "semantic_similarity",
          "non_llm_context_recall",
          "llm_context_precision_with_reference",
          "non_llm_context_precision_with_reference",
          "context_entity_recall"
         ],
         "xaxis": "x",
         "y": {
          "bdata": "qvHSTWIQyD9KseMQH+/hP7bz/dR46cY/9oGvt5TZ5j8AAAAAAAAAAAXtd+tRuN4/AAAAAAAAAABxSdyOEtfMPw==",
          "dtype": "f8"
         },
         "yaxis": "y"
        },
        {
         "alignmentgroup": "True",
         "hovertemplate": "retrieval=ner_retrieval.feather<br>metric=%{x}<br>value=%{y}<extra></extra>",
         "legendgroup": "ner_retrieval.feather",
         "marker": {
          "color": "#FFA15A",
          "pattern": {
           "shape": ""
          }
         },
         "name": "ner_retrieval.feather",
         "offsetgroup": "ner_retrieval.feather",
         "orientation": "v",
         "showlegend": true,
         "textposition": "auto",
         "type": "bar",
         "x": [
          "factual_correctness",
          "faithfulness",
          "context_recall",
          "semantic_similarity",
          "non_llm_context_recall",
          "llm_context_precision_with_reference",
          "non_llm_context_precision_with_reference",
          "context_entity_recall"
         ],
         "xaxis": "x",
         "y": {
          "bdata": "X9fsdc1e1z/++7m4CCHpPzoCRVsNnuM/MSIZdSBG6D+amZmZmZnJPyhSumoVwOQ/V2SINKXixD97kNDhdk7PPw==",
          "dtype": "f8"
         },
         "yaxis": "y"
        },
        {
         "alignmentgroup": "True",
         "hovertemplate": "retrieval=query_alt_retrieval.feather<br>metric=%{x}<br>value=%{y}<extra></extra>",
         "legendgroup": "query_alt_retrieval.feather",
         "marker": {
          "color": "#19d3f3",
          "pattern": {
           "shape": ""
          }
         },
         "name": "query_alt_retrieval.feather",
         "offsetgroup": "query_alt_retrieval.feather",
         "orientation": "v",
         "showlegend": true,
         "textposition": "auto",
         "type": "bar",
         "x": [
          "factual_correctness",
          "faithfulness",
          "context_recall",
          "semantic_similarity",
          "non_llm_context_recall",
          "llm_context_precision_with_reference",
          "non_llm_context_precision_with_reference",
          "context_entity_recall"
         ],
         "xaxis": "x",
         "y": {
          "bdata": "b18HzhlR2j9IheyQUWzoP+kATMp7YOQ/JXcvE8K76D+4HoXrUbjOP+pv8ubVxOY/s0ewu7u7yz+AirufdVPVPw==",
          "dtype": "f8"
         },
         "yaxis": "y"
        },
        {
         "alignmentgroup": "True",
         "hovertemplate": "retrieval=rerank_retrieval.feather<br>metric=%{x}<br>value=%{y}<extra></extra>",
         "legendgroup": "rerank_retrieval.feather",
         "marker": {
          "color": "#FF6692",
          "pattern": {
           "shape": ""
          }
         },
         "name": "rerank_retrieval.feather",
         "offsetgroup": "rerank_retrieval.feather",
         "orientation": "v",
         "showlegend": true,
         "textposition": "auto",
         "type": "bar",
         "x": [
          "factual_correctness",
          "faithfulness",
          "context_recall",
          "semantic_similarity",
          "non_llm_context_recall",
          "llm_context_precision_with_reference",
          "non_llm_context_precision_with_reference",
          "context_entity_recall"
         ],
         "xaxis": "x",
         "y": {
          "bdata": "6bevA+eM2D+kY1ca/7rqP2zBFmzBFuQ/0YmDmEe26D+kcD0K16PQP2ooyPdT4+g/Clvz////zz+YF59knKfWPw==",
          "dtype": "f8"
         },
         "yaxis": "y"
        },
        {
         "alignmentgroup": "True",
         "hovertemplate": "retrieval=theme_retrieval.feather<br>metric=%{x}<br>value=%{y}<extra></extra>",
         "legendgroup": "theme_retrieval.feather",
         "marker": {
          "color": "#B6E880",
          "pattern": {
           "shape": ""
          }
         },
         "name": "theme_retrieval.feather",
         "offsetgroup": "theme_retrieval.feather",
         "orientation": "v",
         "showlegend": true,
         "textposition": "auto",
         "type": "bar",
         "x": [
          "factual_correctness",
          "faithfulness",
          "context_recall",
          "semantic_similarity",
          "non_llm_context_recall",
          "llm_context_precision_with_reference",
          "non_llm_context_precision_with_reference",
          "context_entity_recall"
         ],
         "xaxis": "x",
         "y": {
          "bdata": "VRpy7rML4D88DttBve/mPz/L+bOcP+U/+t78qgWk6D+4HoXrUbjOPwPw7kmf9Oc/qMwllvxiyT/ua0LzNT7TPw==",
          "dtype": "f8"
         },
         "yaxis": "y"
        }
       ],
       "layout": {
        "barmode": "group",
        "height": 600,
        "legend": {
         "title": {
          "text": "retrieval"
         },
         "tracegroupgap": 0
        },
        "template": {
         "data": {
          "bar": [
           {
            "error_x": {
             "color": "#2a3f5f"
            },
            "error_y": {
             "color": "#2a3f5f"
            },
            "marker": {
             "line": {
              "color": "#E5ECF6",
              "width": 0.5
             },
             "pattern": {
              "fillmode": "overlay",
              "size": 10,
              "solidity": 0.2
             }
            },
            "type": "bar"
           }
          ],
          "barpolar": [
           {
            "marker": {
             "line": {
              "color": "#E5ECF6",
              "width": 0.5
             },
             "pattern": {
              "fillmode": "overlay",
              "size": 10,
              "solidity": 0.2
             }
            },
            "type": "barpolar"
           }
          ],
          "carpet": [
           {
            "aaxis": {
             "endlinecolor": "#2a3f5f",
             "gridcolor": "white",
             "linecolor": "white",
             "minorgridcolor": "white",
             "startlinecolor": "#2a3f5f"
            },
            "baxis": {
             "endlinecolor": "#2a3f5f",
             "gridcolor": "white",
             "linecolor": "white",
             "minorgridcolor": "white",
             "startlinecolor": "#2a3f5f"
            },
            "type": "carpet"
           }
          ],
          "choropleth": [
           {
            "colorbar": {
             "outlinewidth": 0,
             "ticks": ""
            },
            "type": "choropleth"
           }
          ],
          "contour": [
           {
            "colorbar": {
             "outlinewidth": 0,
             "ticks": ""
            },
            "colorscale": [
             [
              0,
              "#0d0887"
             ],
             [
              0.1111111111111111,
              "#46039f"
             ],
             [
              0.2222222222222222,
              "#7201a8"
             ],
             [
              0.3333333333333333,
              "#9c179e"
             ],
             [
              0.4444444444444444,
              "#bd3786"
             ],
             [
              0.5555555555555556,
              "#d8576b"
             ],
             [
              0.6666666666666666,
              "#ed7953"
             ],
             [
              0.7777777777777778,
              "#fb9f3a"
             ],
             [
              0.8888888888888888,
              "#fdca26"
             ],
             [
              1,
              "#f0f921"
             ]
            ],
            "type": "contour"
           }
          ],
          "contourcarpet": [
           {
            "colorbar": {
             "outlinewidth": 0,
             "ticks": ""
            },
            "type": "contourcarpet"
           }
          ],
          "heatmap": [
           {
            "colorbar": {
             "outlinewidth": 0,
             "ticks": ""
            },
            "colorscale": [
             [
              0,
              "#0d0887"
             ],
             [
              0.1111111111111111,
              "#46039f"
             ],
             [
              0.2222222222222222,
              "#7201a8"
             ],
             [
              0.3333333333333333,
              "#9c179e"
             ],
             [
              0.4444444444444444,
              "#bd3786"
             ],
             [
              0.5555555555555556,
              "#d8576b"
             ],
             [
              0.6666666666666666,
              "#ed7953"
             ],
             [
              0.7777777777777778,
              "#fb9f3a"
             ],
             [
              0.8888888888888888,
              "#fdca26"
             ],
             [
              1,
              "#f0f921"
             ]
            ],
            "type": "heatmap"
           }
          ],
          "histogram": [
           {
            "marker": {
             "pattern": {
              "fillmode": "overlay",
              "size": 10,
              "solidity": 0.2
             }
            },
            "type": "histogram"
           }
          ],
          "histogram2d": [
           {
            "colorbar": {
             "outlinewidth": 0,
             "ticks": ""
            },
            "colorscale": [
             [
              0,
              "#0d0887"
             ],
             [
              0.1111111111111111,
              "#46039f"
             ],
             [
              0.2222222222222222,
              "#7201a8"
             ],
             [
              0.3333333333333333,
              "#9c179e"
             ],
             [
              0.4444444444444444,
              "#bd3786"
             ],
             [
              0.5555555555555556,
              "#d8576b"
             ],
             [
              0.6666666666666666,
              "#ed7953"
             ],
             [
              0.7777777777777778,
              "#fb9f3a"
             ],
             [
              0.8888888888888888,
              "#fdca26"
             ],
             [
              1,
              "#f0f921"
             ]
            ],
            "type": "histogram2d"
           }
          ],
          "histogram2dcontour": [
           {
            "colorbar": {
             "outlinewidth": 0,
             "ticks": ""
            },
            "colorscale": [
             [
              0,
              "#0d0887"
             ],
             [
              0.1111111111111111,
              "#46039f"
             ],
             [
              0.2222222222222222,
              "#7201a8"
             ],
             [
              0.3333333333333333,
              "#9c179e"
             ],
             [
              0.4444444444444444,
              "#bd3786"
             ],
             [
              0.5555555555555556,
              "#d8576b"
             ],
             [
              0.6666666666666666,
              "#ed7953"
             ],
             [
              0.7777777777777778,
              "#fb9f3a"
             ],
             [
              0.8888888888888888,
              "#fdca26"
             ],
             [
              1,
              "#f0f921"
             ]
            ],
            "type": "histogram2dcontour"
           }
          ],
          "mesh3d": [
           {
            "colorbar": {
             "outlinewidth": 0,
             "ticks": ""
            },
            "type": "mesh3d"
           }
          ],
          "parcoords": [
           {
            "line": {
             "colorbar": {
              "outlinewidth": 0,
              "ticks": ""
             }
            },
            "type": "parcoords"
           }
          ],
          "pie": [
           {
            "automargin": true,
            "type": "pie"
           }
          ],
          "scatter": [
           {
            "fillpattern": {
             "fillmode": "overlay",
             "size": 10,
             "solidity": 0.2
            },
            "type": "scatter"
           }
          ],
          "scatter3d": [
           {
            "line": {
             "colorbar": {
              "outlinewidth": 0,
              "ticks": ""
             }
            },
            "marker": {
             "colorbar": {
              "outlinewidth": 0,
              "ticks": ""
             }
            },
            "type": "scatter3d"
           }
          ],
          "scattercarpet": [
           {
            "marker": {
             "colorbar": {
              "outlinewidth": 0,
              "ticks": ""
             }
            },
            "type": "scattercarpet"
           }
          ],
          "scattergeo": [
           {
            "marker": {
             "colorbar": {
              "outlinewidth": 0,
              "ticks": ""
             }
            },
            "type": "scattergeo"
           }
          ],
          "scattergl": [
           {
            "marker": {
             "colorbar": {
              "outlinewidth": 0,
              "ticks": ""
             }
            },
            "type": "scattergl"
           }
          ],
          "scattermap": [
           {
            "marker": {
             "colorbar": {
              "outlinewidth": 0,
              "ticks": ""
             }
            },
            "type": "scattermap"
           }
          ],
          "scattermapbox": [
           {
            "marker": {
             "colorbar": {
              "outlinewidth": 0,
              "ticks": ""
             }
            },
            "type": "scattermapbox"
           }
          ],
          "scatterpolar": [
           {
            "marker": {
             "colorbar": {
              "outlinewidth": 0,
              "ticks": ""
             }
            },
            "type": "scatterpolar"
           }
          ],
          "scatterpolargl": [
           {
            "marker": {
             "colorbar": {
              "outlinewidth": 0,
              "ticks": ""
             }
            },
            "type": "scatterpolargl"
           }
          ],
          "scatterternary": [
           {
            "marker": {
             "colorbar": {
              "outlinewidth": 0,
              "ticks": ""
             }
            },
            "type": "scatterternary"
           }
          ],
          "surface": [
           {
            "colorbar": {
             "outlinewidth": 0,
             "ticks": ""
            },
            "colorscale": [
             [
              0,
              "#0d0887"
             ],
             [
              0.1111111111111111,
              "#46039f"
             ],
             [
              0.2222222222222222,
              "#7201a8"
             ],
             [
              0.3333333333333333,
              "#9c179e"
             ],
             [
              0.4444444444444444,
              "#bd3786"
             ],
             [
              0.5555555555555556,
              "#d8576b"
             ],
             [
              0.6666666666666666,
              "#ed7953"
             ],
             [
              0.7777777777777778,
              "#fb9f3a"
             ],
             [
              0.8888888888888888,
              "#fdca26"
             ],
             [
              1,
              "#f0f921"
             ]
            ],
            "type": "surface"
           }
          ],
          "table": [
           {
            "cells": {
             "fill": {
              "color": "#EBF0F8"
             },
             "line": {
              "color": "white"
             }
            },
            "header": {
             "fill": {
              "color": "#C8D4E3"
             },
             "line": {
              "color": "white"
             }
            },
            "type": "table"
           }
          ]
         },
         "layout": {
          "annotationdefaults": {
           "arrowcolor": "#2a3f5f",
           "arrowhead": 0,
           "arrowwidth": 1
          },
          "autotypenumbers": "strict",
          "coloraxis": {
           "colorbar": {
            "outlinewidth": 0,
            "ticks": ""
           }
          },
          "colorscale": {
           "diverging": [
            [
             0,
             "#8e0152"
            ],
            [
             0.1,
             "#c51b7d"
            ],
            [
             0.2,
             "#de77ae"
            ],
            [
             0.3,
             "#f1b6da"
            ],
            [
             0.4,
             "#fde0ef"
            ],
            [
             0.5,
             "#f7f7f7"
            ],
            [
             0.6,
             "#e6f5d0"
            ],
            [
             0.7,
             "#b8e186"
            ],
            [
             0.8,
             "#7fbc41"
            ],
            [
             0.9,
             "#4d9221"
            ],
            [
             1,
             "#276419"
            ]
           ],
           "sequential": [
            [
             0,
             "#0d0887"
            ],
            [
             0.1111111111111111,
             "#46039f"
            ],
            [
             0.2222222222222222,
             "#7201a8"
            ],
            [
             0.3333333333333333,
             "#9c179e"
            ],
            [
             0.4444444444444444,
             "#bd3786"
            ],
            [
             0.5555555555555556,
             "#d8576b"
            ],
            [
             0.6666666666666666,
             "#ed7953"
            ],
            [
             0.7777777777777778,
             "#fb9f3a"
            ],
            [
             0.8888888888888888,
             "#fdca26"
            ],
            [
             1,
             "#f0f921"
            ]
           ],
           "sequentialminus": [
            [
             0,
             "#0d0887"
            ],
            [
             0.1111111111111111,
             "#46039f"
            ],
            [
             0.2222222222222222,
             "#7201a8"
            ],
            [
             0.3333333333333333,
             "#9c179e"
            ],
            [
             0.4444444444444444,
             "#bd3786"
            ],
            [
             0.5555555555555556,
             "#d8576b"
            ],
            [
             0.6666666666666666,
             "#ed7953"
            ],
            [
             0.7777777777777778,
             "#fb9f3a"
            ],
            [
             0.8888888888888888,
             "#fdca26"
            ],
            [
             1,
             "#f0f921"
            ]
           ]
          },
          "colorway": [
           "#636efa",
           "#EF553B",
           "#00cc96",
           "#ab63fa",
           "#FFA15A",
           "#19d3f3",
           "#FF6692",
           "#B6E880",
           "#FF97FF",
           "#FECB52"
          ],
          "font": {
           "color": "#2a3f5f"
          },
          "geo": {
           "bgcolor": "white",
           "lakecolor": "white",
           "landcolor": "#E5ECF6",
           "showlakes": true,
           "showland": true,
           "subunitcolor": "white"
          },
          "hoverlabel": {
           "align": "left"
          },
          "hovermode": "closest",
          "mapbox": {
           "style": "light"
          },
          "paper_bgcolor": "white",
          "plot_bgcolor": "#E5ECF6",
          "polar": {
           "angularaxis": {
            "gridcolor": "white",
            "linecolor": "white",
            "ticks": ""
           },
           "bgcolor": "#E5ECF6",
           "radialaxis": {
            "gridcolor": "white",
            "linecolor": "white",
            "ticks": ""
           }
          },
          "scene": {
           "xaxis": {
            "backgroundcolor": "#E5ECF6",
            "gridcolor": "white",
            "gridwidth": 2,
            "linecolor": "white",
            "showbackground": true,
            "ticks": "",
            "zerolinecolor": "white"
           },
           "yaxis": {
            "backgroundcolor": "#E5ECF6",
            "gridcolor": "white",
            "gridwidth": 2,
            "linecolor": "white",
            "showbackground": true,
            "ticks": "",
            "zerolinecolor": "white"
           },
           "zaxis": {
            "backgroundcolor": "#E5ECF6",
            "gridcolor": "white",
            "gridwidth": 2,
            "linecolor": "white",
            "showbackground": true,
            "ticks": "",
            "zerolinecolor": "white"
           }
          },
          "shapedefaults": {
           "line": {
            "color": "#2a3f5f"
           }
          },
          "ternary": {
           "aaxis": {
            "gridcolor": "white",
            "linecolor": "white",
            "ticks": ""
           },
           "baxis": {
            "gridcolor": "white",
            "linecolor": "white",
            "ticks": ""
           },
           "bgcolor": "#E5ECF6",
           "caxis": {
            "gridcolor": "white",
            "linecolor": "white",
            "ticks": ""
           }
          },
          "title": {
           "x": 0.05
          },
          "xaxis": {
           "automargin": true,
           "gridcolor": "white",
           "linecolor": "white",
           "ticks": "",
           "title": {
            "standoff": 15
           },
           "zerolinecolor": "white",
           "zerolinewidth": 2
          },
          "yaxis": {
           "automargin": true,
           "gridcolor": "white",
           "linecolor": "white",
           "ticks": "",
           "title": {
            "standoff": 15
           },
           "zerolinecolor": "white",
           "zerolinewidth": 2
          }
         }
        },
        "title": {
         "font": {
          "size": 24
         },
         "text": "Cumulative Results"
        },
        "width": 1200,
        "xaxis": {
         "anchor": "y",
         "domain": [
          0,
          1
         ],
         "showgrid": true,
         "title": {
          "text": "metric"
         }
        },
        "yaxis": {
         "anchor": "x",
         "domain": [
          0,
          1
         ],
         "title": {
          "text": "value"
         }
        }
       }
      }
     },
     "metadata": {},
     "output_type": "display_data"
    },
    {
     "data": {
      "application/vnd.plotly.v1+json": {
       "config": {
        "plotlyServerURL": "https://plot.ly"
       },
       "data": [
        {
         "alignmentgroup": "True",
         "hovertemplate": "retrieval=context_query_alt_retrieval.feather<br>dataset=dcache_synthetic_data<br>model=%{x}<br>time=%{y}<extra></extra>",
         "legendgroup": "context_query_alt_retrieval.feather",
         "marker": {
          "color": "#636efa",
          "pattern": {
           "shape": ""
          }
         },
         "name": "context_query_alt_retrieval.feather",
         "offsetgroup": "context_query_alt_retrieval.feather",
         "orientation": "v",
         "showlegend": true,
         "textposition": "auto",
         "type": "bar",
         "x": [
          "aya-expanse_latest"
         ],
         "xaxis": "x2",
         "y": {
          "bdata": "FK5Hm5guU0A=",
          "dtype": "f8"
         },
         "yaxis": "y2"
        },
        {
         "alignmentgroup": "True",
         "hovertemplate": "retrieval=context_query_alt_retrieval.feather<br>dataset=it4i_synthetic_data<br>model=%{x}<br>time=%{y}<extra></extra>",
         "legendgroup": "context_query_alt_retrieval.feather",
         "marker": {
          "color": "#636efa",
          "pattern": {
           "shape": ""
          }
         },
         "name": "context_query_alt_retrieval.feather",
         "offsetgroup": "context_query_alt_retrieval.feather",
         "orientation": "v",
         "showlegend": false,
         "textposition": "auto",
         "type": "bar",
         "x": [
          "aya-expanse_latest"
         ],
         "xaxis": "x",
         "y": {
          "bdata": "SOF6HfNCVUA=",
          "dtype": "f8"
         },
         "yaxis": "y"
        },
        {
         "alignmentgroup": "True",
         "hovertemplate": "retrieval=document_retrieval.feather<br>dataset=dcache_synthetic_data<br>model=%{x}<br>time=%{y}<extra></extra>",
         "legendgroup": "document_retrieval.feather",
         "marker": {
          "color": "#EF553B",
          "pattern": {
           "shape": ""
          }
         },
         "name": "document_retrieval.feather",
         "offsetgroup": "document_retrieval.feather",
         "orientation": "v",
         "showlegend": true,
         "textposition": "auto",
         "type": "bar",
         "x": [
          "aya-expanse_latest"
         ],
         "xaxis": "x2",
         "y": {
          "bdata": "zczMyPRMMkA=",
          "dtype": "f8"
         },
         "yaxis": "y2"
        },
        {
         "alignmentgroup": "True",
         "hovertemplate": "retrieval=document_retrieval.feather<br>dataset=it4i_synthetic_data<br>model=%{x}<br>time=%{y}<extra></extra>",
         "legendgroup": "document_retrieval.feather",
         "marker": {
          "color": "#EF553B",
          "pattern": {
           "shape": ""
          }
         },
         "name": "document_retrieval.feather",
         "offsetgroup": "document_retrieval.feather",
         "orientation": "v",
         "showlegend": false,
         "textposition": "auto",
         "type": "bar",
         "x": [
          "aya-expanse_latest"
         ],
         "xaxis": "x",
         "y": {
          "bdata": "ZmZmwoHiMkA=",
          "dtype": "f8"
         },
         "yaxis": "y"
        },
        {
         "alignmentgroup": "True",
         "hovertemplate": "retrieval=empty_retrieval.feather<br>dataset=dcache_synthetic_data<br>model=%{x}<br>time=%{y}<extra></extra>",
         "legendgroup": "empty_retrieval.feather",
         "marker": {
          "color": "#00cc96",
          "pattern": {
           "shape": ""
          }
         },
         "name": "empty_retrieval.feather",
         "offsetgroup": "empty_retrieval.feather",
         "orientation": "v",
         "showlegend": true,
         "textposition": "auto",
         "type": "bar",
         "x": [
          "aya-expanse_latest"
         ],
         "xaxis": "x2",
         "y": {
          "bdata": "FK5H+SHdK0A=",
          "dtype": "f8"
         },
         "yaxis": "y2"
        },
        {
         "alignmentgroup": "True",
         "hovertemplate": "retrieval=empty_retrieval.feather<br>dataset=it4i_synthetic_data<br>model=%{x}<br>time=%{y}<extra></extra>",
         "legendgroup": "empty_retrieval.feather",
         "marker": {
          "color": "#00cc96",
          "pattern": {
           "shape": ""
          }
         },
         "name": "empty_retrieval.feather",
         "offsetgroup": "empty_retrieval.feather",
         "orientation": "v",
         "showlegend": false,
         "textposition": "auto",
         "type": "bar",
         "x": [
          "aya-expanse_latest"
         ],
         "xaxis": "x",
         "y": {
          "bdata": "SOF6tA7QKkA=",
          "dtype": "f8"
         },
         "yaxis": "y"
        },
        {
         "alignmentgroup": "True",
         "hovertemplate": "retrieval=generative_retrieval.feather<br>dataset=dcache_synthetic_data<br>model=%{x}<br>time=%{y}<extra></extra>",
         "legendgroup": "generative_retrieval.feather",
         "marker": {
          "color": "#ab63fa",
          "pattern": {
           "shape": ""
          }
         },
         "name": "generative_retrieval.feather",
         "offsetgroup": "generative_retrieval.feather",
         "orientation": "v",
         "showlegend": true,
         "textposition": "auto",
         "type": "bar",
         "x": [
          "aya-expanse_latest"
         ],
         "xaxis": "x2",
         "y": {
          "bdata": "hetR0R2CU0A=",
          "dtype": "f8"
         },
         "yaxis": "y2"
        },
        {
         "alignmentgroup": "True",
         "hovertemplate": "retrieval=generative_retrieval.feather<br>dataset=it4i_synthetic_data<br>model=%{x}<br>time=%{y}<extra></extra>",
         "legendgroup": "generative_retrieval.feather",
         "marker": {
          "color": "#ab63fa",
          "pattern": {
           "shape": ""
          }
         },
         "name": "generative_retrieval.feather",
         "offsetgroup": "generative_retrieval.feather",
         "orientation": "v",
         "showlegend": false,
         "textposition": "auto",
         "type": "bar",
         "x": [
          "aya-expanse_latest"
         ],
         "xaxis": "x",
         "y": {
          "bdata": "cT0KI+jQUkA=",
          "dtype": "f8"
         },
         "yaxis": "y"
        },
        {
         "alignmentgroup": "True",
         "hovertemplate": "retrieval=ner_retrieval.feather<br>dataset=dcache_synthetic_data<br>model=%{x}<br>time=%{y}<extra></extra>",
         "legendgroup": "ner_retrieval.feather",
         "marker": {
          "color": "#FFA15A",
          "pattern": {
           "shape": ""
          }
         },
         "name": "ner_retrieval.feather",
         "offsetgroup": "ner_retrieval.feather",
         "orientation": "v",
         "showlegend": true,
         "textposition": "auto",
         "type": "bar",
         "x": [
          "aya-expanse_latest"
         ],
         "xaxis": "x2",
         "y": {
          "bdata": "cT0KG/YRNUA=",
          "dtype": "f8"
         },
         "yaxis": "y2"
        },
        {
         "alignmentgroup": "True",
         "hovertemplate": "retrieval=ner_retrieval.feather<br>dataset=it4i_synthetic_data<br>model=%{x}<br>time=%{y}<extra></extra>",
         "legendgroup": "ner_retrieval.feather",
         "marker": {
          "color": "#FFA15A",
          "pattern": {
           "shape": ""
          }
         },
         "name": "ner_retrieval.feather",
         "offsetgroup": "ner_retrieval.feather",
         "orientation": "v",
         "showlegend": false,
         "textposition": "auto",
         "type": "bar",
         "x": [
          "aya-expanse_latest"
         ],
         "xaxis": "x",
         "y": {
          "bdata": "hetRBKgPN0A=",
          "dtype": "f8"
         },
         "yaxis": "y"
        },
        {
         "alignmentgroup": "True",
         "hovertemplate": "retrieval=query_alt_retrieval.feather<br>dataset=dcache_synthetic_data<br>model=%{x}<br>time=%{y}<extra></extra>",
         "legendgroup": "query_alt_retrieval.feather",
         "marker": {
          "color": "#19d3f3",
          "pattern": {
           "shape": ""
          }
         },
         "name": "query_alt_retrieval.feather",
         "offsetgroup": "query_alt_retrieval.feather",
         "orientation": "v",
         "showlegend": true,
         "textposition": "auto",
         "type": "bar",
         "x": [
          "aya-expanse_latest"
         ],
         "xaxis": "x2",
         "y": {
          "bdata": "4XoUKrw2PEA=",
          "dtype": "f8"
         },
         "yaxis": "y2"
        },
        {
         "alignmentgroup": "True",
         "hovertemplate": "retrieval=query_alt_retrieval.feather<br>dataset=it4i_synthetic_data<br>model=%{x}<br>time=%{y}<extra></extra>",
         "legendgroup": "query_alt_retrieval.feather",
         "marker": {
          "color": "#19d3f3",
          "pattern": {
           "shape": ""
          }
         },
         "name": "query_alt_retrieval.feather",
         "offsetgroup": "query_alt_retrieval.feather",
         "orientation": "v",
         "showlegend": false,
         "textposition": "auto",
         "type": "bar",
         "x": [
          "aya-expanse_latest"
         ],
         "xaxis": "x",
         "y": {
          "bdata": "AAAAXPeKO0A=",
          "dtype": "f8"
         },
         "yaxis": "y"
        },
        {
         "alignmentgroup": "True",
         "hovertemplate": "retrieval=rerank_retrieval.feather<br>dataset=dcache_synthetic_data<br>model=%{x}<br>time=%{y}<extra></extra>",
         "legendgroup": "rerank_retrieval.feather",
         "marker": {
          "color": "#FF6692",
          "pattern": {
           "shape": ""
          }
         },
         "name": "rerank_retrieval.feather",
         "offsetgroup": "rerank_retrieval.feather",
         "orientation": "v",
         "showlegend": true,
         "textposition": "auto",
         "type": "bar",
         "x": [
          "aya-expanse_latest"
         ],
         "xaxis": "x2",
         "y": {
          "bdata": "pHA90Lo9SkA=",
          "dtype": "f8"
         },
         "yaxis": "y2"
        },
        {
         "alignmentgroup": "True",
         "hovertemplate": "retrieval=rerank_retrieval.feather<br>dataset=it4i_synthetic_data<br>model=%{x}<br>time=%{y}<extra></extra>",
         "legendgroup": "rerank_retrieval.feather",
         "marker": {
          "color": "#FF6692",
          "pattern": {
           "shape": ""
          }
         },
         "name": "rerank_retrieval.feather",
         "offsetgroup": "rerank_retrieval.feather",
         "orientation": "v",
         "showlegend": false,
         "textposition": "auto",
         "type": "bar",
         "x": [
          "aya-expanse_latest"
         ],
         "xaxis": "x",
         "y": {
          "bdata": "16NwOWoVSUA=",
          "dtype": "f8"
         },
         "yaxis": "y"
        },
        {
         "alignmentgroup": "True",
         "hovertemplate": "retrieval=theme_retrieval.feather<br>dataset=dcache_synthetic_data<br>model=%{x}<br>time=%{y}<extra></extra>",
         "legendgroup": "theme_retrieval.feather",
         "marker": {
          "color": "#B6E880",
          "pattern": {
           "shape": ""
          }
         },
         "name": "theme_retrieval.feather",
         "offsetgroup": "theme_retrieval.feather",
         "orientation": "v",
         "showlegend": true,
         "textposition": "auto",
         "type": "bar",
         "x": [
          "aya-expanse_latest"
         ],
         "xaxis": "x2",
         "y": {
          "bdata": "4XoUGn6cOEA=",
          "dtype": "f8"
         },
         "yaxis": "y2"
        },
        {
         "alignmentgroup": "True",
         "hovertemplate": "retrieval=theme_retrieval.feather<br>dataset=it4i_synthetic_data<br>model=%{x}<br>time=%{y}<extra></extra>",
         "legendgroup": "theme_retrieval.feather",
         "marker": {
          "color": "#B6E880",
          "pattern": {
           "shape": ""
          }
         },
         "name": "theme_retrieval.feather",
         "offsetgroup": "theme_retrieval.feather",
         "orientation": "v",
         "showlegend": false,
         "textposition": "auto",
         "type": "bar",
         "x": [
          "aya-expanse_latest"
         ],
         "xaxis": "x",
         "y": {
          "bdata": "SOF6sIdEOEA=",
          "dtype": "f8"
         },
         "yaxis": "y"
        }
       ],
       "layout": {
        "annotations": [
         {
          "font": {},
          "showarrow": false,
          "text": "dataset=it4i_synthetic_data",
          "textangle": 90,
          "x": 0.98,
          "xanchor": "left",
          "xref": "paper",
          "y": 0.225,
          "yanchor": "middle",
          "yref": "paper"
         },
         {
          "font": {},
          "showarrow": false,
          "text": "dataset=dcache_synthetic_data",
          "textangle": 90,
          "x": 0.98,
          "xanchor": "left",
          "xref": "paper",
          "y": 0.775,
          "yanchor": "middle",
          "yref": "paper"
         }
        ],
        "barmode": "group",
        "height": 1200,
        "legend": {
         "title": {
          "text": "retrieval"
         },
         "tracegroupgap": 0
        },
        "template": {
         "data": {
          "bar": [
           {
            "error_x": {
             "color": "#2a3f5f"
            },
            "error_y": {
             "color": "#2a3f5f"
            },
            "marker": {
             "line": {
              "color": "#E5ECF6",
              "width": 0.5
             },
             "pattern": {
              "fillmode": "overlay",
              "size": 10,
              "solidity": 0.2
             }
            },
            "type": "bar"
           }
          ],
          "barpolar": [
           {
            "marker": {
             "line": {
              "color": "#E5ECF6",
              "width": 0.5
             },
             "pattern": {
              "fillmode": "overlay",
              "size": 10,
              "solidity": 0.2
             }
            },
            "type": "barpolar"
           }
          ],
          "carpet": [
           {
            "aaxis": {
             "endlinecolor": "#2a3f5f",
             "gridcolor": "white",
             "linecolor": "white",
             "minorgridcolor": "white",
             "startlinecolor": "#2a3f5f"
            },
            "baxis": {
             "endlinecolor": "#2a3f5f",
             "gridcolor": "white",
             "linecolor": "white",
             "minorgridcolor": "white",
             "startlinecolor": "#2a3f5f"
            },
            "type": "carpet"
           }
          ],
          "choropleth": [
           {
            "colorbar": {
             "outlinewidth": 0,
             "ticks": ""
            },
            "type": "choropleth"
           }
          ],
          "contour": [
           {
            "colorbar": {
             "outlinewidth": 0,
             "ticks": ""
            },
            "colorscale": [
             [
              0,
              "#0d0887"
             ],
             [
              0.1111111111111111,
              "#46039f"
             ],
             [
              0.2222222222222222,
              "#7201a8"
             ],
             [
              0.3333333333333333,
              "#9c179e"
             ],
             [
              0.4444444444444444,
              "#bd3786"
             ],
             [
              0.5555555555555556,
              "#d8576b"
             ],
             [
              0.6666666666666666,
              "#ed7953"
             ],
             [
              0.7777777777777778,
              "#fb9f3a"
             ],
             [
              0.8888888888888888,
              "#fdca26"
             ],
             [
              1,
              "#f0f921"
             ]
            ],
            "type": "contour"
           }
          ],
          "contourcarpet": [
           {
            "colorbar": {
             "outlinewidth": 0,
             "ticks": ""
            },
            "type": "contourcarpet"
           }
          ],
          "heatmap": [
           {
            "colorbar": {
             "outlinewidth": 0,
             "ticks": ""
            },
            "colorscale": [
             [
              0,
              "#0d0887"
             ],
             [
              0.1111111111111111,
              "#46039f"
             ],
             [
              0.2222222222222222,
              "#7201a8"
             ],
             [
              0.3333333333333333,
              "#9c179e"
             ],
             [
              0.4444444444444444,
              "#bd3786"
             ],
             [
              0.5555555555555556,
              "#d8576b"
             ],
             [
              0.6666666666666666,
              "#ed7953"
             ],
             [
              0.7777777777777778,
              "#fb9f3a"
             ],
             [
              0.8888888888888888,
              "#fdca26"
             ],
             [
              1,
              "#f0f921"
             ]
            ],
            "type": "heatmap"
           }
          ],
          "histogram": [
           {
            "marker": {
             "pattern": {
              "fillmode": "overlay",
              "size": 10,
              "solidity": 0.2
             }
            },
            "type": "histogram"
           }
          ],
          "histogram2d": [
           {
            "colorbar": {
             "outlinewidth": 0,
             "ticks": ""
            },
            "colorscale": [
             [
              0,
              "#0d0887"
             ],
             [
              0.1111111111111111,
              "#46039f"
             ],
             [
              0.2222222222222222,
              "#7201a8"
             ],
             [
              0.3333333333333333,
              "#9c179e"
             ],
             [
              0.4444444444444444,
              "#bd3786"
             ],
             [
              0.5555555555555556,
              "#d8576b"
             ],
             [
              0.6666666666666666,
              "#ed7953"
             ],
             [
              0.7777777777777778,
              "#fb9f3a"
             ],
             [
              0.8888888888888888,
              "#fdca26"
             ],
             [
              1,
              "#f0f921"
             ]
            ],
            "type": "histogram2d"
           }
          ],
          "histogram2dcontour": [
           {
            "colorbar": {
             "outlinewidth": 0,
             "ticks": ""
            },
            "colorscale": [
             [
              0,
              "#0d0887"
             ],
             [
              0.1111111111111111,
              "#46039f"
             ],
             [
              0.2222222222222222,
              "#7201a8"
             ],
             [
              0.3333333333333333,
              "#9c179e"
             ],
             [
              0.4444444444444444,
              "#bd3786"
             ],
             [
              0.5555555555555556,
              "#d8576b"
             ],
             [
              0.6666666666666666,
              "#ed7953"
             ],
             [
              0.7777777777777778,
              "#fb9f3a"
             ],
             [
              0.8888888888888888,
              "#fdca26"
             ],
             [
              1,
              "#f0f921"
             ]
            ],
            "type": "histogram2dcontour"
           }
          ],
          "mesh3d": [
           {
            "colorbar": {
             "outlinewidth": 0,
             "ticks": ""
            },
            "type": "mesh3d"
           }
          ],
          "parcoords": [
           {
            "line": {
             "colorbar": {
              "outlinewidth": 0,
              "ticks": ""
             }
            },
            "type": "parcoords"
           }
          ],
          "pie": [
           {
            "automargin": true,
            "type": "pie"
           }
          ],
          "scatter": [
           {
            "fillpattern": {
             "fillmode": "overlay",
             "size": 10,
             "solidity": 0.2
            },
            "type": "scatter"
           }
          ],
          "scatter3d": [
           {
            "line": {
             "colorbar": {
              "outlinewidth": 0,
              "ticks": ""
             }
            },
            "marker": {
             "colorbar": {
              "outlinewidth": 0,
              "ticks": ""
             }
            },
            "type": "scatter3d"
           }
          ],
          "scattercarpet": [
           {
            "marker": {
             "colorbar": {
              "outlinewidth": 0,
              "ticks": ""
             }
            },
            "type": "scattercarpet"
           }
          ],
          "scattergeo": [
           {
            "marker": {
             "colorbar": {
              "outlinewidth": 0,
              "ticks": ""
             }
            },
            "type": "scattergeo"
           }
          ],
          "scattergl": [
           {
            "marker": {
             "colorbar": {
              "outlinewidth": 0,
              "ticks": ""
             }
            },
            "type": "scattergl"
           }
          ],
          "scattermap": [
           {
            "marker": {
             "colorbar": {
              "outlinewidth": 0,
              "ticks": ""
             }
            },
            "type": "scattermap"
           }
          ],
          "scattermapbox": [
           {
            "marker": {
             "colorbar": {
              "outlinewidth": 0,
              "ticks": ""
             }
            },
            "type": "scattermapbox"
           }
          ],
          "scatterpolar": [
           {
            "marker": {
             "colorbar": {
              "outlinewidth": 0,
              "ticks": ""
             }
            },
            "type": "scatterpolar"
           }
          ],
          "scatterpolargl": [
           {
            "marker": {
             "colorbar": {
              "outlinewidth": 0,
              "ticks": ""
             }
            },
            "type": "scatterpolargl"
           }
          ],
          "scatterternary": [
           {
            "marker": {
             "colorbar": {
              "outlinewidth": 0,
              "ticks": ""
             }
            },
            "type": "scatterternary"
           }
          ],
          "surface": [
           {
            "colorbar": {
             "outlinewidth": 0,
             "ticks": ""
            },
            "colorscale": [
             [
              0,
              "#0d0887"
             ],
             [
              0.1111111111111111,
              "#46039f"
             ],
             [
              0.2222222222222222,
              "#7201a8"
             ],
             [
              0.3333333333333333,
              "#9c179e"
             ],
             [
              0.4444444444444444,
              "#bd3786"
             ],
             [
              0.5555555555555556,
              "#d8576b"
             ],
             [
              0.6666666666666666,
              "#ed7953"
             ],
             [
              0.7777777777777778,
              "#fb9f3a"
             ],
             [
              0.8888888888888888,
              "#fdca26"
             ],
             [
              1,
              "#f0f921"
             ]
            ],
            "type": "surface"
           }
          ],
          "table": [
           {
            "cells": {
             "fill": {
              "color": "#EBF0F8"
             },
             "line": {
              "color": "white"
             }
            },
            "header": {
             "fill": {
              "color": "#C8D4E3"
             },
             "line": {
              "color": "white"
             }
            },
            "type": "table"
           }
          ]
         },
         "layout": {
          "annotationdefaults": {
           "arrowcolor": "#2a3f5f",
           "arrowhead": 0,
           "arrowwidth": 1
          },
          "autotypenumbers": "strict",
          "coloraxis": {
           "colorbar": {
            "outlinewidth": 0,
            "ticks": ""
           }
          },
          "colorscale": {
           "diverging": [
            [
             0,
             "#8e0152"
            ],
            [
             0.1,
             "#c51b7d"
            ],
            [
             0.2,
             "#de77ae"
            ],
            [
             0.3,
             "#f1b6da"
            ],
            [
             0.4,
             "#fde0ef"
            ],
            [
             0.5,
             "#f7f7f7"
            ],
            [
             0.6,
             "#e6f5d0"
            ],
            [
             0.7,
             "#b8e186"
            ],
            [
             0.8,
             "#7fbc41"
            ],
            [
             0.9,
             "#4d9221"
            ],
            [
             1,
             "#276419"
            ]
           ],
           "sequential": [
            [
             0,
             "#0d0887"
            ],
            [
             0.1111111111111111,
             "#46039f"
            ],
            [
             0.2222222222222222,
             "#7201a8"
            ],
            [
             0.3333333333333333,
             "#9c179e"
            ],
            [
             0.4444444444444444,
             "#bd3786"
            ],
            [
             0.5555555555555556,
             "#d8576b"
            ],
            [
             0.6666666666666666,
             "#ed7953"
            ],
            [
             0.7777777777777778,
             "#fb9f3a"
            ],
            [
             0.8888888888888888,
             "#fdca26"
            ],
            [
             1,
             "#f0f921"
            ]
           ],
           "sequentialminus": [
            [
             0,
             "#0d0887"
            ],
            [
             0.1111111111111111,
             "#46039f"
            ],
            [
             0.2222222222222222,
             "#7201a8"
            ],
            [
             0.3333333333333333,
             "#9c179e"
            ],
            [
             0.4444444444444444,
             "#bd3786"
            ],
            [
             0.5555555555555556,
             "#d8576b"
            ],
            [
             0.6666666666666666,
             "#ed7953"
            ],
            [
             0.7777777777777778,
             "#fb9f3a"
            ],
            [
             0.8888888888888888,
             "#fdca26"
            ],
            [
             1,
             "#f0f921"
            ]
           ]
          },
          "colorway": [
           "#636efa",
           "#EF553B",
           "#00cc96",
           "#ab63fa",
           "#FFA15A",
           "#19d3f3",
           "#FF6692",
           "#B6E880",
           "#FF97FF",
           "#FECB52"
          ],
          "font": {
           "color": "#2a3f5f"
          },
          "geo": {
           "bgcolor": "white",
           "lakecolor": "white",
           "landcolor": "#E5ECF6",
           "showlakes": true,
           "showland": true,
           "subunitcolor": "white"
          },
          "hoverlabel": {
           "align": "left"
          },
          "hovermode": "closest",
          "mapbox": {
           "style": "light"
          },
          "paper_bgcolor": "white",
          "plot_bgcolor": "#E5ECF6",
          "polar": {
           "angularaxis": {
            "gridcolor": "white",
            "linecolor": "white",
            "ticks": ""
           },
           "bgcolor": "#E5ECF6",
           "radialaxis": {
            "gridcolor": "white",
            "linecolor": "white",
            "ticks": ""
           }
          },
          "scene": {
           "xaxis": {
            "backgroundcolor": "#E5ECF6",
            "gridcolor": "white",
            "gridwidth": 2,
            "linecolor": "white",
            "showbackground": true,
            "ticks": "",
            "zerolinecolor": "white"
           },
           "yaxis": {
            "backgroundcolor": "#E5ECF6",
            "gridcolor": "white",
            "gridwidth": 2,
            "linecolor": "white",
            "showbackground": true,
            "ticks": "",
            "zerolinecolor": "white"
           },
           "zaxis": {
            "backgroundcolor": "#E5ECF6",
            "gridcolor": "white",
            "gridwidth": 2,
            "linecolor": "white",
            "showbackground": true,
            "ticks": "",
            "zerolinecolor": "white"
           }
          },
          "shapedefaults": {
           "line": {
            "color": "#2a3f5f"
           }
          },
          "ternary": {
           "aaxis": {
            "gridcolor": "white",
            "linecolor": "white",
            "ticks": ""
           },
           "baxis": {
            "gridcolor": "white",
            "linecolor": "white",
            "ticks": ""
           },
           "bgcolor": "#E5ECF6",
           "caxis": {
            "gridcolor": "white",
            "linecolor": "white",
            "ticks": ""
           }
          },
          "title": {
           "x": 0.05
          },
          "xaxis": {
           "automargin": true,
           "gridcolor": "white",
           "linecolor": "white",
           "ticks": "",
           "title": {
            "standoff": 15
           },
           "zerolinecolor": "white",
           "zerolinewidth": 2
          },
          "yaxis": {
           "automargin": true,
           "gridcolor": "white",
           "linecolor": "white",
           "ticks": "",
           "title": {
            "standoff": 15
           },
           "zerolinecolor": "white",
           "zerolinewidth": 2
          }
         }
        },
        "title": {
         "text": "Time to retrieve"
        },
        "width": 1200,
        "xaxis": {
         "anchor": "y",
         "domain": [
          0,
          0.98
         ],
         "title": {
          "text": "model"
         }
        },
        "xaxis2": {
         "anchor": "y2",
         "domain": [
          0,
          0.98
         ],
         "matches": "x",
         "showticklabels": false
        },
        "yaxis": {
         "anchor": "x",
         "domain": [
          0,
          0.45
         ],
         "title": {
          "text": "time"
         }
        },
        "yaxis2": {
         "anchor": "x2",
         "domain": [
          0.55,
          1
         ],
         "matches": "y",
         "title": {
          "text": "time"
         }
        }
       }
      }
     },
     "metadata": {},
     "output_type": "display_data"
    }
   ],
   "source": [
    "display_results(full_results_df, display_ttr=True)"
   ]
  }
 ],
 "metadata": {
  "kernelspec": {
   "display_name": "venv",
   "language": "python",
   "name": "python3"
  },
  "language_info": {
   "codemirror_mode": {
    "name": "ipython",
    "version": 3
   },
   "file_extension": ".py",
   "mimetype": "text/x-python",
   "name": "python",
   "nbconvert_exporter": "python",
   "pygments_lexer": "ipython3",
   "version": "3.11.9"
  }
 },
 "nbformat": 4,
 "nbformat_minor": 2
}
