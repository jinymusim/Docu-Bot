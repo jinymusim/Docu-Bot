{
 "cells": [
  {
   "cell_type": "code",
   "execution_count": 102,
   "metadata": {},
   "outputs": [
    {
     "name": "stdout",
     "output_type": "stream",
     "text": [
      "The autoreload extension is already loaded. To reload it, use:\n",
      "  %reload_ext autoreload\n"
     ]
    }
   ],
   "source": [
    "%load_ext autoreload\n",
    "%autoreload 2"
   ]
  },
  {
   "cell_type": "code",
   "execution_count": 103,
   "metadata": {},
   "outputs": [],
   "source": [
    "import os\n",
    "import pandas as pd\n",
    "import plotly.express as px\n",
    "from glob import glob"
   ]
  },
  {
   "cell_type": "code",
   "execution_count": 104,
   "metadata": {},
   "outputs": [],
   "source": [
    "RESULTS_PATH = os.path.join(os.path.abspath(''), \"..\", \"results\")\n",
    "MODEL_TO_INSPECT = '*' # * for all models otherwise the name of the model\n",
    "DATASET_TO_INSPECT = '*' # * for all datasets otherwise the name of the dataset\n",
    "RETRIEVAL_TO_INSPECT = '*' # * for all retrieval otherwise the name of the retrieval"
   ]
  },
  {
   "cell_type": "code",
   "execution_count": 105,
   "metadata": {},
   "outputs": [],
   "source": [
    "result_dfs = []\n",
    "for path in glob(os.path.join(RESULTS_PATH, f\"{DATASET_TO_INSPECT}+{MODEL_TO_INSPECT}+{RETRIEVAL_TO_INSPECT}.feather\")):\n",
    "    dataset, model, retrieval = os.path.basename(path).split('+')\n",
    "    result_df = pd.read_feather(path)\n",
    "    result_df['dataset'] = dataset\n",
    "    result_df['model'] = model\n",
    "    result_df['retrieval'] = retrieval\n",
    "    result_dfs.append(result_df)\n",
    "\n",
    "full_results_df = pd.concat(result_dfs)"
   ]
  },
  {
   "cell_type": "code",
   "execution_count": 106,
   "metadata": {},
   "outputs": [],
   "source": [
    "def display_results(\n",
    "    full_results_df, \n",
    "    value_vars = [\n",
    "        \"factual_correctness\",\n",
    "        \"faithfulness\",\n",
    "        \"context_recall\",\n",
    "        \"semantic_similarity\",\n",
    "        #\"non_llm_context_recall\", \n",
    "        #\"llm_context_precision_with_reference\",\n",
    "        #\"non_llm_context_precision_with_reference\",\n",
    "        #\"context_entity_recall\",    \n",
    "    ],\n",
    "    display_ttr = False,\n",
    "    color_by = 'retrieval',\n",
    "    \n",
    "):\n",
    "    id_vars = ['dataset', 'model', 'retrieval']\n",
    "    id_without_color_by = id_vars.copy()\n",
    "    id_without_color_by.remove(color_by)\n",
    "    id_without_color_by = sorted(id_without_color_by, key=lambda x: len(full_results_df[x].unique()), reverse=True)\n",
    "    \n",
    "    grouped_results = full_results_df[value_vars + [\"time\"] + id_vars].groupby(id_vars).mean().reset_index()\n",
    "    \n",
    "    cumul_results = full_results_df[value_vars + [\"time\"] + [color_by]].groupby([color_by]).mean().reset_index()\n",
    "    \n",
    "    unpivoted_results = grouped_results.melt(\n",
    "        id_vars=id_vars, value_vars=value_vars, var_name='metric', value_name='value'\n",
    "    )\n",
    "    (\n",
    "        px.bar(\n",
    "            unpivoted_results, \n",
    "            x='metric', \n",
    "            y='value', \n",
    "            color=color_by, \n",
    "            facet_row=id_without_color_by[0], \n",
    "            facet_col=id_without_color_by[1], \n",
    "            title='Results', \n",
    "            barmode=\"group\",\n",
    "            facet_row_spacing = 0.1,\n",
    "            height=600 * len(unpivoted_results[id_without_color_by[0]].unique()), \n",
    "            width=1200 * len(unpivoted_results[id_without_color_by[1]].unique()),\n",
    "            )\n",
    "        .update_layout(title_font_size=24)\n",
    "        .update_xaxes(showgrid=True)\n",
    "    ).show()\n",
    "    \n",
    "    unpivoted_results = cumul_results.melt(\n",
    "        id_vars=color_by, value_vars=value_vars, var_name='metric', value_name='value'\n",
    "    )\n",
    "    \n",
    "    (\n",
    "        px.bar(\n",
    "            unpivoted_results, \n",
    "            x='metric', \n",
    "            y='value', \n",
    "            color=color_by, \n",
    "            title='Cumulative Results', \n",
    "            barmode=\"group\",\n",
    "            height=600, \n",
    "            width=1200,\n",
    "            )\n",
    "        .update_layout(title_font_size=24)\n",
    "        .update_xaxes(showgrid=True)\n",
    "    ).show()\n",
    "    \n",
    "    if display_ttr:\n",
    "        px.bar(\n",
    "            grouped_results, \n",
    "            x=id_without_color_by[0], \n",
    "            y='time', \n",
    "            color=color_by, \n",
    "            facet_row=id_without_color_by[1], \n",
    "            title='Time to retrieve', \n",
    "            barmode=\"group\",\n",
    "            height=600 * len(grouped_results[id_without_color_by[1]].unique()), \n",
    "            width=1200,\n",
    "        ).show()\n",
    "        \n",
    "        px.bar(\n",
    "            cumul_results,\n",
    "            x=color_by,\n",
    "            y='time',\n",
    "            title='Time to retrieve - All Datasets and Models and Retrievals',\n",
    "            color=color_by,\n",
    "            barmode=\"relative\",\n",
    "            height=800,\n",
    "            width=1200,\n",
    "        ).show()"
   ]
  },
  {
   "cell_type": "code",
   "execution_count": 107,
   "metadata": {},
   "outputs": [
    {
     "data": {
      "application/vnd.plotly.v1+json": {
       "config": {
        "plotlyServerURL": "https://plot.ly"
       },
       "data": [
        {
         "alignmentgroup": "True",
         "hovertemplate": "retrieval=context_query_alt_retrieval.feather<br>dataset=dcache_synthetic_data<br>model=aya-expanse_latest<br>metric=%{x}<br>value=%{y}<extra></extra>",
         "legendgroup": "context_query_alt_retrieval.feather",
         "marker": {
          "color": "#636efa",
          "pattern": {
           "shape": ""
          }
         },
         "name": "context_query_alt_retrieval.feather",
         "offsetgroup": "context_query_alt_retrieval.feather",
         "orientation": "v",
         "showlegend": true,
         "textposition": "auto",
         "type": "bar",
         "x": [
          "factual_correctness",
          "faithfulness",
          "context_recall",
          "semantic_similarity"
         ],
         "xaxis": "x7",
         "y": {
          "bdata": "GEt+seQX1T/j8jz11mbqP6rx0k1iEOg/uNdweNKY6D8=",
          "dtype": "f8"
         },
         "yaxis": "y7"
        },
        {
         "alignmentgroup": "True",
         "hovertemplate": "retrieval=context_query_alt_retrieval.feather<br>dataset=dcache_synthetic_data<br>model=llama3.3_latest<br>metric=%{x}<br>value=%{y}<extra></extra>",
         "legendgroup": "context_query_alt_retrieval.feather",
         "marker": {
          "color": "#636efa",
          "pattern": {
           "shape": ""
          }
         },
         "name": "context_query_alt_retrieval.feather",
         "offsetgroup": "context_query_alt_retrieval.feather",
         "orientation": "v",
         "showlegend": false,
         "textposition": "auto",
         "type": "bar",
         "x": [
          "factual_correctness",
          "faithfulness",
          "context_recall",
          "semantic_similarity"
         ],
         "xaxis": "x8",
         "y": {
          "bdata": "PMV7ltIZ2j/Qcv4s50/pP2ZmZmZmZuY/vyDbGeuE6j8=",
          "dtype": "f8"
         },
         "yaxis": "y8"
        },
        {
         "alignmentgroup": "True",
         "hovertemplate": "retrieval=context_query_alt_retrieval.feather<br>dataset=dirac_pilot_synthetic_data<br>model=aya-expanse_latest<br>metric=%{x}<br>value=%{y}<extra></extra>",
         "legendgroup": "context_query_alt_retrieval.feather",
         "marker": {
          "color": "#636efa",
          "pattern": {
           "shape": ""
          }
         },
         "name": "context_query_alt_retrieval.feather",
         "offsetgroup": "context_query_alt_retrieval.feather",
         "orientation": "v",
         "showlegend": false,
         "textposition": "auto",
         "type": "bar",
         "x": [
          "factual_correctness",
          "faithfulness",
          "context_recall",
          "semantic_similarity"
         ],
         "xaxis": "x5",
         "y": {
          "bdata": "95vyXAJZ4z9RSojz1bblP3ZiJ3ZiJ+4/kpaAhxaQ6z8=",
          "dtype": "f8"
         },
         "yaxis": "y5"
        },
        {
         "alignmentgroup": "True",
         "hovertemplate": "retrieval=context_query_alt_retrieval.feather<br>dataset=dirac_pilot_synthetic_data<br>model=llama3.3_latest<br>metric=%{x}<br>value=%{y}<extra></extra>",
         "legendgroup": "context_query_alt_retrieval.feather",
         "marker": {
          "color": "#636efa",
          "pattern": {
           "shape": ""
          }
         },
         "name": "context_query_alt_retrieval.feather",
         "offsetgroup": "context_query_alt_retrieval.feather",
         "orientation": "v",
         "showlegend": false,
         "textposition": "auto",
         "type": "bar",
         "x": [
          "factual_correctness",
          "faithfulness",
          "context_recall",
          "semantic_similarity"
         ],
         "xaxis": "x6",
         "y": {
          "bdata": "8XbVvUOi5j+P4ziO4zjsP57YiZ3Yie0/qX92ZEjJ7D8=",
          "dtype": "f8"
         },
         "yaxis": "y6"
        },
        {
         "alignmentgroup": "True",
         "hovertemplate": "retrieval=context_query_alt_retrieval.feather<br>dataset=dirac_synthetic_data<br>model=aya-expanse_latest<br>metric=%{x}<br>value=%{y}<extra></extra>",
         "legendgroup": "context_query_alt_retrieval.feather",
         "marker": {
          "color": "#636efa",
          "pattern": {
           "shape": ""
          }
         },
         "name": "context_query_alt_retrieval.feather",
         "offsetgroup": "context_query_alt_retrieval.feather",
         "orientation": "v",
         "showlegend": false,
         "textposition": "auto",
         "type": "bar",
         "x": [
          "factual_correctness",
          "faithfulness",
          "context_recall",
          "semantic_similarity"
         ],
         "xaxis": "x3",
         "y": {
          "bdata": "wMqhRbbzzT+Xk23xWBLlPz0K16NwPeI/6HMs64Zu5z8=",
          "dtype": "f8"
         },
         "yaxis": "y3"
        },
        {
         "alignmentgroup": "True",
         "hovertemplate": "retrieval=context_query_alt_retrieval.feather<br>dataset=dirac_synthetic_data<br>model=llama3.3_latest<br>metric=%{x}<br>value=%{y}<extra></extra>",
         "legendgroup": "context_query_alt_retrieval.feather",
         "marker": {
          "color": "#636efa",
          "pattern": {
           "shape": ""
          }
         },
         "name": "context_query_alt_retrieval.feather",
         "offsetgroup": "context_query_alt_retrieval.feather",
         "orientation": "v",
         "showlegend": false,
         "textposition": "auto",
         "type": "bar",
         "x": [
          "factual_correctness",
          "faithfulness",
          "context_recall",
          "semantic_similarity"
         ],
         "xaxis": "x4",
         "y": {
          "bdata": "Iv32deCc0T8B+zcaIsrnP3sUrkfheuQ/BQBL7PHf6T8=",
          "dtype": "f8"
         },
         "yaxis": "y4"
        },
        {
         "alignmentgroup": "True",
         "hovertemplate": "retrieval=context_query_alt_retrieval.feather<br>dataset=it4i_synthetic_data<br>model=aya-expanse_latest<br>metric=%{x}<br>value=%{y}<extra></extra>",
         "legendgroup": "context_query_alt_retrieval.feather",
         "marker": {
          "color": "#636efa",
          "pattern": {
           "shape": ""
          }
         },
         "name": "context_query_alt_retrieval.feather",
         "offsetgroup": "context_query_alt_retrieval.feather",
         "orientation": "v",
         "showlegend": false,
         "textposition": "auto",
         "type": "bar",
         "x": [
          "factual_correctness",
          "faithfulness",
          "context_recall",
          "semantic_similarity"
         ],
         "xaxis": "x",
         "y": {
          "bdata": "SnuDL0ym2j/vOXU72OrlP4R5ov6NUOY/f7Cqr90R6T8=",
          "dtype": "f8"
         },
         "yaxis": "y"
        },
        {
         "alignmentgroup": "True",
         "hovertemplate": "retrieval=context_query_alt_retrieval.feather<br>dataset=it4i_synthetic_data<br>model=llama3.3_latest<br>metric=%{x}<br>value=%{y}<extra></extra>",
         "legendgroup": "context_query_alt_retrieval.feather",
         "marker": {
          "color": "#636efa",
          "pattern": {
           "shape": ""
          }
         },
         "name": "context_query_alt_retrieval.feather",
         "offsetgroup": "context_query_alt_retrieval.feather",
         "orientation": "v",
         "showlegend": false,
         "textposition": "auto",
         "type": "bar",
         "x": [
          "factual_correctness",
          "faithfulness",
          "context_recall",
          "semantic_similarity"
         ],
         "xaxis": "x2",
         "y": {
          "bdata": "gZVDi2zn2z9MNrzM1+noP04b6LSBTus/+CcEesNO6j8=",
          "dtype": "f8"
         },
         "yaxis": "y2"
        },
        {
         "alignmentgroup": "True",
         "hovertemplate": "retrieval=document_retrieval.feather<br>dataset=dcache_synthetic_data<br>model=aya-expanse_latest<br>metric=%{x}<br>value=%{y}<extra></extra>",
         "legendgroup": "document_retrieval.feather",
         "marker": {
          "color": "#EF553B",
          "pattern": {
           "shape": ""
          }
         },
         "name": "document_retrieval.feather",
         "offsetgroup": "document_retrieval.feather",
         "orientation": "v",
         "showlegend": true,
         "textposition": "auto",
         "type": "bar",
         "x": [
          "factual_correctness",
          "faithfulness",
          "context_recall",
          "semantic_similarity"
         ],
         "xaxis": "x7",
         "y": {
          "bdata": "+n5qvHST2D/uP+9Bp+fpPw6av37XyeU/YAm2TB086T8=",
          "dtype": "f8"
         },
         "yaxis": "y7"
        },
        {
         "alignmentgroup": "True",
         "hovertemplate": "retrieval=document_retrieval.feather<br>dataset=dcache_synthetic_data<br>model=llama3.3_latest<br>metric=%{x}<br>value=%{y}<extra></extra>",
         "legendgroup": "document_retrieval.feather",
         "marker": {
          "color": "#EF553B",
          "pattern": {
           "shape": ""
          }
         },
         "name": "document_retrieval.feather",
         "offsetgroup": "document_retrieval.feather",
         "orientation": "v",
         "showlegend": false,
         "textposition": "auto",
         "type": "bar",
         "x": [
          "factual_correctness",
          "faithfulness",
          "context_recall",
          "semantic_similarity"
         ],
         "xaxis": "x8",
         "y": {
          "bdata": "aCJseHql3D/Tomq0HX/qPw6av37XyeU/6AN9FBJP6j8=",
          "dtype": "f8"
         },
         "yaxis": "y8"
        },
        {
         "alignmentgroup": "True",
         "hovertemplate": "retrieval=document_retrieval.feather<br>dataset=dirac_pilot_synthetic_data<br>model=aya-expanse_latest<br>metric=%{x}<br>value=%{y}<extra></extra>",
         "legendgroup": "document_retrieval.feather",
         "marker": {
          "color": "#EF553B",
          "pattern": {
           "shape": ""
          }
         },
         "name": "document_retrieval.feather",
         "offsetgroup": "document_retrieval.feather",
         "orientation": "v",
         "showlegend": false,
         "textposition": "auto",
         "type": "bar",
         "x": [
          "factual_correctness",
          "faithfulness",
          "context_recall",
          "semantic_similarity"
         ],
         "xaxis": "x5",
         "y": {
          "bdata": "HLmRG7mR4z96Y2Rv/RrkP0/sxE7sxO4/JwjvsEnQ6z8=",
          "dtype": "f8"
         },
         "yaxis": "y5"
        },
        {
         "alignmentgroup": "True",
         "hovertemplate": "retrieval=document_retrieval.feather<br>dataset=dirac_pilot_synthetic_data<br>model=llama3.3_latest<br>metric=%{x}<br>value=%{y}<extra></extra>",
         "legendgroup": "document_retrieval.feather",
         "marker": {
          "color": "#EF553B",
          "pattern": {
           "shape": ""
          }
         },
         "name": "document_retrieval.feather",
         "offsetgroup": "document_retrieval.feather",
         "orientation": "v",
         "showlegend": false,
         "textposition": "auto",
         "type": "bar",
         "x": [
          "factual_correctness",
          "faithfulness",
          "context_recall",
          "semantic_similarity"
         ],
         "xaxis": "x6",
         "y": {
          "bdata": "XI/C9Shc5z//6Z/+6Z/qP57YiZ3Yie0/1NYeAAGu7D8=",
          "dtype": "f8"
         },
         "yaxis": "y6"
        },
        {
         "alignmentgroup": "True",
         "hovertemplate": "retrieval=document_retrieval.feather<br>dataset=dirac_synthetic_data<br>model=aya-expanse_latest<br>metric=%{x}<br>value=%{y}<extra></extra>",
         "legendgroup": "document_retrieval.feather",
         "marker": {
          "color": "#EF553B",
          "pattern": {
           "shape": ""
          }
         },
         "name": "document_retrieval.feather",
         "offsetgroup": "document_retrieval.feather",
         "orientation": "v",
         "showlegend": false,
         "textposition": "auto",
         "type": "bar",
         "x": [
          "factual_correctness",
          "faithfulness",
          "context_recall",
          "semantic_similarity"
         ],
         "xaxis": "x3",
         "y": {
          "bdata": "KxiV1Alo0j9ufG5d6AvpPz0K16NwPeo/PEWkrIvN6D8=",
          "dtype": "f8"
         },
         "yaxis": "y3"
        },
        {
         "alignmentgroup": "True",
         "hovertemplate": "retrieval=document_retrieval.feather<br>dataset=dirac_synthetic_data<br>model=llama3.3_latest<br>metric=%{x}<br>value=%{y}<extra></extra>",
         "legendgroup": "document_retrieval.feather",
         "marker": {
          "color": "#EF553B",
          "pattern": {
           "shape": ""
          }
         },
         "name": "document_retrieval.feather",
         "offsetgroup": "document_retrieval.feather",
         "orientation": "v",
         "showlegend": false,
         "textposition": "auto",
         "type": "bar",
         "x": [
          "factual_correctness",
          "faithfulness",
          "context_recall",
          "semantic_similarity"
         ],
         "xaxis": "x4",
         "y": {
          "bdata": "/dR46SYx2D/bqZ3aqZ3qPzMzMzMzM+s/mE2ekGAc6j8=",
          "dtype": "f8"
         },
         "yaxis": "y4"
        },
        {
         "alignmentgroup": "True",
         "hovertemplate": "retrieval=document_retrieval.feather<br>dataset=it4i_synthetic_data<br>model=aya-expanse_latest<br>metric=%{x}<br>value=%{y}<extra></extra>",
         "legendgroup": "document_retrieval.feather",
         "marker": {
          "color": "#EF553B",
          "pattern": {
           "shape": ""
          }
         },
         "name": "document_retrieval.feather",
         "offsetgroup": "document_retrieval.feather",
         "orientation": "v",
         "showlegend": false,
         "textposition": "auto",
         "type": "bar",
         "x": [
          "factual_correctness",
          "faithfulness",
          "context_recall",
          "semantic_similarity"
         ],
         "xaxis": "x",
         "y": {
          "bdata": "kX77OnDO2D/IZp/HXaTnPySU0duyVuc/CQuvH0Ec6T8=",
          "dtype": "f8"
         },
         "yaxis": "y"
        },
        {
         "alignmentgroup": "True",
         "hovertemplate": "retrieval=document_retrieval.feather<br>dataset=it4i_synthetic_data<br>model=llama3.3_latest<br>metric=%{x}<br>value=%{y}<extra></extra>",
         "legendgroup": "document_retrieval.feather",
         "marker": {
          "color": "#EF553B",
          "pattern": {
           "shape": ""
          }
         },
         "name": "document_retrieval.feather",
         "offsetgroup": "document_retrieval.feather",
         "orientation": "v",
         "showlegend": false,
         "textposition": "auto",
         "type": "bar",
         "x": [
          "factual_correctness",
          "faithfulness",
          "context_recall",
          "semantic_similarity"
         ],
         "xaxis": "x2",
         "y": {
          "bdata": "41gXt9EA3j+TNF0pb+3pP1+6SQwCK+c/MZnRIo6J6j8=",
          "dtype": "f8"
         },
         "yaxis": "y2"
        },
        {
         "alignmentgroup": "True",
         "hovertemplate": "retrieval=empty_retrieval.feather<br>dataset=dcache_synthetic_data<br>model=aya-expanse_latest<br>metric=%{x}<br>value=%{y}<extra></extra>",
         "legendgroup": "empty_retrieval.feather",
         "marker": {
          "color": "#00cc96",
          "pattern": {
           "shape": ""
          }
         },
         "name": "empty_retrieval.feather",
         "offsetgroup": "empty_retrieval.feather",
         "orientation": "v",
         "showlegend": true,
         "textposition": "auto",
         "type": "bar",
         "x": [
          "factual_correctness",
          "faithfulness",
          "context_recall",
          "semantic_similarity"
         ],
         "xaxis": "x7",
         "y": {
          "bdata": "XynLEMe6yD8k5UmTyHjkP3sUrkfheqQ/YLgsZsP55T8=",
          "dtype": "f8"
         },
         "yaxis": "y7"
        },
        {
         "alignmentgroup": "True",
         "hovertemplate": "retrieval=empty_retrieval.feather<br>dataset=dcache_synthetic_data<br>model=llama3.3_latest<br>metric=%{x}<br>value=%{y}<extra></extra>",
         "legendgroup": "empty_retrieval.feather",
         "marker": {
          "color": "#00cc96",
          "pattern": {
           "shape": ""
          }
         },
         "name": "empty_retrieval.feather",
         "offsetgroup": "empty_retrieval.feather",
         "orientation": "v",
         "showlegend": false,
         "textposition": "auto",
         "type": "bar",
         "x": [
          "factual_correctness",
          "faithfulness",
          "context_recall",
          "semantic_similarity"
         ],
         "xaxis": "x8",
         "y": {
          "bdata": "5j+k374OvD9VVVVVVVXlP3sUrkfheqQ/Z9fo7eLV4D8=",
          "dtype": "f8"
         },
         "yaxis": "y8"
        },
        {
         "alignmentgroup": "True",
         "hovertemplate": "retrieval=empty_retrieval.feather<br>dataset=dirac_pilot_synthetic_data<br>model=aya-expanse_latest<br>metric=%{x}<br>value=%{y}<extra></extra>",
         "legendgroup": "empty_retrieval.feather",
         "marker": {
          "color": "#00cc96",
          "pattern": {
           "shape": ""
          }
         },
         "name": "empty_retrieval.feather",
         "offsetgroup": "empty_retrieval.feather",
         "orientation": "v",
         "showlegend": false,
         "textposition": "auto",
         "type": "bar",
         "x": [
          "factual_correctness",
          "faithfulness",
          "context_recall",
          "semantic_similarity"
         ],
         "xaxis": "x5",
         "y": {
          "bdata": "ZRniWBe3wT9Q/uRP/uTlPwAAAAAAAAAAklb2ObVw5j8=",
          "dtype": "f8"
         },
         "yaxis": "y5"
        },
        {
         "alignmentgroup": "True",
         "hovertemplate": "retrieval=empty_retrieval.feather<br>dataset=dirac_pilot_synthetic_data<br>model=llama3.3_latest<br>metric=%{x}<br>value=%{y}<extra></extra>",
         "legendgroup": "empty_retrieval.feather",
         "marker": {
          "color": "#00cc96",
          "pattern": {
           "shape": ""
          }
         },
         "name": "empty_retrieval.feather",
         "offsetgroup": "empty_retrieval.feather",
         "orientation": "v",
         "showlegend": false,
         "textposition": "auto",
         "type": "bar",
         "x": [
          "factual_correctness",
          "faithfulness",
          "context_recall",
          "semantic_similarity"
         ],
         "xaxis": "x6",
         "y": {
          "bdata": "W6mVWqmVqj+amZmZmZnpPwAAAAAAAAAAUCyR04CR4D8=",
          "dtype": "f8"
         },
         "yaxis": "y6"
        },
        {
         "alignmentgroup": "True",
         "hovertemplate": "retrieval=empty_retrieval.feather<br>dataset=dirac_synthetic_data<br>model=aya-expanse_latest<br>metric=%{x}<br>value=%{y}<extra></extra>",
         "legendgroup": "empty_retrieval.feather",
         "marker": {
          "color": "#00cc96",
          "pattern": {
           "shape": ""
          }
         },
         "name": "empty_retrieval.feather",
         "offsetgroup": "empty_retrieval.feather",
         "orientation": "v",
         "showlegend": false,
         "textposition": "auto",
         "type": "bar",
         "x": [
          "factual_correctness",
          "faithfulness",
          "context_recall",
          "semantic_similarity"
         ],
         "xaxis": "x3",
         "y": {
          "bdata": "OPjCZKpgxD/uswuITaXlPwAAAAAAAAAAlhPQuvF95T8=",
          "dtype": "f8"
         },
         "yaxis": "y3"
        },
        {
         "alignmentgroup": "True",
         "hovertemplate": "retrieval=empty_retrieval.feather<br>dataset=dirac_synthetic_data<br>model=llama3.3_latest<br>metric=%{x}<br>value=%{y}<extra></extra>",
         "legendgroup": "empty_retrieval.feather",
         "marker": {
          "color": "#00cc96",
          "pattern": {
           "shape": ""
          }
         },
         "name": "empty_retrieval.feather",
         "offsetgroup": "empty_retrieval.feather",
         "orientation": "v",
         "showlegend": false,
         "textposition": "auto",
         "type": "bar",
         "x": [
          "factual_correctness",
          "faithfulness",
          "context_recall",
          "semantic_similarity"
         ],
         "xaxis": "x4",
         "y": {
          "bdata": "oWez6nO1pT8cx3Ecx3HqPwAAAAAAAAAARLRQOov13z8=",
          "dtype": "f8"
         },
         "yaxis": "y4"
        },
        {
         "alignmentgroup": "True",
         "hovertemplate": "retrieval=empty_retrieval.feather<br>dataset=it4i_synthetic_data<br>model=aya-expanse_latest<br>metric=%{x}<br>value=%{y}<extra></extra>",
         "legendgroup": "empty_retrieval.feather",
         "marker": {
          "color": "#00cc96",
          "pattern": {
           "shape": ""
          }
         },
         "name": "empty_retrieval.feather",
         "offsetgroup": "empty_retrieval.feather",
         "orientation": "v",
         "showlegend": false,
         "textposition": "auto",
         "type": "bar",
         "x": [
          "factual_correctness",
          "faithfulness",
          "context_recall",
          "semantic_similarity"
         ],
         "xaxis": "x",
         "y": {
          "bdata": "ofgx5q4l1D+W9NVy9p/gP3sUrkfheqQ/irBGRoYU5j8=",
          "dtype": "f8"
         },
         "yaxis": "y"
        },
        {
         "alignmentgroup": "True",
         "hovertemplate": "retrieval=empty_retrieval.feather<br>dataset=it4i_synthetic_data<br>model=llama3.3_latest<br>metric=%{x}<br>value=%{y}<extra></extra>",
         "legendgroup": "empty_retrieval.feather",
         "marker": {
          "color": "#00cc96",
          "pattern": {
           "shape": ""
          }
         },
         "name": "empty_retrieval.feather",
         "offsetgroup": "empty_retrieval.feather",
         "orientation": "v",
         "showlegend": false,
         "textposition": "auto",
         "type": "bar",
         "x": [
          "factual_correctness",
          "faithfulness",
          "context_recall",
          "semantic_similarity"
         ],
         "xaxis": "x2",
         "y": {
          "bdata": "iUFg5dAiuz8EQRAEQRDnPwAAAAAAAAAAU72S5FR32T8=",
          "dtype": "f8"
         },
         "yaxis": "y2"
        },
        {
         "alignmentgroup": "True",
         "hovertemplate": "retrieval=generative_retrieval.feather<br>dataset=dcache_synthetic_data<br>model=aya-expanse_latest<br>metric=%{x}<br>value=%{y}<extra></extra>",
         "legendgroup": "generative_retrieval.feather",
         "marker": {
          "color": "#ab63fa",
          "pattern": {
           "shape": ""
          }
         },
         "name": "generative_retrieval.feather",
         "offsetgroup": "generative_retrieval.feather",
         "orientation": "v",
         "showlegend": true,
         "textposition": "auto",
         "type": "bar",
         "x": [
          "factual_correctness",
          "faithfulness",
          "context_recall",
          "semantic_similarity"
         ],
         "xaxis": "x7",
         "y": {
          "bdata": "JCh+jLlr2T9onWcgQJLnP1H/Riijt+U/H8RLxvkj6T8=",
          "dtype": "f8"
         },
         "yaxis": "y7"
        },
        {
         "alignmentgroup": "True",
         "hovertemplate": "retrieval=generative_retrieval.feather<br>dataset=dcache_synthetic_data<br>model=llama3.3_latest<br>metric=%{x}<br>value=%{y}<extra></extra>",
         "legendgroup": "generative_retrieval.feather",
         "marker": {
          "color": "#ab63fa",
          "pattern": {
           "shape": ""
          }
         },
         "name": "generative_retrieval.feather",
         "offsetgroup": "generative_retrieval.feather",
         "orientation": "v",
         "showlegend": false,
         "textposition": "auto",
         "type": "bar",
         "x": [
          "factual_correctness",
          "faithfulness",
          "context_recall",
          "semantic_similarity"
         ],
         "xaxis": "x8",
         "y": {
          "bdata": "s+pztRX72z/xBTM8e+noP2aMS6SWIug/3yEAIW6A6j8=",
          "dtype": "f8"
         },
         "yaxis": "y8"
        },
        {
         "alignmentgroup": "True",
         "hovertemplate": "retrieval=generative_retrieval.feather<br>dataset=dirac_pilot_synthetic_data<br>model=aya-expanse_latest<br>metric=%{x}<br>value=%{y}<extra></extra>",
         "legendgroup": "generative_retrieval.feather",
         "marker": {
          "color": "#ab63fa",
          "pattern": {
           "shape": ""
          }
         },
         "name": "generative_retrieval.feather",
         "offsetgroup": "generative_retrieval.feather",
         "orientation": "v",
         "showlegend": false,
         "textposition": "auto",
         "type": "bar",
         "x": [
          "factual_correctness",
          "faithfulness",
          "context_recall",
          "semantic_similarity"
         ],
         "xaxis": "x5",
         "y": {
          "bdata": "9M+YJgPM4T+EogJFzyvlP3ZiJ3ZiJ+4/YOVSSu2X6z8=",
          "dtype": "f8"
         },
         "yaxis": "y5"
        },
        {
         "alignmentgroup": "True",
         "hovertemplate": "retrieval=generative_retrieval.feather<br>dataset=dirac_pilot_synthetic_data<br>model=llama3.3_latest<br>metric=%{x}<br>value=%{y}<extra></extra>",
         "legendgroup": "generative_retrieval.feather",
         "marker": {
          "color": "#ab63fa",
          "pattern": {
           "shape": ""
          }
         },
         "name": "generative_retrieval.feather",
         "offsetgroup": "generative_retrieval.feather",
         "orientation": "v",
         "showlegend": false,
         "textposition": "auto",
         "type": "bar",
         "x": [
          "factual_correctness",
          "faithfulness",
          "context_recall",
          "semantic_similarity"
         ],
         "xaxis": "x6",
         "y": {
          "bdata": "L/RCL/RC5z9BjJWeAGfsP57YiZ3Yie0/5kOTlh/W7D8=",
          "dtype": "f8"
         },
         "yaxis": "y6"
        },
        {
         "alignmentgroup": "True",
         "hovertemplate": "retrieval=generative_retrieval.feather<br>dataset=dirac_synthetic_data<br>model=aya-expanse_latest<br>metric=%{x}<br>value=%{y}<extra></extra>",
         "legendgroup": "generative_retrieval.feather",
         "marker": {
          "color": "#ab63fa",
          "pattern": {
           "shape": ""
          }
         },
         "name": "generative_retrieval.feather",
         "offsetgroup": "generative_retrieval.feather",
         "orientation": "v",
         "showlegend": false,
         "textposition": "auto",
         "type": "bar",
         "x": [
          "factual_correctness",
          "faithfulness",
          "context_recall",
          "semantic_similarity"
         ],
         "xaxis": "x3",
         "y": {
          "bdata": "87BQa5p3zD/6wCZU6rrkPx+F61G4HuU/gZCWDdst6D8=",
          "dtype": "f8"
         },
         "yaxis": "y3"
        },
        {
         "alignmentgroup": "True",
         "hovertemplate": "retrieval=generative_retrieval.feather<br>dataset=dirac_synthetic_data<br>model=llama3.3_latest<br>metric=%{x}<br>value=%{y}<extra></extra>",
         "legendgroup": "generative_retrieval.feather",
         "marker": {
          "color": "#ab63fa",
          "pattern": {
           "shape": ""
          }
         },
         "name": "generative_retrieval.feather",
         "offsetgroup": "generative_retrieval.feather",
         "orientation": "v",
         "showlegend": false,
         "textposition": "auto",
         "type": "bar",
         "x": [
          "factual_correctness",
          "faithfulness",
          "context_recall",
          "semantic_similarity"
         ],
         "xaxis": "x4",
         "y": {
          "bdata": "aZHtfD81zj9zzqzFhsvmP83MzMzMzOQ/5YyavAM/6T8=",
          "dtype": "f8"
         },
         "yaxis": "y4"
        },
        {
         "alignmentgroup": "True",
         "hovertemplate": "retrieval=generative_retrieval.feather<br>dataset=it4i_synthetic_data<br>model=aya-expanse_latest<br>metric=%{x}<br>value=%{y}<extra></extra>",
         "legendgroup": "generative_retrieval.feather",
         "marker": {
          "color": "#ab63fa",
          "pattern": {
           "shape": ""
          }
         },
         "name": "generative_retrieval.feather",
         "offsetgroup": "generative_retrieval.feather",
         "orientation": "v",
         "showlegend": false,
         "textposition": "auto",
         "type": "bar",
         "x": [
          "factual_correctness",
          "faithfulness",
          "context_recall",
          "semantic_similarity"
         ],
         "xaxis": "x",
         "y": {
          "bdata": "5dAi2/l+2j9FBsjNsYzlP82FpCkVZ+c/2OoXuA4P6T8=",
          "dtype": "f8"
         },
         "yaxis": "y"
        },
        {
         "alignmentgroup": "True",
         "hovertemplate": "retrieval=generative_retrieval.feather<br>dataset=it4i_synthetic_data<br>model=llama3.3_latest<br>metric=%{x}<br>value=%{y}<extra></extra>",
         "legendgroup": "generative_retrieval.feather",
         "marker": {
          "color": "#ab63fa",
          "pattern": {
           "shape": ""
          }
         },
         "name": "generative_retrieval.feather",
         "offsetgroup": "generative_retrieval.feather",
         "orientation": "v",
         "showlegend": false,
         "textposition": "auto",
         "type": "bar",
         "x": [
          "factual_correctness",
          "faithfulness",
          "context_recall",
          "semantic_similarity"
         ],
         "xaxis": "x2",
         "y": {
          "bdata": "DJOpglFJ3T/9orNxH3rpP7x0kxgEVuY/cxvypnhE6T8=",
          "dtype": "f8"
         },
         "yaxis": "y2"
        },
        {
         "alignmentgroup": "True",
         "hovertemplate": "retrieval=keyphrase_retrieval.feather<br>dataset=dcache_synthetic_data<br>model=aya-expanse_latest<br>metric=%{x}<br>value=%{y}<extra></extra>",
         "legendgroup": "keyphrase_retrieval.feather",
         "marker": {
          "color": "#FFA15A",
          "pattern": {
           "shape": ""
          }
         },
         "name": "keyphrase_retrieval.feather",
         "offsetgroup": "keyphrase_retrieval.feather",
         "orientation": "v",
         "showlegend": true,
         "textposition": "auto",
         "type": "bar",
         "x": [
          "factual_correctness",
          "faithfulness",
          "context_recall",
          "semantic_similarity"
         ],
         "xaxis": "x7",
         "y": {
          "bdata": "PL1SliGO1T9T4/cEfgLpP/rrd51ctec/aGNpmNcE6T8=",
          "dtype": "f8"
         },
         "yaxis": "y7"
        },
        {
         "alignmentgroup": "True",
         "hovertemplate": "retrieval=keyphrase_retrieval.feather<br>dataset=dcache_synthetic_data<br>model=llama3.3_latest<br>metric=%{x}<br>value=%{y}<extra></extra>",
         "legendgroup": "keyphrase_retrieval.feather",
         "marker": {
          "color": "#FFA15A",
          "pattern": {
           "shape": ""
          }
         },
         "name": "keyphrase_retrieval.feather",
         "offsetgroup": "keyphrase_retrieval.feather",
         "orientation": "v",
         "showlegend": false,
         "textposition": "auto",
         "type": "bar",
         "x": [
          "factual_correctness",
          "faithfulness",
          "context_recall",
          "semantic_similarity"
         ],
         "xaxis": "x8",
         "y": {
          "bdata": "hA1Pr5Rl2D+AMC9L+bLrP/rrd51ctec/lNYqxYc76j8=",
          "dtype": "f8"
         },
         "yaxis": "y8"
        },
        {
         "alignmentgroup": "True",
         "hovertemplate": "retrieval=keyphrase_retrieval.feather<br>dataset=dirac_pilot_synthetic_data<br>model=aya-expanse_latest<br>metric=%{x}<br>value=%{y}<extra></extra>",
         "legendgroup": "keyphrase_retrieval.feather",
         "marker": {
          "color": "#FFA15A",
          "pattern": {
           "shape": ""
          }
         },
         "name": "keyphrase_retrieval.feather",
         "offsetgroup": "keyphrase_retrieval.feather",
         "orientation": "v",
         "showlegend": false,
         "textposition": "auto",
         "type": "bar",
         "x": [
          "factual_correctness",
          "faithfulness",
          "context_recall",
          "semantic_similarity"
         ],
         "xaxis": "x5",
         "y": {
          "bdata": "+fS1xcGC4j+LqLPSUPLlP3ZiJ3ZiJ+4/+eFKiX216z8=",
          "dtype": "f8"
         },
         "yaxis": "y5"
        },
        {
         "alignmentgroup": "True",
         "hovertemplate": "retrieval=keyphrase_retrieval.feather<br>dataset=dirac_pilot_synthetic_data<br>model=llama3.3_latest<br>metric=%{x}<br>value=%{y}<extra></extra>",
         "legendgroup": "keyphrase_retrieval.feather",
         "marker": {
          "color": "#FFA15A",
          "pattern": {
           "shape": ""
          }
         },
         "name": "keyphrase_retrieval.feather",
         "offsetgroup": "keyphrase_retrieval.feather",
         "orientation": "v",
         "showlegend": false,
         "textposition": "auto",
         "type": "bar",
         "x": [
          "factual_correctness",
          "faithfulness",
          "context_recall",
          "semantic_similarity"
         ],
         "xaxis": "x6",
         "y": {
          "bdata": "qgjxdtW95z8hDdIgDdLsP8VO7MRO7Ow/j/Hwjzi/7D8=",
          "dtype": "f8"
         },
         "yaxis": "y6"
        },
        {
         "alignmentgroup": "True",
         "hovertemplate": "retrieval=keyphrase_retrieval.feather<br>dataset=dirac_synthetic_data<br>model=aya-expanse_latest<br>metric=%{x}<br>value=%{y}<extra></extra>",
         "legendgroup": "keyphrase_retrieval.feather",
         "marker": {
          "color": "#FFA15A",
          "pattern": {
           "shape": ""
          }
         },
         "name": "keyphrase_retrieval.feather",
         "offsetgroup": "keyphrase_retrieval.feather",
         "orientation": "v",
         "showlegend": false,
         "textposition": "auto",
         "type": "bar",
         "x": [
          "factual_correctness",
          "faithfulness",
          "context_recall",
          "semantic_similarity"
         ],
         "xaxis": "x3",
         "y": {
          "bdata": "ZvfkYaHW1D9UQT5Ak/boP1yPwvUoXOc//+HiKD2T6D8=",
          "dtype": "f8"
         },
         "yaxis": "y3"
        },
        {
         "alignmentgroup": "True",
         "hovertemplate": "retrieval=keyphrase_retrieval.feather<br>dataset=dirac_synthetic_data<br>model=llama3.3_latest<br>metric=%{x}<br>value=%{y}<extra></extra>",
         "legendgroup": "keyphrase_retrieval.feather",
         "marker": {
          "color": "#FFA15A",
          "pattern": {
           "shape": ""
          }
         },
         "name": "keyphrase_retrieval.feather",
         "offsetgroup": "keyphrase_retrieval.feather",
         "orientation": "v",
         "showlegend": false,
         "textposition": "auto",
         "type": "bar",
         "x": [
          "factual_correctness",
          "faithfulness",
          "context_recall",
          "semantic_similarity"
         ],
         "xaxis": "x4",
         "y": {
          "bdata": "9kpZhjjW1T9cpIUAFcPqPz0K16NwPeo/Qaej8Qre6T8=",
          "dtype": "f8"
         },
         "yaxis": "y4"
        },
        {
         "alignmentgroup": "True",
         "hovertemplate": "retrieval=keyphrase_retrieval.feather<br>dataset=it4i_synthetic_data<br>model=aya-expanse_latest<br>metric=%{x}<br>value=%{y}<extra></extra>",
         "legendgroup": "keyphrase_retrieval.feather",
         "marker": {
          "color": "#FFA15A",
          "pattern": {
           "shape": ""
          }
         },
         "name": "keyphrase_retrieval.feather",
         "offsetgroup": "keyphrase_retrieval.feather",
         "orientation": "v",
         "showlegend": false,
         "textposition": "auto",
         "type": "bar",
         "x": [
          "factual_correctness",
          "faithfulness",
          "context_recall",
          "semantic_similarity"
         ],
         "xaxis": "x",
         "y": {
          "bdata": "hA1Pr5Rl2D+6MW7oTMDnP3vNhaQpFec/8ojenrrS6D8=",
          "dtype": "f8"
         },
         "yaxis": "y"
        },
        {
         "alignmentgroup": "True",
         "hovertemplate": "retrieval=keyphrase_retrieval.feather<br>dataset=it4i_synthetic_data<br>model=llama3.3_latest<br>metric=%{x}<br>value=%{y}<extra></extra>",
         "legendgroup": "keyphrase_retrieval.feather",
         "marker": {
          "color": "#FFA15A",
          "pattern": {
           "shape": ""
          }
         },
         "name": "keyphrase_retrieval.feather",
         "offsetgroup": "keyphrase_retrieval.feather",
         "orientation": "v",
         "showlegend": false,
         "textposition": "auto",
         "type": "bar",
         "x": [
          "factual_correctness",
          "faithfulness",
          "context_recall",
          "semantic_similarity"
         ],
         "xaxis": "x2",
         "y": {
          "bdata": "3EYDeAsk4D+4p9gYN6jqP8xaHRM8mOc/wW13WXaY6j8=",
          "dtype": "f8"
         },
         "yaxis": "y2"
        },
        {
         "alignmentgroup": "True",
         "hovertemplate": "retrieval=ner_retrieval.feather<br>dataset=dcache_synthetic_data<br>model=aya-expanse_latest<br>metric=%{x}<br>value=%{y}<extra></extra>",
         "legendgroup": "ner_retrieval.feather",
         "marker": {
          "color": "#19d3f3",
          "pattern": {
           "shape": ""
          }
         },
         "name": "ner_retrieval.feather",
         "offsetgroup": "ner_retrieval.feather",
         "orientation": "v",
         "showlegend": true,
         "textposition": "auto",
         "type": "bar",
         "x": [
          "factual_correctness",
          "faithfulness",
          "context_recall",
          "semantic_similarity"
         ],
         "xaxis": "x7",
         "y": {
          "bdata": "z2bV52or1j/fMRUd13roP+DBPFH/Rug/7OQFr2b66D8=",
          "dtype": "f8"
         },
         "yaxis": "y7"
        },
        {
         "alignmentgroup": "True",
         "hovertemplate": "retrieval=ner_retrieval.feather<br>dataset=dcache_synthetic_data<br>model=llama3.3_latest<br>metric=%{x}<br>value=%{y}<extra></extra>",
         "legendgroup": "ner_retrieval.feather",
         "marker": {
          "color": "#19d3f3",
          "pattern": {
           "shape": ""
          }
         },
         "name": "ner_retrieval.feather",
         "offsetgroup": "ner_retrieval.feather",
         "orientation": "v",
         "showlegend": false,
         "textposition": "auto",
         "type": "bar",
         "x": [
          "factual_correctness",
          "faithfulness",
          "context_recall",
          "semantic_similarity"
         ],
         "xaxis": "x8",
         "y": {
          "bdata": "RiV1ApoI2z9JFUBT7OPrP2aMS6SWIug/SJBGzy1I6j8=",
          "dtype": "f8"
         },
         "yaxis": "y8"
        },
        {
         "alignmentgroup": "True",
         "hovertemplate": "retrieval=ner_retrieval.feather<br>dataset=dirac_pilot_synthetic_data<br>model=aya-expanse_latest<br>metric=%{x}<br>value=%{y}<extra></extra>",
         "legendgroup": "ner_retrieval.feather",
         "marker": {
          "color": "#19d3f3",
          "pattern": {
           "shape": ""
          }
         },
         "name": "ner_retrieval.feather",
         "offsetgroup": "ner_retrieval.feather",
         "orientation": "v",
         "showlegend": false,
         "textposition": "auto",
         "type": "bar",
         "x": [
          "factual_correctness",
          "faithfulness",
          "context_recall",
          "semantic_similarity"
         ],
         "xaxis": "x5",
         "y": {
          "bdata": "DqP9pjyX5D+B2cR2c3vlP0/sxE7sxO4/dPXVnM3v6z8=",
          "dtype": "f8"
         },
         "yaxis": "y5"
        },
        {
         "alignmentgroup": "True",
         "hovertemplate": "retrieval=ner_retrieval.feather<br>dataset=dirac_pilot_synthetic_data<br>model=llama3.3_latest<br>metric=%{x}<br>value=%{y}<extra></extra>",
         "legendgroup": "ner_retrieval.feather",
         "marker": {
          "color": "#19d3f3",
          "pattern": {
           "shape": ""
          }
         },
         "name": "ner_retrieval.feather",
         "offsetgroup": "ner_retrieval.feather",
         "orientation": "v",
         "showlegend": false,
         "textposition": "auto",
         "type": "bar",
         "x": [
          "factual_correctness",
          "faithfulness",
          "context_recall",
          "semantic_similarity"
         ],
         "xaxis": "x6",
         "y": {
          "bdata": "K7VSK7VS5z+MP1vbKyDsP57YiZ3Yie0/RNQEyJZF7T8=",
          "dtype": "f8"
         },
         "yaxis": "y6"
        },
        {
         "alignmentgroup": "True",
         "hovertemplate": "retrieval=ner_retrieval.feather<br>dataset=dirac_synthetic_data<br>model=aya-expanse_latest<br>metric=%{x}<br>value=%{y}<extra></extra>",
         "legendgroup": "ner_retrieval.feather",
         "marker": {
          "color": "#19d3f3",
          "pattern": {
           "shape": ""
          }
         },
         "name": "ner_retrieval.feather",
         "offsetgroup": "ner_retrieval.feather",
         "orientation": "v",
         "showlegend": false,
         "textposition": "auto",
         "type": "bar",
         "x": [
          "factual_correctness",
          "faithfulness",
          "context_recall",
          "semantic_similarity"
         ],
         "xaxis": "x3",
         "y": {
          "bdata": "6Pup8dJN0j+suhdPK1XnP3E9CtejcOU/7XQ8v+8V6D8=",
          "dtype": "f8"
         },
         "yaxis": "y3"
        },
        {
         "alignmentgroup": "True",
         "hovertemplate": "retrieval=ner_retrieval.feather<br>dataset=dirac_synthetic_data<br>model=llama3.3_latest<br>metric=%{x}<br>value=%{y}<extra></extra>",
         "legendgroup": "ner_retrieval.feather",
         "marker": {
          "color": "#19d3f3",
          "pattern": {
           "shape": ""
          }
         },
         "name": "ner_retrieval.feather",
         "offsetgroup": "ner_retrieval.feather",
         "orientation": "v",
         "showlegend": false,
         "textposition": "auto",
         "type": "bar",
         "x": [
          "factual_correctness",
          "faithfulness",
          "context_recall",
          "semantic_similarity"
         ],
         "xaxis": "x4",
         "y": {
          "bdata": "54wo7Q2+0D+3Gx60bPHrP3sUrkfheuQ/H7SVGRyf6D8=",
          "dtype": "f8"
         },
         "yaxis": "y4"
        },
        {
         "alignmentgroup": "True",
         "hovertemplate": "retrieval=ner_retrieval.feather<br>dataset=it4i_synthetic_data<br>model=aya-expanse_latest<br>metric=%{x}<br>value=%{y}<extra></extra>",
         "legendgroup": "ner_retrieval.feather",
         "marker": {
          "color": "#19d3f3",
          "pattern": {
           "shape": ""
          }
         },
         "name": "ner_retrieval.feather",
         "offsetgroup": "ner_retrieval.feather",
         "orientation": "v",
         "showlegend": false,
         "textposition": "auto",
         "type": "bar",
         "x": [
          "factual_correctness",
          "faithfulness",
          "context_recall",
          "semantic_similarity"
         ],
         "xaxis": "x",
         "y": {
          "bdata": "aLPqc7UV2z+FQ9z8MJjqP5sLSVMqzuY/v6YTuGW66D8=",
          "dtype": "f8"
         },
         "yaxis": "y"
        },
        {
         "alignmentgroup": "True",
         "hovertemplate": "retrieval=ner_retrieval.feather<br>dataset=it4i_synthetic_data<br>model=llama3.3_latest<br>metric=%{x}<br>value=%{y}<extra></extra>",
         "legendgroup": "ner_retrieval.feather",
         "marker": {
          "color": "#19d3f3",
          "pattern": {
           "shape": ""
          }
         },
         "name": "ner_retrieval.feather",
         "offsetgroup": "ner_retrieval.feather",
         "orientation": "v",
         "showlegend": false,
         "textposition": "auto",
         "type": "bar",
         "x": [
          "factual_correctness",
          "faithfulness",
          "context_recall",
          "semantic_similarity"
         ],
         "xaxis": "x2",
         "y": {
          "bdata": "zTtO0ZFc3j8E9KPmpdToP8xaHRM8mOc/zptNtEkD6j8=",
          "dtype": "f8"
         },
         "yaxis": "y2"
        },
        {
         "alignmentgroup": "True",
         "hovertemplate": "retrieval=query_alt_retrieval.feather<br>dataset=dcache_synthetic_data<br>model=aya-expanse_latest<br>metric=%{x}<br>value=%{y}<extra></extra>",
         "legendgroup": "query_alt_retrieval.feather",
         "marker": {
          "color": "#FF6692",
          "pattern": {
           "shape": ""
          }
         },
         "name": "query_alt_retrieval.feather",
         "offsetgroup": "query_alt_retrieval.feather",
         "orientation": "v",
         "showlegend": true,
         "textposition": "auto",
         "type": "bar",
         "x": [
          "factual_correctness",
          "faithfulness",
          "context_recall",
          "semantic_similarity"
         ],
         "xaxis": "x7",
         "y": {
          "bdata": "gNk9eVio1T+gSfv31D/nP9fJVXs6k+U/1ILGR1586D8=",
          "dtype": "f8"
         },
         "yaxis": "y7"
        },
        {
         "alignmentgroup": "True",
         "hovertemplate": "retrieval=query_alt_retrieval.feather<br>dataset=dcache_synthetic_data<br>model=llama3.3_latest<br>metric=%{x}<br>value=%{y}<extra></extra>",
         "legendgroup": "query_alt_retrieval.feather",
         "marker": {
          "color": "#FF6692",
          "pattern": {
           "shape": ""
          }
         },
         "name": "query_alt_retrieval.feather",
         "offsetgroup": "query_alt_retrieval.feather",
         "orientation": "v",
         "showlegend": false,
         "textposition": "auto",
         "type": "bar",
         "x": [
          "factual_correctness",
          "faithfulness",
          "context_recall",
          "semantic_similarity"
         ],
         "xaxis": "x8",
         "y": {
          "bdata": "WoY41sVt1D9caEeHjvTpP9NNYhBYOeQ/JfsAnq7D6T8=",
          "dtype": "f8"
         },
         "yaxis": "y8"
        },
        {
         "alignmentgroup": "True",
         "hovertemplate": "retrieval=query_alt_retrieval.feather<br>dataset=dirac_pilot_synthetic_data<br>model=aya-expanse_latest<br>metric=%{x}<br>value=%{y}<extra></extra>",
         "legendgroup": "query_alt_retrieval.feather",
         "marker": {
          "color": "#FF6692",
          "pattern": {
           "shape": ""
          }
         },
         "name": "query_alt_retrieval.feather",
         "offsetgroup": "query_alt_retrieval.feather",
         "orientation": "v",
         "showlegend": false,
         "textposition": "auto",
         "type": "bar",
         "x": [
          "factual_correctness",
          "faithfulness",
          "context_recall",
          "semantic_similarity"
         ],
         "xaxis": "x5",
         "y": {
          "bdata": "oRd6oRd64T9wTcP56pvlP8VO7MRO7Ow/8KvyBEis6z8=",
          "dtype": "f8"
         },
         "yaxis": "y5"
        },
        {
         "alignmentgroup": "True",
         "hovertemplate": "retrieval=query_alt_retrieval.feather<br>dataset=dirac_pilot_synthetic_data<br>model=llama3.3_latest<br>metric=%{x}<br>value=%{y}<extra></extra>",
         "legendgroup": "query_alt_retrieval.feather",
         "marker": {
          "color": "#FF6692",
          "pattern": {
           "shape": ""
          }
         },
         "name": "query_alt_retrieval.feather",
         "offsetgroup": "query_alt_retrieval.feather",
         "orientation": "v",
         "showlegend": false,
         "textposition": "auto",
         "type": "bar",
         "x": [
          "factual_correctness",
          "faithfulness",
          "context_recall",
          "semantic_similarity"
         ],
         "xaxis": "x6",
         "y": {
          "bdata": "vF1175Co5j+MxEiMxEjsP57YiZ3Yie0/q/atxeqk7D8=",
          "dtype": "f8"
         },
         "yaxis": "y6"
        },
        {
         "alignmentgroup": "True",
         "hovertemplate": "retrieval=query_alt_retrieval.feather<br>dataset=dirac_synthetic_data<br>model=aya-expanse_latest<br>metric=%{x}<br>value=%{y}<extra></extra>",
         "legendgroup": "query_alt_retrieval.feather",
         "marker": {
          "color": "#FF6692",
          "pattern": {
           "shape": ""
          }
         },
         "name": "query_alt_retrieval.feather",
         "offsetgroup": "query_alt_retrieval.feather",
         "orientation": "v",
         "showlegend": false,
         "textposition": "auto",
         "type": "bar",
         "x": [
          "factual_correctness",
          "faithfulness",
          "context_recall",
          "semantic_similarity"
         ],
         "xaxis": "x3",
         "y": {
          "bdata": "oyO5/If0yz9/+ZaKmljnP9ejcD0K1+M/M/Z7Geb45z8=",
          "dtype": "f8"
         },
         "yaxis": "y3"
        },
        {
         "alignmentgroup": "True",
         "hovertemplate": "retrieval=query_alt_retrieval.feather<br>dataset=dirac_synthetic_data<br>model=llama3.3_latest<br>metric=%{x}<br>value=%{y}<extra></extra>",
         "legendgroup": "query_alt_retrieval.feather",
         "marker": {
          "color": "#FF6692",
          "pattern": {
           "shape": ""
          }
         },
         "name": "query_alt_retrieval.feather",
         "offsetgroup": "query_alt_retrieval.feather",
         "orientation": "v",
         "showlegend": false,
         "textposition": "auto",
         "type": "bar",
         "x": [
          "factual_correctness",
          "faithfulness",
          "context_recall",
          "semantic_similarity"
         ],
         "xaxis": "x4",
         "y": {
          "bdata": "umsJ+aBn0z9md9OrjjDsP1yPwvUoXOc/g2REvWdy6T8=",
          "dtype": "f8"
         },
         "yaxis": "y4"
        },
        {
         "alignmentgroup": "True",
         "hovertemplate": "retrieval=query_alt_retrieval.feather<br>dataset=it4i_synthetic_data<br>model=aya-expanse_latest<br>metric=%{x}<br>value=%{y}<extra></extra>",
         "legendgroup": "query_alt_retrieval.feather",
         "marker": {
          "color": "#FF6692",
          "pattern": {
           "shape": ""
          }
         },
         "name": "query_alt_retrieval.feather",
         "offsetgroup": "query_alt_retrieval.feather",
         "orientation": "v",
         "showlegend": false,
         "textposition": "auto",
         "type": "bar",
         "x": [
          "factual_correctness",
          "faithfulness",
          "context_recall",
          "semantic_similarity"
         ],
         "xaxis": "x",
         "y": {
          "bdata": "sgxxrIvb2D8q5FGIkFfqP9LbslbHBOc/IUa4O91e6D8=",
          "dtype": "f8"
         },
         "yaxis": "y"
        },
        {
         "alignmentgroup": "True",
         "hovertemplate": "retrieval=query_alt_retrieval.feather<br>dataset=it4i_synthetic_data<br>model=llama3.3_latest<br>metric=%{x}<br>value=%{y}<extra></extra>",
         "legendgroup": "query_alt_retrieval.feather",
         "marker": {
          "color": "#FF6692",
          "pattern": {
           "shape": ""
          }
         },
         "name": "query_alt_retrieval.feather",
         "offsetgroup": "query_alt_retrieval.feather",
         "orientation": "v",
         "showlegend": false,
         "textposition": "auto",
         "type": "bar",
         "x": [
          "factual_correctness",
          "faithfulness",
          "context_recall",
          "semantic_similarity"
         ],
         "xaxis": "x2",
         "y": {
          "bdata": "H2PuWkI+4D9NHqE00yLpPy4kTak4++g/4C83nuSg6j8=",
          "dtype": "f8"
         },
         "yaxis": "y2"
        },
        {
         "alignmentgroup": "True",
         "hovertemplate": "retrieval=rerank_retrieval.feather<br>dataset=dcache_synthetic_data<br>model=aya-expanse_latest<br>metric=%{x}<br>value=%{y}<extra></extra>",
         "legendgroup": "rerank_retrieval.feather",
         "marker": {
          "color": "#B6E880",
          "pattern": {
           "shape": ""
          }
         },
         "name": "rerank_retrieval.feather",
         "offsetgroup": "rerank_retrieval.feather",
         "orientation": "v",
         "showlegend": true,
         "textposition": "auto",
         "type": "bar",
         "x": [
          "factual_correctness",
          "faithfulness",
          "context_recall",
          "semantic_similarity"
         ],
         "xaxis": "x7",
         "y": {
          "bdata": "mioYldQJ2D9zmTlR0pDoP5jgwTxR/+Y/TdXZMSv66D8=",
          "dtype": "f8"
         },
         "yaxis": "y7"
        },
        {
         "alignmentgroup": "True",
         "hovertemplate": "retrieval=rerank_retrieval.feather<br>dataset=dcache_synthetic_data<br>model=llama3.3_latest<br>metric=%{x}<br>value=%{y}<extra></extra>",
         "legendgroup": "rerank_retrieval.feather",
         "marker": {
          "color": "#B6E880",
          "pattern": {
           "shape": ""
          }
         },
         "name": "rerank_retrieval.feather",
         "offsetgroup": "rerank_retrieval.feather",
         "orientation": "v",
         "showlegend": false,
         "textposition": "auto",
         "type": "bar",
         "x": [
          "factual_correctness",
          "faithfulness",
          "context_recall",
          "semantic_similarity"
         ],
         "xaxis": "x8",
         "y": {
          "bdata": "JZf/kH772j98xtRDlK3rPx+r0I/o2uY/UstGLCgF6j8=",
          "dtype": "f8"
         },
         "yaxis": "y8"
        },
        {
         "alignmentgroup": "True",
         "hovertemplate": "retrieval=rerank_retrieval.feather<br>dataset=dirac_pilot_synthetic_data<br>model=aya-expanse_latest<br>metric=%{x}<br>value=%{y}<extra></extra>",
         "legendgroup": "rerank_retrieval.feather",
         "marker": {
          "color": "#B6E880",
          "pattern": {
           "shape": ""
          }
         },
         "name": "rerank_retrieval.feather",
         "offsetgroup": "rerank_retrieval.feather",
         "orientation": "v",
         "showlegend": false,
         "textposition": "auto",
         "type": "bar",
         "x": [
          "factual_correctness",
          "faithfulness",
          "context_recall",
          "semantic_similarity"
         ],
         "xaxis": "x5",
         "y": {
          "bdata": "hl7ohV7o4T/VngSn5BvkP3ZiJ3ZiJ+4/judpAe/V6z8=",
          "dtype": "f8"
         },
         "yaxis": "y5"
        },
        {
         "alignmentgroup": "True",
         "hovertemplate": "retrieval=rerank_retrieval.feather<br>dataset=dirac_pilot_synthetic_data<br>model=llama3.3_latest<br>metric=%{x}<br>value=%{y}<extra></extra>",
         "legendgroup": "rerank_retrieval.feather",
         "marker": {
          "color": "#B6E880",
          "pattern": {
           "shape": ""
          }
         },
         "name": "rerank_retrieval.feather",
         "offsetgroup": "rerank_retrieval.feather",
         "orientation": "v",
         "showlegend": false,
         "textposition": "auto",
         "type": "bar",
         "x": [
          "factual_correctness",
          "faithfulness",
          "context_recall",
          "semantic_similarity"
         ],
         "xaxis": "x6",
         "y": {
          "bdata": "Lg4WlHR85j9kOZZjOZbtP57YiZ3Yie0/5OWEa+a17D8=",
          "dtype": "f8"
         },
         "yaxis": "y6"
        },
        {
         "alignmentgroup": "True",
         "hovertemplate": "retrieval=rerank_retrieval.feather<br>dataset=dirac_synthetic_data<br>model=aya-expanse_latest<br>metric=%{x}<br>value=%{y}<extra></extra>",
         "legendgroup": "rerank_retrieval.feather",
         "marker": {
          "color": "#B6E880",
          "pattern": {
           "shape": ""
          }
         },
         "name": "rerank_retrieval.feather",
         "offsetgroup": "rerank_retrieval.feather",
         "orientation": "v",
         "showlegend": false,
         "textposition": "auto",
         "type": "bar",
         "x": [
          "factual_correctness",
          "faithfulness",
          "context_recall",
          "semantic_similarity"
         ],
         "xaxis": "x3",
         "y": {
          "bdata": "k6mCUUmd0D8UwU72O2PoP6uqqqqqquQ/qmwVz8mS6D8=",
          "dtype": "f8"
         },
         "yaxis": "y3"
        },
        {
         "alignmentgroup": "True",
         "hovertemplate": "retrieval=rerank_retrieval.feather<br>dataset=dirac_synthetic_data<br>model=llama3.3_latest<br>metric=%{x}<br>value=%{y}<extra></extra>",
         "legendgroup": "rerank_retrieval.feather",
         "marker": {
          "color": "#B6E880",
          "pattern": {
           "shape": ""
          }
         },
         "name": "rerank_retrieval.feather",
         "offsetgroup": "rerank_retrieval.feather",
         "orientation": "v",
         "showlegend": false,
         "textposition": "auto",
         "type": "bar",
         "x": [
          "factual_correctness",
          "faithfulness",
          "context_recall",
          "semantic_similarity"
         ],
         "xaxis": "x4",
         "y": {
          "bdata": "097gC5Op0j/X7GQ0KRXoPxSuR+F6FOY/bfPPtNJr6T8=",
          "dtype": "f8"
         },
         "yaxis": "y4"
        },
        {
         "alignmentgroup": "True",
         "hovertemplate": "retrieval=rerank_retrieval.feather<br>dataset=it4i_synthetic_data<br>model=aya-expanse_latest<br>metric=%{x}<br>value=%{y}<extra></extra>",
         "legendgroup": "rerank_retrieval.feather",
         "marker": {
          "color": "#B6E880",
          "pattern": {
           "shape": ""
          }
         },
         "name": "rerank_retrieval.feather",
         "offsetgroup": "rerank_retrieval.feather",
         "orientation": "v",
         "showlegend": false,
         "textposition": "auto",
         "type": "bar",
         "x": [
          "factual_correctness",
          "faithfulness",
          "context_recall",
          "semantic_similarity"
         ],
         "xaxis": "x",
         "y": {
          "bdata": "hJ7Nqs/V1j9KIglUScfnP3STGARWDuU/aVFhrO7v6D8=",
          "dtype": "f8"
         },
         "yaxis": "y"
        },
        {
         "alignmentgroup": "True",
         "hovertemplate": "retrieval=rerank_retrieval.feather<br>dataset=it4i_synthetic_data<br>model=llama3.3_latest<br>metric=%{x}<br>value=%{y}<extra></extra>",
         "legendgroup": "rerank_retrieval.feather",
         "marker": {
          "color": "#B6E880",
          "pattern": {
           "shape": ""
          }
         },
         "name": "rerank_retrieval.feather",
         "offsetgroup": "rerank_retrieval.feather",
         "orientation": "v",
         "showlegend": false,
         "textposition": "auto",
         "type": "bar",
         "x": [
          "factual_correctness",
          "faithfulness",
          "context_recall",
          "semantic_similarity"
         ],
         "xaxis": "x2",
         "y": {
          "bdata": "0SLb+X5q3D931XMQIZjpP+wKkHvNheQ/RIe3Y/jZ6D8=",
          "dtype": "f8"
         },
         "yaxis": "y2"
        },
        {
         "alignmentgroup": "True",
         "hovertemplate": "retrieval=theme_retrieval.feather<br>dataset=dcache_synthetic_data<br>model=aya-expanse_latest<br>metric=%{x}<br>value=%{y}<extra></extra>",
         "legendgroup": "theme_retrieval.feather",
         "marker": {
          "color": "#FF97FF",
          "pattern": {
           "shape": ""
          }
         },
         "name": "theme_retrieval.feather",
         "offsetgroup": "theme_retrieval.feather",
         "orientation": "v",
         "showlegend": true,
         "textposition": "auto",
         "type": "bar",
         "x": [
          "factual_correctness",
          "faithfulness",
          "context_recall",
          "semantic_similarity"
         ],
         "xaxis": "x7",
         "y": {
          "bdata": "5PIf0m9f1z/3Wby0yS7oP7IK/YiubeY/Q4J7IV8n6T8=",
          "dtype": "f8"
         },
         "yaxis": "y7"
        },
        {
         "alignmentgroup": "True",
         "hovertemplate": "retrieval=theme_retrieval.feather<br>dataset=dcache_synthetic_data<br>model=llama3.3_latest<br>metric=%{x}<br>value=%{y}<extra></extra>",
         "legendgroup": "theme_retrieval.feather",
         "marker": {
          "color": "#FF97FF",
          "pattern": {
           "shape": ""
          }
         },
         "name": "theme_retrieval.feather",
         "offsetgroup": "theme_retrieval.feather",
         "orientation": "v",
         "showlegend": false,
         "textposition": "auto",
         "type": "bar",
         "x": [
          "factual_correctness",
          "faithfulness",
          "context_recall",
          "semantic_similarity"
         ],
         "xaxis": "x8",
         "y": {
          "bdata": "RpT2Bl+Y3D+FrFc9y9zqP1Z7OpOFEec/3M+PzWmU6j8=",
          "dtype": "f8"
         },
         "yaxis": "y8"
        },
        {
         "alignmentgroup": "True",
         "hovertemplate": "retrieval=theme_retrieval.feather<br>dataset=dirac_pilot_synthetic_data<br>model=aya-expanse_latest<br>metric=%{x}<br>value=%{y}<extra></extra>",
         "legendgroup": "theme_retrieval.feather",
         "marker": {
          "color": "#FF97FF",
          "pattern": {
           "shape": ""
          }
         },
         "name": "theme_retrieval.feather",
         "offsetgroup": "theme_retrieval.feather",
         "orientation": "v",
         "showlegend": false,
         "textposition": "auto",
         "type": "bar",
         "x": [
          "factual_correctness",
          "faithfulness",
          "context_recall",
          "semantic_similarity"
         ],
         "xaxis": "x5",
         "y": {
          "bdata": "0X5Tnksg4z+VnD7P0AfnP0/sxE7sxO4/IHu87a6w6z8=",
          "dtype": "f8"
         },
         "yaxis": "y5"
        },
        {
         "alignmentgroup": "True",
         "hovertemplate": "retrieval=theme_retrieval.feather<br>dataset=dirac_pilot_synthetic_data<br>model=llama3.3_latest<br>metric=%{x}<br>value=%{y}<extra></extra>",
         "legendgroup": "theme_retrieval.feather",
         "marker": {
          "color": "#FF97FF",
          "pattern": {
           "shape": ""
          }
         },
         "name": "theme_retrieval.feather",
         "offsetgroup": "theme_retrieval.feather",
         "orientation": "v",
         "showlegend": false,
         "textposition": "auto",
         "type": "bar",
         "x": [
          "factual_correctness",
          "faithfulness",
          "context_recall",
          "semantic_similarity"
         ],
         "xaxis": "x6",
         "y": {
          "bdata": "1r1DoooQ5z+neZqneZrrP57YiZ3Yie0/i99d3dbH7D8=",
          "dtype": "f8"
         },
         "yaxis": "y6"
        },
        {
         "alignmentgroup": "True",
         "hovertemplate": "retrieval=theme_retrieval.feather<br>dataset=dirac_synthetic_data<br>model=aya-expanse_latest<br>metric=%{x}<br>value=%{y}<extra></extra>",
         "legendgroup": "theme_retrieval.feather",
         "marker": {
          "color": "#FF97FF",
          "pattern": {
           "shape": ""
          }
         },
         "name": "theme_retrieval.feather",
         "offsetgroup": "theme_retrieval.feather",
         "orientation": "v",
         "showlegend": false,
         "textposition": "auto",
         "type": "bar",
         "x": [
          "factual_correctness",
          "faithfulness",
          "context_recall",
          "semantic_similarity"
         ],
         "xaxis": "x3",
         "y": {
          "bdata": "sp3vp8ZL1z9seqvb6/7qPzMzMzMzM+s/t9jo1bNI6T8=",
          "dtype": "f8"
         },
         "yaxis": "y3"
        },
        {
         "alignmentgroup": "True",
         "hovertemplate": "retrieval=theme_retrieval.feather<br>dataset=dirac_synthetic_data<br>model=llama3.3_latest<br>metric=%{x}<br>value=%{y}<extra></extra>",
         "legendgroup": "theme_retrieval.feather",
         "marker": {
          "color": "#FF97FF",
          "pattern": {
           "shape": ""
          }
         },
         "name": "theme_retrieval.feather",
         "offsetgroup": "theme_retrieval.feather",
         "orientation": "v",
         "showlegend": false,
         "textposition": "auto",
         "type": "bar",
         "x": [
          "factual_correctness",
          "faithfulness",
          "context_recall",
          "semantic_similarity"
         ],
         "xaxis": "x4",
         "y": {
          "bdata": "ne+nxks32T8qbTQ0X8noP6RwPQrXo+g/5Lv7gri16T8=",
          "dtype": "f8"
         },
         "yaxis": "y4"
        },
        {
         "alignmentgroup": "True",
         "hovertemplate": "retrieval=theme_retrieval.feather<br>dataset=it4i_synthetic_data<br>model=aya-expanse_latest<br>metric=%{x}<br>value=%{y}<extra></extra>",
         "legendgroup": "theme_retrieval.feather",
         "marker": {
          "color": "#FF97FF",
          "pattern": {
           "shape": ""
          }
         },
         "name": "theme_retrieval.feather",
         "offsetgroup": "theme_retrieval.feather",
         "orientation": "v",
         "showlegend": false,
         "textposition": "auto",
         "type": "bar",
         "x": [
          "factual_correctness",
          "faithfulness",
          "context_recall",
          "semantic_similarity"
         ],
         "xaxis": "x",
         "y": {
          "bdata": "UwWjkjoB3T/3KKhUxNDlP6GM3pa1OuY/XwnSPzI86T8=",
          "dtype": "f8"
         },
         "yaxis": "y"
        },
        {
         "alignmentgroup": "True",
         "hovertemplate": "retrieval=theme_retrieval.feather<br>dataset=it4i_synthetic_data<br>model=llama3.3_latest<br>metric=%{x}<br>value=%{y}<extra></extra>",
         "legendgroup": "theme_retrieval.feather",
         "marker": {
          "color": "#FF97FF",
          "pattern": {
           "shape": ""
          }
         },
         "name": "theme_retrieval.feather",
         "offsetgroup": "theme_retrieval.feather",
         "orientation": "v",
         "showlegend": false,
         "textposition": "auto",
         "type": "bar",
         "x": [
          "factual_correctness",
          "faithfulness",
          "context_recall",
          "semantic_similarity"
         ],
         "xaxis": "x2",
         "y": {
          "bdata": "DQIrhxbZ3j/jkR4U98LqP7Kd76fGS+c/o+a6UNNY6j8=",
          "dtype": "f8"
         },
         "yaxis": "y2"
        }
       ],
       "layout": {
        "annotations": [
         {
          "font": {},
          "showarrow": false,
          "text": "model=aya-expanse_latest",
          "x": 0.24,
          "xanchor": "center",
          "xref": "paper",
          "y": 1,
          "yanchor": "bottom",
          "yref": "paper"
         },
         {
          "font": {},
          "showarrow": false,
          "text": "model=llama3.3_latest",
          "x": 0.74,
          "xanchor": "center",
          "xref": "paper",
          "y": 1,
          "yanchor": "bottom",
          "yref": "paper"
         },
         {
          "font": {},
          "showarrow": false,
          "text": "dataset=it4i_synthetic_data",
          "textangle": 90,
          "x": 0.98,
          "xanchor": "left",
          "xref": "paper",
          "y": 0.0875,
          "yanchor": "middle",
          "yref": "paper"
         },
         {
          "font": {},
          "showarrow": false,
          "text": "dataset=dirac_synthetic_data",
          "textangle": 90,
          "x": 0.98,
          "xanchor": "left",
          "xref": "paper",
          "y": 0.36250000000000004,
          "yanchor": "middle",
          "yref": "paper"
         },
         {
          "font": {},
          "showarrow": false,
          "text": "dataset=dirac_pilot_synthetic_data",
          "textangle": 90,
          "x": 0.98,
          "xanchor": "left",
          "xref": "paper",
          "y": 0.6375000000000001,
          "yanchor": "middle",
          "yref": "paper"
         },
         {
          "font": {},
          "showarrow": false,
          "text": "dataset=dcache_synthetic_data",
          "textangle": 90,
          "x": 0.98,
          "xanchor": "left",
          "xref": "paper",
          "y": 0.9125,
          "yanchor": "middle",
          "yref": "paper"
         }
        ],
        "barmode": "group",
        "height": 2400,
        "legend": {
         "title": {
          "text": "retrieval"
         },
         "tracegroupgap": 0
        },
        "template": {
         "data": {
          "bar": [
           {
            "error_x": {
             "color": "#2a3f5f"
            },
            "error_y": {
             "color": "#2a3f5f"
            },
            "marker": {
             "line": {
              "color": "#E5ECF6",
              "width": 0.5
             },
             "pattern": {
              "fillmode": "overlay",
              "size": 10,
              "solidity": 0.2
             }
            },
            "type": "bar"
           }
          ],
          "barpolar": [
           {
            "marker": {
             "line": {
              "color": "#E5ECF6",
              "width": 0.5
             },
             "pattern": {
              "fillmode": "overlay",
              "size": 10,
              "solidity": 0.2
             }
            },
            "type": "barpolar"
           }
          ],
          "carpet": [
           {
            "aaxis": {
             "endlinecolor": "#2a3f5f",
             "gridcolor": "white",
             "linecolor": "white",
             "minorgridcolor": "white",
             "startlinecolor": "#2a3f5f"
            },
            "baxis": {
             "endlinecolor": "#2a3f5f",
             "gridcolor": "white",
             "linecolor": "white",
             "minorgridcolor": "white",
             "startlinecolor": "#2a3f5f"
            },
            "type": "carpet"
           }
          ],
          "choropleth": [
           {
            "colorbar": {
             "outlinewidth": 0,
             "ticks": ""
            },
            "type": "choropleth"
           }
          ],
          "contour": [
           {
            "colorbar": {
             "outlinewidth": 0,
             "ticks": ""
            },
            "colorscale": [
             [
              0,
              "#0d0887"
             ],
             [
              0.1111111111111111,
              "#46039f"
             ],
             [
              0.2222222222222222,
              "#7201a8"
             ],
             [
              0.3333333333333333,
              "#9c179e"
             ],
             [
              0.4444444444444444,
              "#bd3786"
             ],
             [
              0.5555555555555556,
              "#d8576b"
             ],
             [
              0.6666666666666666,
              "#ed7953"
             ],
             [
              0.7777777777777778,
              "#fb9f3a"
             ],
             [
              0.8888888888888888,
              "#fdca26"
             ],
             [
              1,
              "#f0f921"
             ]
            ],
            "type": "contour"
           }
          ],
          "contourcarpet": [
           {
            "colorbar": {
             "outlinewidth": 0,
             "ticks": ""
            },
            "type": "contourcarpet"
           }
          ],
          "heatmap": [
           {
            "colorbar": {
             "outlinewidth": 0,
             "ticks": ""
            },
            "colorscale": [
             [
              0,
              "#0d0887"
             ],
             [
              0.1111111111111111,
              "#46039f"
             ],
             [
              0.2222222222222222,
              "#7201a8"
             ],
             [
              0.3333333333333333,
              "#9c179e"
             ],
             [
              0.4444444444444444,
              "#bd3786"
             ],
             [
              0.5555555555555556,
              "#d8576b"
             ],
             [
              0.6666666666666666,
              "#ed7953"
             ],
             [
              0.7777777777777778,
              "#fb9f3a"
             ],
             [
              0.8888888888888888,
              "#fdca26"
             ],
             [
              1,
              "#f0f921"
             ]
            ],
            "type": "heatmap"
           }
          ],
          "histogram": [
           {
            "marker": {
             "pattern": {
              "fillmode": "overlay",
              "size": 10,
              "solidity": 0.2
             }
            },
            "type": "histogram"
           }
          ],
          "histogram2d": [
           {
            "colorbar": {
             "outlinewidth": 0,
             "ticks": ""
            },
            "colorscale": [
             [
              0,
              "#0d0887"
             ],
             [
              0.1111111111111111,
              "#46039f"
             ],
             [
              0.2222222222222222,
              "#7201a8"
             ],
             [
              0.3333333333333333,
              "#9c179e"
             ],
             [
              0.4444444444444444,
              "#bd3786"
             ],
             [
              0.5555555555555556,
              "#d8576b"
             ],
             [
              0.6666666666666666,
              "#ed7953"
             ],
             [
              0.7777777777777778,
              "#fb9f3a"
             ],
             [
              0.8888888888888888,
              "#fdca26"
             ],
             [
              1,
              "#f0f921"
             ]
            ],
            "type": "histogram2d"
           }
          ],
          "histogram2dcontour": [
           {
            "colorbar": {
             "outlinewidth": 0,
             "ticks": ""
            },
            "colorscale": [
             [
              0,
              "#0d0887"
             ],
             [
              0.1111111111111111,
              "#46039f"
             ],
             [
              0.2222222222222222,
              "#7201a8"
             ],
             [
              0.3333333333333333,
              "#9c179e"
             ],
             [
              0.4444444444444444,
              "#bd3786"
             ],
             [
              0.5555555555555556,
              "#d8576b"
             ],
             [
              0.6666666666666666,
              "#ed7953"
             ],
             [
              0.7777777777777778,
              "#fb9f3a"
             ],
             [
              0.8888888888888888,
              "#fdca26"
             ],
             [
              1,
              "#f0f921"
             ]
            ],
            "type": "histogram2dcontour"
           }
          ],
          "mesh3d": [
           {
            "colorbar": {
             "outlinewidth": 0,
             "ticks": ""
            },
            "type": "mesh3d"
           }
          ],
          "parcoords": [
           {
            "line": {
             "colorbar": {
              "outlinewidth": 0,
              "ticks": ""
             }
            },
            "type": "parcoords"
           }
          ],
          "pie": [
           {
            "automargin": true,
            "type": "pie"
           }
          ],
          "scatter": [
           {
            "fillpattern": {
             "fillmode": "overlay",
             "size": 10,
             "solidity": 0.2
            },
            "type": "scatter"
           }
          ],
          "scatter3d": [
           {
            "line": {
             "colorbar": {
              "outlinewidth": 0,
              "ticks": ""
             }
            },
            "marker": {
             "colorbar": {
              "outlinewidth": 0,
              "ticks": ""
             }
            },
            "type": "scatter3d"
           }
          ],
          "scattercarpet": [
           {
            "marker": {
             "colorbar": {
              "outlinewidth": 0,
              "ticks": ""
             }
            },
            "type": "scattercarpet"
           }
          ],
          "scattergeo": [
           {
            "marker": {
             "colorbar": {
              "outlinewidth": 0,
              "ticks": ""
             }
            },
            "type": "scattergeo"
           }
          ],
          "scattergl": [
           {
            "marker": {
             "colorbar": {
              "outlinewidth": 0,
              "ticks": ""
             }
            },
            "type": "scattergl"
           }
          ],
          "scattermap": [
           {
            "marker": {
             "colorbar": {
              "outlinewidth": 0,
              "ticks": ""
             }
            },
            "type": "scattermap"
           }
          ],
          "scattermapbox": [
           {
            "marker": {
             "colorbar": {
              "outlinewidth": 0,
              "ticks": ""
             }
            },
            "type": "scattermapbox"
           }
          ],
          "scatterpolar": [
           {
            "marker": {
             "colorbar": {
              "outlinewidth": 0,
              "ticks": ""
             }
            },
            "type": "scatterpolar"
           }
          ],
          "scatterpolargl": [
           {
            "marker": {
             "colorbar": {
              "outlinewidth": 0,
              "ticks": ""
             }
            },
            "type": "scatterpolargl"
           }
          ],
          "scatterternary": [
           {
            "marker": {
             "colorbar": {
              "outlinewidth": 0,
              "ticks": ""
             }
            },
            "type": "scatterternary"
           }
          ],
          "surface": [
           {
            "colorbar": {
             "outlinewidth": 0,
             "ticks": ""
            },
            "colorscale": [
             [
              0,
              "#0d0887"
             ],
             [
              0.1111111111111111,
              "#46039f"
             ],
             [
              0.2222222222222222,
              "#7201a8"
             ],
             [
              0.3333333333333333,
              "#9c179e"
             ],
             [
              0.4444444444444444,
              "#bd3786"
             ],
             [
              0.5555555555555556,
              "#d8576b"
             ],
             [
              0.6666666666666666,
              "#ed7953"
             ],
             [
              0.7777777777777778,
              "#fb9f3a"
             ],
             [
              0.8888888888888888,
              "#fdca26"
             ],
             [
              1,
              "#f0f921"
             ]
            ],
            "type": "surface"
           }
          ],
          "table": [
           {
            "cells": {
             "fill": {
              "color": "#EBF0F8"
             },
             "line": {
              "color": "white"
             }
            },
            "header": {
             "fill": {
              "color": "#C8D4E3"
             },
             "line": {
              "color": "white"
             }
            },
            "type": "table"
           }
          ]
         },
         "layout": {
          "annotationdefaults": {
           "arrowcolor": "#2a3f5f",
           "arrowhead": 0,
           "arrowwidth": 1
          },
          "autotypenumbers": "strict",
          "coloraxis": {
           "colorbar": {
            "outlinewidth": 0,
            "ticks": ""
           }
          },
          "colorscale": {
           "diverging": [
            [
             0,
             "#8e0152"
            ],
            [
             0.1,
             "#c51b7d"
            ],
            [
             0.2,
             "#de77ae"
            ],
            [
             0.3,
             "#f1b6da"
            ],
            [
             0.4,
             "#fde0ef"
            ],
            [
             0.5,
             "#f7f7f7"
            ],
            [
             0.6,
             "#e6f5d0"
            ],
            [
             0.7,
             "#b8e186"
            ],
            [
             0.8,
             "#7fbc41"
            ],
            [
             0.9,
             "#4d9221"
            ],
            [
             1,
             "#276419"
            ]
           ],
           "sequential": [
            [
             0,
             "#0d0887"
            ],
            [
             0.1111111111111111,
             "#46039f"
            ],
            [
             0.2222222222222222,
             "#7201a8"
            ],
            [
             0.3333333333333333,
             "#9c179e"
            ],
            [
             0.4444444444444444,
             "#bd3786"
            ],
            [
             0.5555555555555556,
             "#d8576b"
            ],
            [
             0.6666666666666666,
             "#ed7953"
            ],
            [
             0.7777777777777778,
             "#fb9f3a"
            ],
            [
             0.8888888888888888,
             "#fdca26"
            ],
            [
             1,
             "#f0f921"
            ]
           ],
           "sequentialminus": [
            [
             0,
             "#0d0887"
            ],
            [
             0.1111111111111111,
             "#46039f"
            ],
            [
             0.2222222222222222,
             "#7201a8"
            ],
            [
             0.3333333333333333,
             "#9c179e"
            ],
            [
             0.4444444444444444,
             "#bd3786"
            ],
            [
             0.5555555555555556,
             "#d8576b"
            ],
            [
             0.6666666666666666,
             "#ed7953"
            ],
            [
             0.7777777777777778,
             "#fb9f3a"
            ],
            [
             0.8888888888888888,
             "#fdca26"
            ],
            [
             1,
             "#f0f921"
            ]
           ]
          },
          "colorway": [
           "#636efa",
           "#EF553B",
           "#00cc96",
           "#ab63fa",
           "#FFA15A",
           "#19d3f3",
           "#FF6692",
           "#B6E880",
           "#FF97FF",
           "#FECB52"
          ],
          "font": {
           "color": "#2a3f5f"
          },
          "geo": {
           "bgcolor": "white",
           "lakecolor": "white",
           "landcolor": "#E5ECF6",
           "showlakes": true,
           "showland": true,
           "subunitcolor": "white"
          },
          "hoverlabel": {
           "align": "left"
          },
          "hovermode": "closest",
          "mapbox": {
           "style": "light"
          },
          "paper_bgcolor": "white",
          "plot_bgcolor": "#E5ECF6",
          "polar": {
           "angularaxis": {
            "gridcolor": "white",
            "linecolor": "white",
            "ticks": ""
           },
           "bgcolor": "#E5ECF6",
           "radialaxis": {
            "gridcolor": "white",
            "linecolor": "white",
            "ticks": ""
           }
          },
          "scene": {
           "xaxis": {
            "backgroundcolor": "#E5ECF6",
            "gridcolor": "white",
            "gridwidth": 2,
            "linecolor": "white",
            "showbackground": true,
            "ticks": "",
            "zerolinecolor": "white"
           },
           "yaxis": {
            "backgroundcolor": "#E5ECF6",
            "gridcolor": "white",
            "gridwidth": 2,
            "linecolor": "white",
            "showbackground": true,
            "ticks": "",
            "zerolinecolor": "white"
           },
           "zaxis": {
            "backgroundcolor": "#E5ECF6",
            "gridcolor": "white",
            "gridwidth": 2,
            "linecolor": "white",
            "showbackground": true,
            "ticks": "",
            "zerolinecolor": "white"
           }
          },
          "shapedefaults": {
           "line": {
            "color": "#2a3f5f"
           }
          },
          "ternary": {
           "aaxis": {
            "gridcolor": "white",
            "linecolor": "white",
            "ticks": ""
           },
           "baxis": {
            "gridcolor": "white",
            "linecolor": "white",
            "ticks": ""
           },
           "bgcolor": "#E5ECF6",
           "caxis": {
            "gridcolor": "white",
            "linecolor": "white",
            "ticks": ""
           }
          },
          "title": {
           "x": 0.05
          },
          "xaxis": {
           "automargin": true,
           "gridcolor": "white",
           "linecolor": "white",
           "ticks": "",
           "title": {
            "standoff": 15
           },
           "zerolinecolor": "white",
           "zerolinewidth": 2
          },
          "yaxis": {
           "automargin": true,
           "gridcolor": "white",
           "linecolor": "white",
           "ticks": "",
           "title": {
            "standoff": 15
           },
           "zerolinecolor": "white",
           "zerolinewidth": 2
          }
         }
        },
        "title": {
         "font": {
          "size": 24
         },
         "text": "Results"
        },
        "width": 2400,
        "xaxis": {
         "anchor": "y",
         "domain": [
          0,
          0.48
         ],
         "showgrid": true,
         "title": {
          "text": "metric"
         }
        },
        "xaxis2": {
         "anchor": "y2",
         "domain": [
          0.5,
          0.98
         ],
         "matches": "x",
         "showgrid": true,
         "title": {
          "text": "metric"
         }
        },
        "xaxis3": {
         "anchor": "y3",
         "domain": [
          0,
          0.48
         ],
         "matches": "x",
         "showgrid": true,
         "showticklabels": false
        },
        "xaxis4": {
         "anchor": "y4",
         "domain": [
          0.5,
          0.98
         ],
         "matches": "x",
         "showgrid": true,
         "showticklabels": false
        },
        "xaxis5": {
         "anchor": "y5",
         "domain": [
          0,
          0.48
         ],
         "matches": "x",
         "showgrid": true,
         "showticklabels": false
        },
        "xaxis6": {
         "anchor": "y6",
         "domain": [
          0.5,
          0.98
         ],
         "matches": "x",
         "showgrid": true,
         "showticklabels": false
        },
        "xaxis7": {
         "anchor": "y7",
         "domain": [
          0,
          0.48
         ],
         "matches": "x",
         "showgrid": true,
         "showticklabels": false
        },
        "xaxis8": {
         "anchor": "y8",
         "domain": [
          0.5,
          0.98
         ],
         "matches": "x",
         "showgrid": true,
         "showticklabels": false
        },
        "yaxis": {
         "anchor": "x",
         "domain": [
          0,
          0.175
         ],
         "title": {
          "text": "value"
         }
        },
        "yaxis2": {
         "anchor": "x2",
         "domain": [
          0,
          0.175
         ],
         "matches": "y",
         "showticklabels": false
        },
        "yaxis3": {
         "anchor": "x3",
         "domain": [
          0.275,
          0.45
         ],
         "matches": "y",
         "title": {
          "text": "value"
         }
        },
        "yaxis4": {
         "anchor": "x4",
         "domain": [
          0.275,
          0.45
         ],
         "matches": "y",
         "showticklabels": false
        },
        "yaxis5": {
         "anchor": "x5",
         "domain": [
          0.55,
          0.7250000000000001
         ],
         "matches": "y",
         "title": {
          "text": "value"
         }
        },
        "yaxis6": {
         "anchor": "x6",
         "domain": [
          0.55,
          0.7250000000000001
         ],
         "matches": "y",
         "showticklabels": false
        },
        "yaxis7": {
         "anchor": "x7",
         "domain": [
          0.825,
          1
         ],
         "matches": "y",
         "title": {
          "text": "value"
         }
        },
        "yaxis8": {
         "anchor": "x8",
         "domain": [
          0.825,
          1
         ],
         "matches": "y",
         "showticklabels": false
        }
       }
      }
     },
     "metadata": {},
     "output_type": "display_data"
    },
    {
     "data": {
      "application/vnd.plotly.v1+json": {
       "config": {
        "plotlyServerURL": "https://plot.ly"
       },
       "data": [
        {
         "alignmentgroup": "True",
         "hovertemplate": "retrieval=context_query_alt_retrieval.feather<br>metric=%{x}<br>value=%{y}<extra></extra>",
         "legendgroup": "context_query_alt_retrieval.feather",
         "marker": {
          "color": "#636efa",
          "pattern": {
           "shape": ""
          }
         },
         "name": "context_query_alt_retrieval.feather",
         "offsetgroup": "context_query_alt_retrieval.feather",
         "orientation": "v",
         "showlegend": true,
         "textposition": "auto",
         "type": "bar",
         "x": [
          "factual_correctness",
          "faithfulness",
          "context_recall",
          "semantic_similarity"
         ],
         "xaxis": "x",
         "y": {
          "bdata": "Lf/vuGp62z9qFHwviSvoP5Xj10y7aug/6HqwtT0K6j8=",
          "dtype": "f8"
         },
         "yaxis": "y"
        },
        {
         "alignmentgroup": "True",
         "hovertemplate": "retrieval=document_retrieval.feather<br>metric=%{x}<br>value=%{y}<extra></extra>",
         "legendgroup": "document_retrieval.feather",
         "marker": {
          "color": "#EF553B",
          "pattern": {
           "shape": ""
          }
         },
         "name": "document_retrieval.feather",
         "offsetgroup": "document_retrieval.feather",
         "orientation": "v",
         "showlegend": true,
         "textposition": "auto",
         "type": "bar",
         "x": [
          "factual_correctness",
          "faithfulness",
          "context_recall",
          "semantic_similarity"
         ],
         "xaxis": "x",
         "y": {
          "bdata": "kEbo8Yax3T+8PB0XXwfpP3ZKVgRzhuk/r5SAuwVY6j8=",
          "dtype": "f8"
         },
         "yaxis": "y"
        },
        {
         "alignmentgroup": "True",
         "hovertemplate": "retrieval=empty_retrieval.feather<br>metric=%{x}<br>value=%{y}<extra></extra>",
         "legendgroup": "empty_retrieval.feather",
         "marker": {
          "color": "#00cc96",
          "pattern": {
           "shape": ""
          }
         },
         "name": "empty_retrieval.feather",
         "offsetgroup": "empty_retrieval.feather",
         "orientation": "v",
         "showlegend": true,
         "textposition": "auto",
         "type": "bar",
         "x": [
          "factual_correctness",
          "faithfulness",
          "context_recall",
          "semantic_similarity"
         ],
         "xaxis": "x",
         "y": {
          "bdata": "0/sRP+rKwT864GEgdBzmP/hGFJh0ao4/aX/bhznF4j8=",
          "dtype": "f8"
         },
         "yaxis": "y"
        },
        {
         "alignmentgroup": "True",
         "hovertemplate": "retrieval=generative_retrieval.feather<br>metric=%{x}<br>value=%{y}<extra></extra>",
         "legendgroup": "generative_retrieval.feather",
         "marker": {
          "color": "#ab63fa",
          "pattern": {
           "shape": ""
          }
         },
         "name": "generative_retrieval.feather",
         "offsetgroup": "generative_retrieval.feather",
         "orientation": "v",
         "showlegend": true,
         "textposition": "auto",
         "type": "bar",
         "x": [
          "factual_correctness",
          "faithfulness",
          "context_recall",
          "semantic_similarity"
         ],
         "xaxis": "x",
         "y": {
          "bdata": "R58BsJi22z8vnEhEi5bnP46eQTPyNOg/nEQp4gYA6j8=",
          "dtype": "f8"
         },
         "yaxis": "y"
        },
        {
         "alignmentgroup": "True",
         "hovertemplate": "retrieval=keyphrase_retrieval.feather<br>metric=%{x}<br>value=%{y}<extra></extra>",
         "legendgroup": "keyphrase_retrieval.feather",
         "marker": {
          "color": "#FFA15A",
          "pattern": {
           "shape": ""
          }
         },
         "name": "keyphrase_retrieval.feather",
         "offsetgroup": "keyphrase_retrieval.feather",
         "orientation": "v",
         "showlegend": true,
         "textposition": "auto",
         "type": "bar",
         "x": [
          "factual_correctness",
          "faithfulness",
          "context_recall",
          "semantic_similarity"
         ],
         "xaxis": "x",
         "y": {
          "bdata": "KyL77zXc3D/QEUoUsrLpPzCwyFVNY+k/sZzJPlg36j8=",
          "dtype": "f8"
         },
         "yaxis": "y"
        },
        {
         "alignmentgroup": "True",
         "hovertemplate": "retrieval=ner_retrieval.feather<br>metric=%{x}<br>value=%{y}<extra></extra>",
         "legendgroup": "ner_retrieval.feather",
         "marker": {
          "color": "#19d3f3",
          "pattern": {
           "shape": ""
          }
         },
         "name": "ner_retrieval.feather",
         "offsetgroup": "ner_retrieval.feather",
         "orientation": "v",
         "showlegend": true,
         "textposition": "auto",
         "type": "bar",
         "x": [
          "factual_correctness",
          "faithfulness",
          "context_recall",
          "semantic_similarity"
         ],
         "xaxis": "x",
         "y": {
          "bdata": "rxTEGljX3D8IokN9v5PpPxiV6Q1Jr+g/hDROHPcD6j8=",
          "dtype": "f8"
         },
         "yaxis": "y"
        },
        {
         "alignmentgroup": "True",
         "hovertemplate": "retrieval=query_alt_retrieval.feather<br>metric=%{x}<br>value=%{y}<extra></extra>",
         "legendgroup": "query_alt_retrieval.feather",
         "marker": {
          "color": "#FF6692",
          "pattern": {
           "shape": ""
          }
         },
         "name": "query_alt_retrieval.feather",
         "offsetgroup": "query_alt_retrieval.feather",
         "orientation": "v",
         "showlegend": true,
         "textposition": "auto",
         "type": "bar",
         "x": [
          "factual_correctness",
          "faithfulness",
          "context_recall",
          "semantic_similarity"
         ],
         "xaxis": "x",
         "y": {
          "bdata": "41ZTUuTE2j/eAdYXxkLpP5NWv3sr/Oc/EyoP2VTl6T8=",
          "dtype": "f8"
         },
         "yaxis": "y"
        },
        {
         "alignmentgroup": "True",
         "hovertemplate": "retrieval=rerank_retrieval.feather<br>metric=%{x}<br>value=%{y}<extra></extra>",
         "legendgroup": "rerank_retrieval.feather",
         "marker": {
          "color": "#B6E880",
          "pattern": {
           "shape": ""
          }
         },
         "name": "rerank_retrieval.feather",
         "offsetgroup": "rerank_retrieval.feather",
         "orientation": "v",
         "showlegend": true,
         "textposition": "auto",
         "type": "bar",
         "x": [
          "factual_correctness",
          "faithfulness",
          "context_recall",
          "semantic_similarity"
         ],
         "xaxis": "x",
         "y": {
          "bdata": "L3u16vlr2z93KmB1ufjoP6xtaadRz+c/pW8+Gm/w6T8=",
          "dtype": "f8"
         },
         "yaxis": "y"
        },
        {
         "alignmentgroup": "True",
         "hovertemplate": "retrieval=theme_retrieval.feather<br>metric=%{x}<br>value=%{y}<extra></extra>",
         "legendgroup": "theme_retrieval.feather",
         "marker": {
          "color": "#FF97FF",
          "pattern": {
           "shape": ""
          }
         },
         "name": "theme_retrieval.feather",
         "offsetgroup": "theme_retrieval.feather",
         "orientation": "v",
         "showlegend": true,
         "textposition": "auto",
         "type": "bar",
         "x": [
          "factual_correctness",
          "faithfulness",
          "context_recall",
          "semantic_similarity"
         ],
         "xaxis": "x",
         "y": {
          "bdata": "Jj7XuUO03j9V05AOZUHpPy9CqQN/cek/vEnqDsFd6j8=",
          "dtype": "f8"
         },
         "yaxis": "y"
        }
       ],
       "layout": {
        "barmode": "group",
        "height": 600,
        "legend": {
         "title": {
          "text": "retrieval"
         },
         "tracegroupgap": 0
        },
        "template": {
         "data": {
          "bar": [
           {
            "error_x": {
             "color": "#2a3f5f"
            },
            "error_y": {
             "color": "#2a3f5f"
            },
            "marker": {
             "line": {
              "color": "#E5ECF6",
              "width": 0.5
             },
             "pattern": {
              "fillmode": "overlay",
              "size": 10,
              "solidity": 0.2
             }
            },
            "type": "bar"
           }
          ],
          "barpolar": [
           {
            "marker": {
             "line": {
              "color": "#E5ECF6",
              "width": 0.5
             },
             "pattern": {
              "fillmode": "overlay",
              "size": 10,
              "solidity": 0.2
             }
            },
            "type": "barpolar"
           }
          ],
          "carpet": [
           {
            "aaxis": {
             "endlinecolor": "#2a3f5f",
             "gridcolor": "white",
             "linecolor": "white",
             "minorgridcolor": "white",
             "startlinecolor": "#2a3f5f"
            },
            "baxis": {
             "endlinecolor": "#2a3f5f",
             "gridcolor": "white",
             "linecolor": "white",
             "minorgridcolor": "white",
             "startlinecolor": "#2a3f5f"
            },
            "type": "carpet"
           }
          ],
          "choropleth": [
           {
            "colorbar": {
             "outlinewidth": 0,
             "ticks": ""
            },
            "type": "choropleth"
           }
          ],
          "contour": [
           {
            "colorbar": {
             "outlinewidth": 0,
             "ticks": ""
            },
            "colorscale": [
             [
              0,
              "#0d0887"
             ],
             [
              0.1111111111111111,
              "#46039f"
             ],
             [
              0.2222222222222222,
              "#7201a8"
             ],
             [
              0.3333333333333333,
              "#9c179e"
             ],
             [
              0.4444444444444444,
              "#bd3786"
             ],
             [
              0.5555555555555556,
              "#d8576b"
             ],
             [
              0.6666666666666666,
              "#ed7953"
             ],
             [
              0.7777777777777778,
              "#fb9f3a"
             ],
             [
              0.8888888888888888,
              "#fdca26"
             ],
             [
              1,
              "#f0f921"
             ]
            ],
            "type": "contour"
           }
          ],
          "contourcarpet": [
           {
            "colorbar": {
             "outlinewidth": 0,
             "ticks": ""
            },
            "type": "contourcarpet"
           }
          ],
          "heatmap": [
           {
            "colorbar": {
             "outlinewidth": 0,
             "ticks": ""
            },
            "colorscale": [
             [
              0,
              "#0d0887"
             ],
             [
              0.1111111111111111,
              "#46039f"
             ],
             [
              0.2222222222222222,
              "#7201a8"
             ],
             [
              0.3333333333333333,
              "#9c179e"
             ],
             [
              0.4444444444444444,
              "#bd3786"
             ],
             [
              0.5555555555555556,
              "#d8576b"
             ],
             [
              0.6666666666666666,
              "#ed7953"
             ],
             [
              0.7777777777777778,
              "#fb9f3a"
             ],
             [
              0.8888888888888888,
              "#fdca26"
             ],
             [
              1,
              "#f0f921"
             ]
            ],
            "type": "heatmap"
           }
          ],
          "histogram": [
           {
            "marker": {
             "pattern": {
              "fillmode": "overlay",
              "size": 10,
              "solidity": 0.2
             }
            },
            "type": "histogram"
           }
          ],
          "histogram2d": [
           {
            "colorbar": {
             "outlinewidth": 0,
             "ticks": ""
            },
            "colorscale": [
             [
              0,
              "#0d0887"
             ],
             [
              0.1111111111111111,
              "#46039f"
             ],
             [
              0.2222222222222222,
              "#7201a8"
             ],
             [
              0.3333333333333333,
              "#9c179e"
             ],
             [
              0.4444444444444444,
              "#bd3786"
             ],
             [
              0.5555555555555556,
              "#d8576b"
             ],
             [
              0.6666666666666666,
              "#ed7953"
             ],
             [
              0.7777777777777778,
              "#fb9f3a"
             ],
             [
              0.8888888888888888,
              "#fdca26"
             ],
             [
              1,
              "#f0f921"
             ]
            ],
            "type": "histogram2d"
           }
          ],
          "histogram2dcontour": [
           {
            "colorbar": {
             "outlinewidth": 0,
             "ticks": ""
            },
            "colorscale": [
             [
              0,
              "#0d0887"
             ],
             [
              0.1111111111111111,
              "#46039f"
             ],
             [
              0.2222222222222222,
              "#7201a8"
             ],
             [
              0.3333333333333333,
              "#9c179e"
             ],
             [
              0.4444444444444444,
              "#bd3786"
             ],
             [
              0.5555555555555556,
              "#d8576b"
             ],
             [
              0.6666666666666666,
              "#ed7953"
             ],
             [
              0.7777777777777778,
              "#fb9f3a"
             ],
             [
              0.8888888888888888,
              "#fdca26"
             ],
             [
              1,
              "#f0f921"
             ]
            ],
            "type": "histogram2dcontour"
           }
          ],
          "mesh3d": [
           {
            "colorbar": {
             "outlinewidth": 0,
             "ticks": ""
            },
            "type": "mesh3d"
           }
          ],
          "parcoords": [
           {
            "line": {
             "colorbar": {
              "outlinewidth": 0,
              "ticks": ""
             }
            },
            "type": "parcoords"
           }
          ],
          "pie": [
           {
            "automargin": true,
            "type": "pie"
           }
          ],
          "scatter": [
           {
            "fillpattern": {
             "fillmode": "overlay",
             "size": 10,
             "solidity": 0.2
            },
            "type": "scatter"
           }
          ],
          "scatter3d": [
           {
            "line": {
             "colorbar": {
              "outlinewidth": 0,
              "ticks": ""
             }
            },
            "marker": {
             "colorbar": {
              "outlinewidth": 0,
              "ticks": ""
             }
            },
            "type": "scatter3d"
           }
          ],
          "scattercarpet": [
           {
            "marker": {
             "colorbar": {
              "outlinewidth": 0,
              "ticks": ""
             }
            },
            "type": "scattercarpet"
           }
          ],
          "scattergeo": [
           {
            "marker": {
             "colorbar": {
              "outlinewidth": 0,
              "ticks": ""
             }
            },
            "type": "scattergeo"
           }
          ],
          "scattergl": [
           {
            "marker": {
             "colorbar": {
              "outlinewidth": 0,
              "ticks": ""
             }
            },
            "type": "scattergl"
           }
          ],
          "scattermap": [
           {
            "marker": {
             "colorbar": {
              "outlinewidth": 0,
              "ticks": ""
             }
            },
            "type": "scattermap"
           }
          ],
          "scattermapbox": [
           {
            "marker": {
             "colorbar": {
              "outlinewidth": 0,
              "ticks": ""
             }
            },
            "type": "scattermapbox"
           }
          ],
          "scatterpolar": [
           {
            "marker": {
             "colorbar": {
              "outlinewidth": 0,
              "ticks": ""
             }
            },
            "type": "scatterpolar"
           }
          ],
          "scatterpolargl": [
           {
            "marker": {
             "colorbar": {
              "outlinewidth": 0,
              "ticks": ""
             }
            },
            "type": "scatterpolargl"
           }
          ],
          "scatterternary": [
           {
            "marker": {
             "colorbar": {
              "outlinewidth": 0,
              "ticks": ""
             }
            },
            "type": "scatterternary"
           }
          ],
          "surface": [
           {
            "colorbar": {
             "outlinewidth": 0,
             "ticks": ""
            },
            "colorscale": [
             [
              0,
              "#0d0887"
             ],
             [
              0.1111111111111111,
              "#46039f"
             ],
             [
              0.2222222222222222,
              "#7201a8"
             ],
             [
              0.3333333333333333,
              "#9c179e"
             ],
             [
              0.4444444444444444,
              "#bd3786"
             ],
             [
              0.5555555555555556,
              "#d8576b"
             ],
             [
              0.6666666666666666,
              "#ed7953"
             ],
             [
              0.7777777777777778,
              "#fb9f3a"
             ],
             [
              0.8888888888888888,
              "#fdca26"
             ],
             [
              1,
              "#f0f921"
             ]
            ],
            "type": "surface"
           }
          ],
          "table": [
           {
            "cells": {
             "fill": {
              "color": "#EBF0F8"
             },
             "line": {
              "color": "white"
             }
            },
            "header": {
             "fill": {
              "color": "#C8D4E3"
             },
             "line": {
              "color": "white"
             }
            },
            "type": "table"
           }
          ]
         },
         "layout": {
          "annotationdefaults": {
           "arrowcolor": "#2a3f5f",
           "arrowhead": 0,
           "arrowwidth": 1
          },
          "autotypenumbers": "strict",
          "coloraxis": {
           "colorbar": {
            "outlinewidth": 0,
            "ticks": ""
           }
          },
          "colorscale": {
           "diverging": [
            [
             0,
             "#8e0152"
            ],
            [
             0.1,
             "#c51b7d"
            ],
            [
             0.2,
             "#de77ae"
            ],
            [
             0.3,
             "#f1b6da"
            ],
            [
             0.4,
             "#fde0ef"
            ],
            [
             0.5,
             "#f7f7f7"
            ],
            [
             0.6,
             "#e6f5d0"
            ],
            [
             0.7,
             "#b8e186"
            ],
            [
             0.8,
             "#7fbc41"
            ],
            [
             0.9,
             "#4d9221"
            ],
            [
             1,
             "#276419"
            ]
           ],
           "sequential": [
            [
             0,
             "#0d0887"
            ],
            [
             0.1111111111111111,
             "#46039f"
            ],
            [
             0.2222222222222222,
             "#7201a8"
            ],
            [
             0.3333333333333333,
             "#9c179e"
            ],
            [
             0.4444444444444444,
             "#bd3786"
            ],
            [
             0.5555555555555556,
             "#d8576b"
            ],
            [
             0.6666666666666666,
             "#ed7953"
            ],
            [
             0.7777777777777778,
             "#fb9f3a"
            ],
            [
             0.8888888888888888,
             "#fdca26"
            ],
            [
             1,
             "#f0f921"
            ]
           ],
           "sequentialminus": [
            [
             0,
             "#0d0887"
            ],
            [
             0.1111111111111111,
             "#46039f"
            ],
            [
             0.2222222222222222,
             "#7201a8"
            ],
            [
             0.3333333333333333,
             "#9c179e"
            ],
            [
             0.4444444444444444,
             "#bd3786"
            ],
            [
             0.5555555555555556,
             "#d8576b"
            ],
            [
             0.6666666666666666,
             "#ed7953"
            ],
            [
             0.7777777777777778,
             "#fb9f3a"
            ],
            [
             0.8888888888888888,
             "#fdca26"
            ],
            [
             1,
             "#f0f921"
            ]
           ]
          },
          "colorway": [
           "#636efa",
           "#EF553B",
           "#00cc96",
           "#ab63fa",
           "#FFA15A",
           "#19d3f3",
           "#FF6692",
           "#B6E880",
           "#FF97FF",
           "#FECB52"
          ],
          "font": {
           "color": "#2a3f5f"
          },
          "geo": {
           "bgcolor": "white",
           "lakecolor": "white",
           "landcolor": "#E5ECF6",
           "showlakes": true,
           "showland": true,
           "subunitcolor": "white"
          },
          "hoverlabel": {
           "align": "left"
          },
          "hovermode": "closest",
          "mapbox": {
           "style": "light"
          },
          "paper_bgcolor": "white",
          "plot_bgcolor": "#E5ECF6",
          "polar": {
           "angularaxis": {
            "gridcolor": "white",
            "linecolor": "white",
            "ticks": ""
           },
           "bgcolor": "#E5ECF6",
           "radialaxis": {
            "gridcolor": "white",
            "linecolor": "white",
            "ticks": ""
           }
          },
          "scene": {
           "xaxis": {
            "backgroundcolor": "#E5ECF6",
            "gridcolor": "white",
            "gridwidth": 2,
            "linecolor": "white",
            "showbackground": true,
            "ticks": "",
            "zerolinecolor": "white"
           },
           "yaxis": {
            "backgroundcolor": "#E5ECF6",
            "gridcolor": "white",
            "gridwidth": 2,
            "linecolor": "white",
            "showbackground": true,
            "ticks": "",
            "zerolinecolor": "white"
           },
           "zaxis": {
            "backgroundcolor": "#E5ECF6",
            "gridcolor": "white",
            "gridwidth": 2,
            "linecolor": "white",
            "showbackground": true,
            "ticks": "",
            "zerolinecolor": "white"
           }
          },
          "shapedefaults": {
           "line": {
            "color": "#2a3f5f"
           }
          },
          "ternary": {
           "aaxis": {
            "gridcolor": "white",
            "linecolor": "white",
            "ticks": ""
           },
           "baxis": {
            "gridcolor": "white",
            "linecolor": "white",
            "ticks": ""
           },
           "bgcolor": "#E5ECF6",
           "caxis": {
            "gridcolor": "white",
            "linecolor": "white",
            "ticks": ""
           }
          },
          "title": {
           "x": 0.05
          },
          "xaxis": {
           "automargin": true,
           "gridcolor": "white",
           "linecolor": "white",
           "ticks": "",
           "title": {
            "standoff": 15
           },
           "zerolinecolor": "white",
           "zerolinewidth": 2
          },
          "yaxis": {
           "automargin": true,
           "gridcolor": "white",
           "linecolor": "white",
           "ticks": "",
           "title": {
            "standoff": 15
           },
           "zerolinecolor": "white",
           "zerolinewidth": 2
          }
         }
        },
        "title": {
         "font": {
          "size": 24
         },
         "text": "Cumulative Results"
        },
        "width": 1200,
        "xaxis": {
         "anchor": "y",
         "domain": [
          0,
          1
         ],
         "showgrid": true,
         "title": {
          "text": "metric"
         }
        },
        "yaxis": {
         "anchor": "x",
         "domain": [
          0,
          1
         ],
         "title": {
          "text": "value"
         }
        }
       }
      }
     },
     "metadata": {},
     "output_type": "display_data"
    },
    {
     "data": {
      "application/vnd.plotly.v1+json": {
       "config": {
        "plotlyServerURL": "https://plot.ly"
       },
       "data": [
        {
         "alignmentgroup": "True",
         "hovertemplate": "retrieval=context_query_alt_retrieval.feather<br>model=aya-expanse_latest<br>dataset=%{x}<br>time=%{y}<extra></extra>",
         "legendgroup": "context_query_alt_retrieval.feather",
         "marker": {
          "color": "#636efa",
          "pattern": {
           "shape": ""
          }
         },
         "name": "context_query_alt_retrieval.feather",
         "offsetgroup": "context_query_alt_retrieval.feather",
         "orientation": "v",
         "showlegend": true,
         "textposition": "auto",
         "type": "bar",
         "x": [
          "dcache_synthetic_data",
          "dirac_pilot_synthetic_data",
          "dirac_synthetic_data",
          "it4i_synthetic_data"
         ],
         "xaxis": "x2",
         "y": {
          "bdata": "ZmZm+DtgTkDFTuw4W4FIQPYoXMEdlU1AexSu677rTkA=",
          "dtype": "f8"
         },
         "yaxis": "y2"
        },
        {
         "alignmentgroup": "True",
         "hovertemplate": "retrieval=context_query_alt_retrieval.feather<br>model=llama3.3_latest<br>dataset=%{x}<br>time=%{y}<extra></extra>",
         "legendgroup": "context_query_alt_retrieval.feather",
         "marker": {
          "color": "#636efa",
          "pattern": {
           "shape": ""
          }
         },
         "name": "context_query_alt_retrieval.feather",
         "offsetgroup": "context_query_alt_retrieval.feather",
         "orientation": "v",
         "showlegend": false,
         "textposition": "auto",
         "type": "bar",
         "x": [
          "dcache_synthetic_data",
          "dirac_pilot_synthetic_data",
          "dirac_synthetic_data",
          "it4i_synthetic_data"
         ],
         "xaxis": "x",
         "y": {
          "bdata": "w/Uo0FOZMkCxEzu54hAoQPYoXNeJfjFAH4XriewtNEA=",
          "dtype": "f8"
         },
         "yaxis": "y"
        },
        {
         "alignmentgroup": "True",
         "hovertemplate": "retrieval=document_retrieval.feather<br>model=aya-expanse_latest<br>dataset=%{x}<br>time=%{y}<extra></extra>",
         "legendgroup": "document_retrieval.feather",
         "marker": {
          "color": "#EF553B",
          "pattern": {
           "shape": ""
          }
         },
         "name": "document_retrieval.feather",
         "offsetgroup": "document_retrieval.feather",
         "orientation": "v",
         "showlegend": true,
         "textposition": "auto",
         "type": "bar",
         "x": [
          "dcache_synthetic_data",
          "dirac_pilot_synthetic_data",
          "dirac_synthetic_data",
          "it4i_synthetic_data"
         ],
         "xaxis": "x2",
         "y": {
          "bdata": "H4XrBQRJMUBiJ3aWpEokQD0K13NyAC5AUrgedVH2MUA=",
          "dtype": "f8"
         },
         "yaxis": "y2"
        },
        {
         "alignmentgroup": "True",
         "hovertemplate": "retrieval=document_retrieval.feather<br>model=llama3.3_latest<br>dataset=%{x}<br>time=%{y}<extra></extra>",
         "legendgroup": "document_retrieval.feather",
         "marker": {
          "color": "#EF553B",
          "pattern": {
           "shape": ""
          }
         },
         "name": "document_retrieval.feather",
         "offsetgroup": "document_retrieval.feather",
         "orientation": "v",
         "showlegend": false,
         "textposition": "auto",
         "type": "bar",
         "x": [
          "dcache_synthetic_data",
          "dirac_pilot_synthetic_data",
          "dirac_synthetic_data",
          "it4i_synthetic_data"
         ],
         "xaxis": "x",
         "y": {
          "bdata": "zczMDJfdG0B2YieW2mEHQI/C9ShSORhAexSuV8ZrHUA=",
          "dtype": "f8"
         },
         "yaxis": "y"
        },
        {
         "alignmentgroup": "True",
         "hovertemplate": "retrieval=empty_retrieval.feather<br>model=aya-expanse_latest<br>dataset=%{x}<br>time=%{y}<extra></extra>",
         "legendgroup": "empty_retrieval.feather",
         "marker": {
          "color": "#00cc96",
          "pattern": {
           "shape": ""
          }
         },
         "name": "empty_retrieval.feather",
         "offsetgroup": "empty_retrieval.feather",
         "orientation": "v",
         "showlegend": true,
         "textposition": "auto",
         "type": "bar",
         "x": [
          "dcache_synthetic_data",
          "dirac_pilot_synthetic_data",
          "dirac_synthetic_data",
          "it4i_synthetic_data"
         ],
         "xaxis": "x2",
         "y": {
          "bdata": "16Nw7XvxKUBP7MQ2svUfQAAAANg6fCRAhetROCXAK0A=",
          "dtype": "f8"
         },
         "yaxis": "y2"
        },
        {
         "alignmentgroup": "True",
         "hovertemplate": "retrieval=empty_retrieval.feather<br>model=llama3.3_latest<br>dataset=%{x}<br>time=%{y}<extra></extra>",
         "legendgroup": "empty_retrieval.feather",
         "marker": {
          "color": "#00cc96",
          "pattern": {
           "shape": ""
          }
         },
         "name": "empty_retrieval.feather",
         "offsetgroup": "empty_retrieval.feather",
         "orientation": "v",
         "showlegend": false,
         "textposition": "auto",
         "type": "bar",
         "x": [
          "dcache_synthetic_data",
          "dirac_pilot_synthetic_data",
          "dirac_synthetic_data",
          "it4i_synthetic_data"
         ],
         "xaxis": "x",
         "y": {
          "bdata": "SOF69ByqAUA7sRMbxtDyP+F6FK70vvw/j8L1qO+cCEA=",
          "dtype": "f8"
         },
         "yaxis": "y"
        },
        {
         "alignmentgroup": "True",
         "hovertemplate": "retrieval=generative_retrieval.feather<br>model=aya-expanse_latest<br>dataset=%{x}<br>time=%{y}<extra></extra>",
         "legendgroup": "generative_retrieval.feather",
         "marker": {
          "color": "#ab63fa",
          "pattern": {
           "shape": ""
          }
         },
         "name": "generative_retrieval.feather",
         "offsetgroup": "generative_retrieval.feather",
         "orientation": "v",
         "showlegend": true,
         "textposition": "auto",
         "type": "bar",
         "x": [
          "dcache_synthetic_data",
          "dirac_pilot_synthetic_data",
          "dirac_synthetic_data",
          "it4i_synthetic_data"
         ],
         "xaxis": "x2",
         "y": {
          "bdata": "exSu4UjmQUCKndizlZY8QEjheqroBkFAAAAAoAtFQkA=",
          "dtype": "f8"
         },
         "yaxis": "y2"
        },
        {
         "alignmentgroup": "True",
         "hovertemplate": "retrieval=generative_retrieval.feather<br>model=llama3.3_latest<br>dataset=%{x}<br>time=%{y}<extra></extra>",
         "legendgroup": "generative_retrieval.feather",
         "marker": {
          "color": "#ab63fa",
          "pattern": {
           "shape": ""
          }
         },
         "name": "generative_retrieval.feather",
         "offsetgroup": "generative_retrieval.feather",
         "orientation": "v",
         "showlegend": false,
         "textposition": "auto",
         "type": "bar",
         "x": [
          "dcache_synthetic_data",
          "dirac_pilot_synthetic_data",
          "dirac_synthetic_data",
          "it4i_synthetic_data"
         ],
         "xaxis": "x",
         "y": {
          "bdata": "4XoUfrH4JUBP7MS2Yb8cQFyPws39pCRAhetRQNPaJkA=",
          "dtype": "f8"
         },
         "yaxis": "y"
        },
        {
         "alignmentgroup": "True",
         "hovertemplate": "retrieval=keyphrase_retrieval.feather<br>model=aya-expanse_latest<br>dataset=%{x}<br>time=%{y}<extra></extra>",
         "legendgroup": "keyphrase_retrieval.feather",
         "marker": {
          "color": "#FFA15A",
          "pattern": {
           "shape": ""
          }
         },
         "name": "keyphrase_retrieval.feather",
         "offsetgroup": "keyphrase_retrieval.feather",
         "orientation": "v",
         "showlegend": true,
         "textposition": "auto",
         "type": "bar",
         "x": [
          "dcache_synthetic_data",
          "dirac_pilot_synthetic_data",
          "dirac_synthetic_data",
          "it4i_synthetic_data"
         ],
         "xaxis": "x2",
         "y": {
          "bdata": "KVyPbsq7OUDZiZ3EizUwQNejcOFgSDZASOF6yJwzOUA=",
          "dtype": "f8"
         },
         "yaxis": "y2"
        },
        {
         "alignmentgroup": "True",
         "hovertemplate": "retrieval=keyphrase_retrieval.feather<br>model=llama3.3_latest<br>dataset=%{x}<br>time=%{y}<extra></extra>",
         "legendgroup": "keyphrase_retrieval.feather",
         "marker": {
          "color": "#FFA15A",
          "pattern": {
           "shape": ""
          }
         },
         "name": "keyphrase_retrieval.feather",
         "offsetgroup": "keyphrase_retrieval.feather",
         "orientation": "v",
         "showlegend": false,
         "textposition": "auto",
         "type": "bar",
         "x": [
          "dcache_synthetic_data",
          "dirac_pilot_synthetic_data",
          "dirac_synthetic_data",
          "it4i_synthetic_data"
         ],
         "xaxis": "x",
         "y": {
          "bdata": "XI/Cd/QpRECKndg8nUdCQFK4HldVqkRAw/UoulqRRUA=",
          "dtype": "f8"
         },
         "yaxis": "y"
        },
        {
         "alignmentgroup": "True",
         "hovertemplate": "retrieval=ner_retrieval.feather<br>model=aya-expanse_latest<br>dataset=%{x}<br>time=%{y}<extra></extra>",
         "legendgroup": "ner_retrieval.feather",
         "marker": {
          "color": "#19d3f3",
          "pattern": {
           "shape": ""
          }
         },
         "name": "ner_retrieval.feather",
         "offsetgroup": "ner_retrieval.feather",
         "orientation": "v",
         "showlegend": true,
         "textposition": "auto",
         "type": "bar",
         "x": [
          "dcache_synthetic_data",
          "dirac_pilot_synthetic_data",
          "dirac_synthetic_data",
          "it4i_synthetic_data"
         ],
         "xaxis": "x2",
         "y": {
          "bdata": "9ihcEz47OECe2IlxbDEsQK5H4dLrHDVAj8L1oHHfN0A=",
          "dtype": "f8"
         },
         "yaxis": "y2"
        },
        {
         "alignmentgroup": "True",
         "hovertemplate": "retrieval=ner_retrieval.feather<br>model=llama3.3_latest<br>dataset=%{x}<br>time=%{y}<extra></extra>",
         "legendgroup": "ner_retrieval.feather",
         "marker": {
          "color": "#19d3f3",
          "pattern": {
           "shape": ""
          }
         },
         "name": "ner_retrieval.feather",
         "offsetgroup": "ner_retrieval.feather",
         "orientation": "v",
         "showlegend": false,
         "textposition": "auto",
         "type": "bar",
         "x": [
          "dcache_synthetic_data",
          "dirac_pilot_synthetic_data",
          "dirac_synthetic_data",
          "it4i_synthetic_data"
         ],
         "xaxis": "x",
         "y": {
          "bdata": "MzMzK51UJkCxEzvpfgAbQMP1KBTu1iFAuB6Fk9AIKEA=",
          "dtype": "f8"
         },
         "yaxis": "y"
        },
        {
         "alignmentgroup": "True",
         "hovertemplate": "retrieval=query_alt_retrieval.feather<br>model=aya-expanse_latest<br>dataset=%{x}<br>time=%{y}<extra></extra>",
         "legendgroup": "query_alt_retrieval.feather",
         "marker": {
          "color": "#FF6692",
          "pattern": {
           "shape": ""
          }
         },
         "name": "query_alt_retrieval.feather",
         "offsetgroup": "query_alt_retrieval.feather",
         "orientation": "v",
         "showlegend": true,
         "textposition": "auto",
         "type": "bar",
         "x": [
          "dcache_synthetic_data",
          "dirac_pilot_synthetic_data",
          "dirac_synthetic_data",
          "it4i_synthetic_data"
         ],
         "xaxis": "x2",
         "y": {
          "bdata": "FK5HiYm5PEAAAADI9ZY1QOxRuHoPLzlAUrge5YTOOkA=",
          "dtype": "f8"
         },
         "yaxis": "y2"
        },
        {
         "alignmentgroup": "True",
         "hovertemplate": "retrieval=query_alt_retrieval.feather<br>model=llama3.3_latest<br>dataset=%{x}<br>time=%{y}<extra></extra>",
         "legendgroup": "query_alt_retrieval.feather",
         "marker": {
          "color": "#FF6692",
          "pattern": {
           "shape": ""
          }
         },
         "name": "query_alt_retrieval.feather",
         "offsetgroup": "query_alt_retrieval.feather",
         "orientation": "v",
         "showlegend": false,
         "textposition": "auto",
         "type": "bar",
         "x": [
          "dcache_synthetic_data",
          "dirac_pilot_synthetic_data",
          "dirac_synthetic_data",
          "it4i_synthetic_data"
         ],
         "xaxis": "x",
         "y": {
          "bdata": "9ihcBxcpI0B2YidWRtAZQOF6FGaHOCNAuB6FG+mHJUA=",
          "dtype": "f8"
         },
         "yaxis": "y"
        },
        {
         "alignmentgroup": "True",
         "hovertemplate": "retrieval=rerank_retrieval.feather<br>model=aya-expanse_latest<br>dataset=%{x}<br>time=%{y}<extra></extra>",
         "legendgroup": "rerank_retrieval.feather",
         "marker": {
          "color": "#B6E880",
          "pattern": {
           "shape": ""
          }
         },
         "name": "rerank_retrieval.feather",
         "offsetgroup": "rerank_retrieval.feather",
         "orientation": "v",
         "showlegend": true,
         "textposition": "auto",
         "type": "bar",
         "x": [
          "dcache_synthetic_data",
          "dirac_pilot_synthetic_data",
          "dirac_synthetic_data",
          "it4i_synthetic_data"
         ],
         "xaxis": "x2",
         "y": {
          "bdata": "exSus3/bVUCe2Il5DwhCQBSuRydsilVAXI/CXAqbVUA=",
          "dtype": "f8"
         },
         "yaxis": "y2"
        },
        {
         "alignmentgroup": "True",
         "hovertemplate": "retrieval=rerank_retrieval.feather<br>model=llama3.3_latest<br>dataset=%{x}<br>time=%{y}<extra></extra>",
         "legendgroup": "rerank_retrieval.feather",
         "marker": {
          "color": "#B6E880",
          "pattern": {
           "shape": ""
          }
         },
         "name": "rerank_retrieval.feather",
         "offsetgroup": "rerank_retrieval.feather",
         "orientation": "v",
         "showlegend": false,
         "textposition": "auto",
         "type": "bar",
         "x": [
          "dcache_synthetic_data",
          "dirac_pilot_synthetic_data",
          "dirac_synthetic_data",
          "it4i_synthetic_data"
         ],
         "xaxis": "x",
         "y": {
          "bdata": "uB6Fe0nAJkDsxE5876IXQKRwPeqcCCVAMzMzwz8bKUA=",
          "dtype": "f8"
         },
         "yaxis": "y"
        },
        {
         "alignmentgroup": "True",
         "hovertemplate": "retrieval=theme_retrieval.feather<br>model=aya-expanse_latest<br>dataset=%{x}<br>time=%{y}<extra></extra>",
         "legendgroup": "theme_retrieval.feather",
         "marker": {
          "color": "#FF97FF",
          "pattern": {
           "shape": ""
          }
         },
         "name": "theme_retrieval.feather",
         "offsetgroup": "theme_retrieval.feather",
         "orientation": "v",
         "showlegend": true,
         "textposition": "auto",
         "type": "bar",
         "x": [
          "dcache_synthetic_data",
          "dirac_pilot_synthetic_data",
          "dirac_synthetic_data",
          "it4i_synthetic_data"
         ],
         "xaxis": "x2",
         "y": {
          "bdata": "w/Uo/FyPOUBP7MTKQmMwQFyPwoWQvTVACtej4GfAOkA=",
          "dtype": "f8"
         },
         "yaxis": "y2"
        },
        {
         "alignmentgroup": "True",
         "hovertemplate": "retrieval=theme_retrieval.feather<br>model=llama3.3_latest<br>dataset=%{x}<br>time=%{y}<extra></extra>",
         "legendgroup": "theme_retrieval.feather",
         "marker": {
          "color": "#FF97FF",
          "pattern": {
           "shape": ""
          }
         },
         "name": "theme_retrieval.feather",
         "offsetgroup": "theme_retrieval.feather",
         "orientation": "v",
         "showlegend": false,
         "textposition": "auto",
         "type": "bar",
         "x": [
          "dcache_synthetic_data",
          "dirac_pilot_synthetic_data",
          "dirac_synthetic_data",
          "it4i_synthetic_data"
         ],
         "xaxis": "x",
         "y": {
          "bdata": "ZmZmtmTrKUAAAABcAWkjQFyPwlV1ByZAFK5Huay9LkA=",
          "dtype": "f8"
         },
         "yaxis": "y"
        }
       ],
       "layout": {
        "annotations": [
         {
          "font": {},
          "showarrow": false,
          "text": "model=llama3.3_latest",
          "textangle": 90,
          "x": 0.98,
          "xanchor": "left",
          "xref": "paper",
          "y": 0.2425,
          "yanchor": "middle",
          "yref": "paper"
         },
         {
          "font": {},
          "showarrow": false,
          "text": "model=aya-expanse_latest",
          "textangle": 90,
          "x": 0.98,
          "xanchor": "left",
          "xref": "paper",
          "y": 0.7575000000000001,
          "yanchor": "middle",
          "yref": "paper"
         }
        ],
        "barmode": "group",
        "height": 1200,
        "legend": {
         "title": {
          "text": "retrieval"
         },
         "tracegroupgap": 0
        },
        "template": {
         "data": {
          "bar": [
           {
            "error_x": {
             "color": "#2a3f5f"
            },
            "error_y": {
             "color": "#2a3f5f"
            },
            "marker": {
             "line": {
              "color": "#E5ECF6",
              "width": 0.5
             },
             "pattern": {
              "fillmode": "overlay",
              "size": 10,
              "solidity": 0.2
             }
            },
            "type": "bar"
           }
          ],
          "barpolar": [
           {
            "marker": {
             "line": {
              "color": "#E5ECF6",
              "width": 0.5
             },
             "pattern": {
              "fillmode": "overlay",
              "size": 10,
              "solidity": 0.2
             }
            },
            "type": "barpolar"
           }
          ],
          "carpet": [
           {
            "aaxis": {
             "endlinecolor": "#2a3f5f",
             "gridcolor": "white",
             "linecolor": "white",
             "minorgridcolor": "white",
             "startlinecolor": "#2a3f5f"
            },
            "baxis": {
             "endlinecolor": "#2a3f5f",
             "gridcolor": "white",
             "linecolor": "white",
             "minorgridcolor": "white",
             "startlinecolor": "#2a3f5f"
            },
            "type": "carpet"
           }
          ],
          "choropleth": [
           {
            "colorbar": {
             "outlinewidth": 0,
             "ticks": ""
            },
            "type": "choropleth"
           }
          ],
          "contour": [
           {
            "colorbar": {
             "outlinewidth": 0,
             "ticks": ""
            },
            "colorscale": [
             [
              0,
              "#0d0887"
             ],
             [
              0.1111111111111111,
              "#46039f"
             ],
             [
              0.2222222222222222,
              "#7201a8"
             ],
             [
              0.3333333333333333,
              "#9c179e"
             ],
             [
              0.4444444444444444,
              "#bd3786"
             ],
             [
              0.5555555555555556,
              "#d8576b"
             ],
             [
              0.6666666666666666,
              "#ed7953"
             ],
             [
              0.7777777777777778,
              "#fb9f3a"
             ],
             [
              0.8888888888888888,
              "#fdca26"
             ],
             [
              1,
              "#f0f921"
             ]
            ],
            "type": "contour"
           }
          ],
          "contourcarpet": [
           {
            "colorbar": {
             "outlinewidth": 0,
             "ticks": ""
            },
            "type": "contourcarpet"
           }
          ],
          "heatmap": [
           {
            "colorbar": {
             "outlinewidth": 0,
             "ticks": ""
            },
            "colorscale": [
             [
              0,
              "#0d0887"
             ],
             [
              0.1111111111111111,
              "#46039f"
             ],
             [
              0.2222222222222222,
              "#7201a8"
             ],
             [
              0.3333333333333333,
              "#9c179e"
             ],
             [
              0.4444444444444444,
              "#bd3786"
             ],
             [
              0.5555555555555556,
              "#d8576b"
             ],
             [
              0.6666666666666666,
              "#ed7953"
             ],
             [
              0.7777777777777778,
              "#fb9f3a"
             ],
             [
              0.8888888888888888,
              "#fdca26"
             ],
             [
              1,
              "#f0f921"
             ]
            ],
            "type": "heatmap"
           }
          ],
          "histogram": [
           {
            "marker": {
             "pattern": {
              "fillmode": "overlay",
              "size": 10,
              "solidity": 0.2
             }
            },
            "type": "histogram"
           }
          ],
          "histogram2d": [
           {
            "colorbar": {
             "outlinewidth": 0,
             "ticks": ""
            },
            "colorscale": [
             [
              0,
              "#0d0887"
             ],
             [
              0.1111111111111111,
              "#46039f"
             ],
             [
              0.2222222222222222,
              "#7201a8"
             ],
             [
              0.3333333333333333,
              "#9c179e"
             ],
             [
              0.4444444444444444,
              "#bd3786"
             ],
             [
              0.5555555555555556,
              "#d8576b"
             ],
             [
              0.6666666666666666,
              "#ed7953"
             ],
             [
              0.7777777777777778,
              "#fb9f3a"
             ],
             [
              0.8888888888888888,
              "#fdca26"
             ],
             [
              1,
              "#f0f921"
             ]
            ],
            "type": "histogram2d"
           }
          ],
          "histogram2dcontour": [
           {
            "colorbar": {
             "outlinewidth": 0,
             "ticks": ""
            },
            "colorscale": [
             [
              0,
              "#0d0887"
             ],
             [
              0.1111111111111111,
              "#46039f"
             ],
             [
              0.2222222222222222,
              "#7201a8"
             ],
             [
              0.3333333333333333,
              "#9c179e"
             ],
             [
              0.4444444444444444,
              "#bd3786"
             ],
             [
              0.5555555555555556,
              "#d8576b"
             ],
             [
              0.6666666666666666,
              "#ed7953"
             ],
             [
              0.7777777777777778,
              "#fb9f3a"
             ],
             [
              0.8888888888888888,
              "#fdca26"
             ],
             [
              1,
              "#f0f921"
             ]
            ],
            "type": "histogram2dcontour"
           }
          ],
          "mesh3d": [
           {
            "colorbar": {
             "outlinewidth": 0,
             "ticks": ""
            },
            "type": "mesh3d"
           }
          ],
          "parcoords": [
           {
            "line": {
             "colorbar": {
              "outlinewidth": 0,
              "ticks": ""
             }
            },
            "type": "parcoords"
           }
          ],
          "pie": [
           {
            "automargin": true,
            "type": "pie"
           }
          ],
          "scatter": [
           {
            "fillpattern": {
             "fillmode": "overlay",
             "size": 10,
             "solidity": 0.2
            },
            "type": "scatter"
           }
          ],
          "scatter3d": [
           {
            "line": {
             "colorbar": {
              "outlinewidth": 0,
              "ticks": ""
             }
            },
            "marker": {
             "colorbar": {
              "outlinewidth": 0,
              "ticks": ""
             }
            },
            "type": "scatter3d"
           }
          ],
          "scattercarpet": [
           {
            "marker": {
             "colorbar": {
              "outlinewidth": 0,
              "ticks": ""
             }
            },
            "type": "scattercarpet"
           }
          ],
          "scattergeo": [
           {
            "marker": {
             "colorbar": {
              "outlinewidth": 0,
              "ticks": ""
             }
            },
            "type": "scattergeo"
           }
          ],
          "scattergl": [
           {
            "marker": {
             "colorbar": {
              "outlinewidth": 0,
              "ticks": ""
             }
            },
            "type": "scattergl"
           }
          ],
          "scattermap": [
           {
            "marker": {
             "colorbar": {
              "outlinewidth": 0,
              "ticks": ""
             }
            },
            "type": "scattermap"
           }
          ],
          "scattermapbox": [
           {
            "marker": {
             "colorbar": {
              "outlinewidth": 0,
              "ticks": ""
             }
            },
            "type": "scattermapbox"
           }
          ],
          "scatterpolar": [
           {
            "marker": {
             "colorbar": {
              "outlinewidth": 0,
              "ticks": ""
             }
            },
            "type": "scatterpolar"
           }
          ],
          "scatterpolargl": [
           {
            "marker": {
             "colorbar": {
              "outlinewidth": 0,
              "ticks": ""
             }
            },
            "type": "scatterpolargl"
           }
          ],
          "scatterternary": [
           {
            "marker": {
             "colorbar": {
              "outlinewidth": 0,
              "ticks": ""
             }
            },
            "type": "scatterternary"
           }
          ],
          "surface": [
           {
            "colorbar": {
             "outlinewidth": 0,
             "ticks": ""
            },
            "colorscale": [
             [
              0,
              "#0d0887"
             ],
             [
              0.1111111111111111,
              "#46039f"
             ],
             [
              0.2222222222222222,
              "#7201a8"
             ],
             [
              0.3333333333333333,
              "#9c179e"
             ],
             [
              0.4444444444444444,
              "#bd3786"
             ],
             [
              0.5555555555555556,
              "#d8576b"
             ],
             [
              0.6666666666666666,
              "#ed7953"
             ],
             [
              0.7777777777777778,
              "#fb9f3a"
             ],
             [
              0.8888888888888888,
              "#fdca26"
             ],
             [
              1,
              "#f0f921"
             ]
            ],
            "type": "surface"
           }
          ],
          "table": [
           {
            "cells": {
             "fill": {
              "color": "#EBF0F8"
             },
             "line": {
              "color": "white"
             }
            },
            "header": {
             "fill": {
              "color": "#C8D4E3"
             },
             "line": {
              "color": "white"
             }
            },
            "type": "table"
           }
          ]
         },
         "layout": {
          "annotationdefaults": {
           "arrowcolor": "#2a3f5f",
           "arrowhead": 0,
           "arrowwidth": 1
          },
          "autotypenumbers": "strict",
          "coloraxis": {
           "colorbar": {
            "outlinewidth": 0,
            "ticks": ""
           }
          },
          "colorscale": {
           "diverging": [
            [
             0,
             "#8e0152"
            ],
            [
             0.1,
             "#c51b7d"
            ],
            [
             0.2,
             "#de77ae"
            ],
            [
             0.3,
             "#f1b6da"
            ],
            [
             0.4,
             "#fde0ef"
            ],
            [
             0.5,
             "#f7f7f7"
            ],
            [
             0.6,
             "#e6f5d0"
            ],
            [
             0.7,
             "#b8e186"
            ],
            [
             0.8,
             "#7fbc41"
            ],
            [
             0.9,
             "#4d9221"
            ],
            [
             1,
             "#276419"
            ]
           ],
           "sequential": [
            [
             0,
             "#0d0887"
            ],
            [
             0.1111111111111111,
             "#46039f"
            ],
            [
             0.2222222222222222,
             "#7201a8"
            ],
            [
             0.3333333333333333,
             "#9c179e"
            ],
            [
             0.4444444444444444,
             "#bd3786"
            ],
            [
             0.5555555555555556,
             "#d8576b"
            ],
            [
             0.6666666666666666,
             "#ed7953"
            ],
            [
             0.7777777777777778,
             "#fb9f3a"
            ],
            [
             0.8888888888888888,
             "#fdca26"
            ],
            [
             1,
             "#f0f921"
            ]
           ],
           "sequentialminus": [
            [
             0,
             "#0d0887"
            ],
            [
             0.1111111111111111,
             "#46039f"
            ],
            [
             0.2222222222222222,
             "#7201a8"
            ],
            [
             0.3333333333333333,
             "#9c179e"
            ],
            [
             0.4444444444444444,
             "#bd3786"
            ],
            [
             0.5555555555555556,
             "#d8576b"
            ],
            [
             0.6666666666666666,
             "#ed7953"
            ],
            [
             0.7777777777777778,
             "#fb9f3a"
            ],
            [
             0.8888888888888888,
             "#fdca26"
            ],
            [
             1,
             "#f0f921"
            ]
           ]
          },
          "colorway": [
           "#636efa",
           "#EF553B",
           "#00cc96",
           "#ab63fa",
           "#FFA15A",
           "#19d3f3",
           "#FF6692",
           "#B6E880",
           "#FF97FF",
           "#FECB52"
          ],
          "font": {
           "color": "#2a3f5f"
          },
          "geo": {
           "bgcolor": "white",
           "lakecolor": "white",
           "landcolor": "#E5ECF6",
           "showlakes": true,
           "showland": true,
           "subunitcolor": "white"
          },
          "hoverlabel": {
           "align": "left"
          },
          "hovermode": "closest",
          "mapbox": {
           "style": "light"
          },
          "paper_bgcolor": "white",
          "plot_bgcolor": "#E5ECF6",
          "polar": {
           "angularaxis": {
            "gridcolor": "white",
            "linecolor": "white",
            "ticks": ""
           },
           "bgcolor": "#E5ECF6",
           "radialaxis": {
            "gridcolor": "white",
            "linecolor": "white",
            "ticks": ""
           }
          },
          "scene": {
           "xaxis": {
            "backgroundcolor": "#E5ECF6",
            "gridcolor": "white",
            "gridwidth": 2,
            "linecolor": "white",
            "showbackground": true,
            "ticks": "",
            "zerolinecolor": "white"
           },
           "yaxis": {
            "backgroundcolor": "#E5ECF6",
            "gridcolor": "white",
            "gridwidth": 2,
            "linecolor": "white",
            "showbackground": true,
            "ticks": "",
            "zerolinecolor": "white"
           },
           "zaxis": {
            "backgroundcolor": "#E5ECF6",
            "gridcolor": "white",
            "gridwidth": 2,
            "linecolor": "white",
            "showbackground": true,
            "ticks": "",
            "zerolinecolor": "white"
           }
          },
          "shapedefaults": {
           "line": {
            "color": "#2a3f5f"
           }
          },
          "ternary": {
           "aaxis": {
            "gridcolor": "white",
            "linecolor": "white",
            "ticks": ""
           },
           "baxis": {
            "gridcolor": "white",
            "linecolor": "white",
            "ticks": ""
           },
           "bgcolor": "#E5ECF6",
           "caxis": {
            "gridcolor": "white",
            "linecolor": "white",
            "ticks": ""
           }
          },
          "title": {
           "x": 0.05
          },
          "xaxis": {
           "automargin": true,
           "gridcolor": "white",
           "linecolor": "white",
           "ticks": "",
           "title": {
            "standoff": 15
           },
           "zerolinecolor": "white",
           "zerolinewidth": 2
          },
          "yaxis": {
           "automargin": true,
           "gridcolor": "white",
           "linecolor": "white",
           "ticks": "",
           "title": {
            "standoff": 15
           },
           "zerolinecolor": "white",
           "zerolinewidth": 2
          }
         }
        },
        "title": {
         "text": "Time to retrieve"
        },
        "width": 1200,
        "xaxis": {
         "anchor": "y",
         "domain": [
          0,
          0.98
         ],
         "title": {
          "text": "dataset"
         }
        },
        "xaxis2": {
         "anchor": "y2",
         "domain": [
          0,
          0.98
         ],
         "matches": "x",
         "showticklabels": false
        },
        "yaxis": {
         "anchor": "x",
         "domain": [
          0,
          0.485
         ],
         "title": {
          "text": "time"
         }
        },
        "yaxis2": {
         "anchor": "x2",
         "domain": [
          0.515,
          1
         ],
         "matches": "y",
         "title": {
          "text": "time"
         }
        }
       }
      }
     },
     "metadata": {},
     "output_type": "display_data"
    },
    {
     "data": {
      "application/vnd.plotly.v1+json": {
       "config": {
        "plotlyServerURL": "https://plot.ly"
       },
       "data": [
        {
         "hovertemplate": "retrieval=%{x}<br>time=%{y}<extra></extra>",
         "legendgroup": "context_query_alt_retrieval.feather",
         "marker": {
          "color": "#636efa",
          "pattern": {
           "shape": ""
          }
         },
         "name": "context_query_alt_retrieval.feather",
         "orientation": "v",
         "showlegend": true,
         "textposition": "auto",
         "type": "bar",
         "x": [
          "context_query_alt_retrieval.feather"
         ],
         "xaxis": "x",
         "y": {
          "bdata": "VoZvv3+oQkA=",
          "dtype": "f8"
         },
         "yaxis": "y"
        },
        {
         "hovertemplate": "retrieval=%{x}<br>time=%{y}<extra></extra>",
         "legendgroup": "document_retrieval.feather",
         "marker": {
          "color": "#EF553B",
          "pattern": {
           "shape": ""
          }
         },
         "name": "document_retrieval.feather",
         "orientation": "v",
         "showlegend": true,
         "textposition": "auto",
         "type": "bar",
         "x": [
          "document_retrieval.feather"
         ],
         "xaxis": "x",
         "y": {
          "bdata": "RIFJI4nYJEA=",
          "dtype": "f8"
         },
         "yaxis": "y"
        },
        {
         "hovertemplate": "retrieval=%{x}<br>time=%{y}<extra></extra>",
         "legendgroup": "empty_retrieval.feather",
         "marker": {
          "color": "#00cc96",
          "pattern": {
           "shape": ""
          }
         },
         "name": "empty_retrieval.feather",
         "orientation": "v",
         "showlegend": true,
         "textposition": "auto",
         "type": "bar",
         "x": [
          "empty_retrieval.feather"
         ],
         "xaxis": "x",
         "y": {
          "bdata": "y/CNiPqVGkA=",
          "dtype": "f8"
         },
         "yaxis": "y"
        },
        {
         "hovertemplate": "retrieval=%{x}<br>time=%{y}<extra></extra>",
         "legendgroup": "generative_retrieval.feather",
         "marker": {
          "color": "#ab63fa",
          "pattern": {
           "shape": ""
          }
         },
         "name": "generative_retrieval.feather",
         "orientation": "v",
         "showlegend": true,
         "textposition": "auto",
         "type": "bar",
         "x": [
          "generative_retrieval.feather"
         ],
         "xaxis": "x",
         "y": {
          "bdata": "0ql5wNHSNUA=",
          "dtype": "f8"
         },
         "yaxis": "y"
        },
        {
         "hovertemplate": "retrieval=%{x}<br>time=%{y}<extra></extra>",
         "legendgroup": "keyphrase_retrieval.feather",
         "marker": {
          "color": "#FFA15A",
          "pattern": {
           "shape": ""
          }
         },
         "name": "keyphrase_retrieval.feather",
         "orientation": "v",
         "showlegend": true,
         "textposition": "auto",
         "type": "bar",
         "x": [
          "keyphrase_retrieval.feather"
         ],
         "xaxis": "x",
         "y": {
          "bdata": "k07NaWZMP0A=",
          "dtype": "f8"
         },
         "yaxis": "y"
        },
        {
         "hovertemplate": "retrieval=%{x}<br>time=%{y}<extra></extra>",
         "legendgroup": "ner_retrieval.feather",
         "marker": {
          "color": "#19d3f3",
          "pattern": {
           "shape": ""
          }
         },
         "name": "ner_retrieval.feather",
         "orientation": "v",
         "showlegend": true,
         "textposition": "auto",
         "type": "bar",
         "x": [
          "ner_retrieval.feather"
         ],
         "xaxis": "x",
         "y": {
          "bdata": "yF0/SxVyLkA=",
          "dtype": "f8"
         },
         "yaxis": "y"
        },
        {
         "hovertemplate": "retrieval=%{x}<br>time=%{y}<extra></extra>",
         "legendgroup": "query_alt_retrieval.feather",
         "marker": {
          "color": "#FF6692",
          "pattern": {
           "shape": ""
          }
         },
         "name": "query_alt_retrieval.feather",
         "orientation": "v",
         "showlegend": true,
         "textposition": "auto",
         "type": "bar",
         "x": [
          "query_alt_retrieval.feather"
         ],
         "xaxis": "x",
         "y": {
          "bdata": "pVPzUnROMUA=",
          "dtype": "f8"
         },
         "yaxis": "y"
        },
        {
         "hovertemplate": "retrieval=%{x}<br>time=%{y}<extra></extra>",
         "legendgroup": "rerank_retrieval.feather",
         "marker": {
          "color": "#B6E880",
          "pattern": {
           "shape": ""
          }
         },
         "name": "rerank_retrieval.feather",
         "orientation": "v",
         "showlegend": true,
         "textposition": "auto",
         "type": "bar",
         "x": [
          "rerank_retrieval.feather"
         ],
         "xaxis": "x",
         "y": {
          "bdata": "FyvDMjnsREA=",
          "dtype": "f8"
         },
         "yaxis": "y"
        },
        {
         "hovertemplate": "retrieval=%{x}<br>time=%{y}<extra></extra>",
         "legendgroup": "theme_retrieval.feather",
         "marker": {
          "color": "#FF97FF",
          "pattern": {
           "shape": ""
          }
         },
         "name": "theme_retrieval.feather",
         "orientation": "v",
         "showlegend": true,
         "textposition": "auto",
         "type": "bar",
         "x": [
          "theme_retrieval.feather"
         ],
         "xaxis": "x",
         "y": {
          "bdata": "UWDSHYtkMUA=",
          "dtype": "f8"
         },
         "yaxis": "y"
        }
       ],
       "layout": {
        "barmode": "relative",
        "height": 800,
        "legend": {
         "title": {
          "text": "retrieval"
         },
         "tracegroupgap": 0
        },
        "template": {
         "data": {
          "bar": [
           {
            "error_x": {
             "color": "#2a3f5f"
            },
            "error_y": {
             "color": "#2a3f5f"
            },
            "marker": {
             "line": {
              "color": "#E5ECF6",
              "width": 0.5
             },
             "pattern": {
              "fillmode": "overlay",
              "size": 10,
              "solidity": 0.2
             }
            },
            "type": "bar"
           }
          ],
          "barpolar": [
           {
            "marker": {
             "line": {
              "color": "#E5ECF6",
              "width": 0.5
             },
             "pattern": {
              "fillmode": "overlay",
              "size": 10,
              "solidity": 0.2
             }
            },
            "type": "barpolar"
           }
          ],
          "carpet": [
           {
            "aaxis": {
             "endlinecolor": "#2a3f5f",
             "gridcolor": "white",
             "linecolor": "white",
             "minorgridcolor": "white",
             "startlinecolor": "#2a3f5f"
            },
            "baxis": {
             "endlinecolor": "#2a3f5f",
             "gridcolor": "white",
             "linecolor": "white",
             "minorgridcolor": "white",
             "startlinecolor": "#2a3f5f"
            },
            "type": "carpet"
           }
          ],
          "choropleth": [
           {
            "colorbar": {
             "outlinewidth": 0,
             "ticks": ""
            },
            "type": "choropleth"
           }
          ],
          "contour": [
           {
            "colorbar": {
             "outlinewidth": 0,
             "ticks": ""
            },
            "colorscale": [
             [
              0,
              "#0d0887"
             ],
             [
              0.1111111111111111,
              "#46039f"
             ],
             [
              0.2222222222222222,
              "#7201a8"
             ],
             [
              0.3333333333333333,
              "#9c179e"
             ],
             [
              0.4444444444444444,
              "#bd3786"
             ],
             [
              0.5555555555555556,
              "#d8576b"
             ],
             [
              0.6666666666666666,
              "#ed7953"
             ],
             [
              0.7777777777777778,
              "#fb9f3a"
             ],
             [
              0.8888888888888888,
              "#fdca26"
             ],
             [
              1,
              "#f0f921"
             ]
            ],
            "type": "contour"
           }
          ],
          "contourcarpet": [
           {
            "colorbar": {
             "outlinewidth": 0,
             "ticks": ""
            },
            "type": "contourcarpet"
           }
          ],
          "heatmap": [
           {
            "colorbar": {
             "outlinewidth": 0,
             "ticks": ""
            },
            "colorscale": [
             [
              0,
              "#0d0887"
             ],
             [
              0.1111111111111111,
              "#46039f"
             ],
             [
              0.2222222222222222,
              "#7201a8"
             ],
             [
              0.3333333333333333,
              "#9c179e"
             ],
             [
              0.4444444444444444,
              "#bd3786"
             ],
             [
              0.5555555555555556,
              "#d8576b"
             ],
             [
              0.6666666666666666,
              "#ed7953"
             ],
             [
              0.7777777777777778,
              "#fb9f3a"
             ],
             [
              0.8888888888888888,
              "#fdca26"
             ],
             [
              1,
              "#f0f921"
             ]
            ],
            "type": "heatmap"
           }
          ],
          "histogram": [
           {
            "marker": {
             "pattern": {
              "fillmode": "overlay",
              "size": 10,
              "solidity": 0.2
             }
            },
            "type": "histogram"
           }
          ],
          "histogram2d": [
           {
            "colorbar": {
             "outlinewidth": 0,
             "ticks": ""
            },
            "colorscale": [
             [
              0,
              "#0d0887"
             ],
             [
              0.1111111111111111,
              "#46039f"
             ],
             [
              0.2222222222222222,
              "#7201a8"
             ],
             [
              0.3333333333333333,
              "#9c179e"
             ],
             [
              0.4444444444444444,
              "#bd3786"
             ],
             [
              0.5555555555555556,
              "#d8576b"
             ],
             [
              0.6666666666666666,
              "#ed7953"
             ],
             [
              0.7777777777777778,
              "#fb9f3a"
             ],
             [
              0.8888888888888888,
              "#fdca26"
             ],
             [
              1,
              "#f0f921"
             ]
            ],
            "type": "histogram2d"
           }
          ],
          "histogram2dcontour": [
           {
            "colorbar": {
             "outlinewidth": 0,
             "ticks": ""
            },
            "colorscale": [
             [
              0,
              "#0d0887"
             ],
             [
              0.1111111111111111,
              "#46039f"
             ],
             [
              0.2222222222222222,
              "#7201a8"
             ],
             [
              0.3333333333333333,
              "#9c179e"
             ],
             [
              0.4444444444444444,
              "#bd3786"
             ],
             [
              0.5555555555555556,
              "#d8576b"
             ],
             [
              0.6666666666666666,
              "#ed7953"
             ],
             [
              0.7777777777777778,
              "#fb9f3a"
             ],
             [
              0.8888888888888888,
              "#fdca26"
             ],
             [
              1,
              "#f0f921"
             ]
            ],
            "type": "histogram2dcontour"
           }
          ],
          "mesh3d": [
           {
            "colorbar": {
             "outlinewidth": 0,
             "ticks": ""
            },
            "type": "mesh3d"
           }
          ],
          "parcoords": [
           {
            "line": {
             "colorbar": {
              "outlinewidth": 0,
              "ticks": ""
             }
            },
            "type": "parcoords"
           }
          ],
          "pie": [
           {
            "automargin": true,
            "type": "pie"
           }
          ],
          "scatter": [
           {
            "fillpattern": {
             "fillmode": "overlay",
             "size": 10,
             "solidity": 0.2
            },
            "type": "scatter"
           }
          ],
          "scatter3d": [
           {
            "line": {
             "colorbar": {
              "outlinewidth": 0,
              "ticks": ""
             }
            },
            "marker": {
             "colorbar": {
              "outlinewidth": 0,
              "ticks": ""
             }
            },
            "type": "scatter3d"
           }
          ],
          "scattercarpet": [
           {
            "marker": {
             "colorbar": {
              "outlinewidth": 0,
              "ticks": ""
             }
            },
            "type": "scattercarpet"
           }
          ],
          "scattergeo": [
           {
            "marker": {
             "colorbar": {
              "outlinewidth": 0,
              "ticks": ""
             }
            },
            "type": "scattergeo"
           }
          ],
          "scattergl": [
           {
            "marker": {
             "colorbar": {
              "outlinewidth": 0,
              "ticks": ""
             }
            },
            "type": "scattergl"
           }
          ],
          "scattermap": [
           {
            "marker": {
             "colorbar": {
              "outlinewidth": 0,
              "ticks": ""
             }
            },
            "type": "scattermap"
           }
          ],
          "scattermapbox": [
           {
            "marker": {
             "colorbar": {
              "outlinewidth": 0,
              "ticks": ""
             }
            },
            "type": "scattermapbox"
           }
          ],
          "scatterpolar": [
           {
            "marker": {
             "colorbar": {
              "outlinewidth": 0,
              "ticks": ""
             }
            },
            "type": "scatterpolar"
           }
          ],
          "scatterpolargl": [
           {
            "marker": {
             "colorbar": {
              "outlinewidth": 0,
              "ticks": ""
             }
            },
            "type": "scatterpolargl"
           }
          ],
          "scatterternary": [
           {
            "marker": {
             "colorbar": {
              "outlinewidth": 0,
              "ticks": ""
             }
            },
            "type": "scatterternary"
           }
          ],
          "surface": [
           {
            "colorbar": {
             "outlinewidth": 0,
             "ticks": ""
            },
            "colorscale": [
             [
              0,
              "#0d0887"
             ],
             [
              0.1111111111111111,
              "#46039f"
             ],
             [
              0.2222222222222222,
              "#7201a8"
             ],
             [
              0.3333333333333333,
              "#9c179e"
             ],
             [
              0.4444444444444444,
              "#bd3786"
             ],
             [
              0.5555555555555556,
              "#d8576b"
             ],
             [
              0.6666666666666666,
              "#ed7953"
             ],
             [
              0.7777777777777778,
              "#fb9f3a"
             ],
             [
              0.8888888888888888,
              "#fdca26"
             ],
             [
              1,
              "#f0f921"
             ]
            ],
            "type": "surface"
           }
          ],
          "table": [
           {
            "cells": {
             "fill": {
              "color": "#EBF0F8"
             },
             "line": {
              "color": "white"
             }
            },
            "header": {
             "fill": {
              "color": "#C8D4E3"
             },
             "line": {
              "color": "white"
             }
            },
            "type": "table"
           }
          ]
         },
         "layout": {
          "annotationdefaults": {
           "arrowcolor": "#2a3f5f",
           "arrowhead": 0,
           "arrowwidth": 1
          },
          "autotypenumbers": "strict",
          "coloraxis": {
           "colorbar": {
            "outlinewidth": 0,
            "ticks": ""
           }
          },
          "colorscale": {
           "diverging": [
            [
             0,
             "#8e0152"
            ],
            [
             0.1,
             "#c51b7d"
            ],
            [
             0.2,
             "#de77ae"
            ],
            [
             0.3,
             "#f1b6da"
            ],
            [
             0.4,
             "#fde0ef"
            ],
            [
             0.5,
             "#f7f7f7"
            ],
            [
             0.6,
             "#e6f5d0"
            ],
            [
             0.7,
             "#b8e186"
            ],
            [
             0.8,
             "#7fbc41"
            ],
            [
             0.9,
             "#4d9221"
            ],
            [
             1,
             "#276419"
            ]
           ],
           "sequential": [
            [
             0,
             "#0d0887"
            ],
            [
             0.1111111111111111,
             "#46039f"
            ],
            [
             0.2222222222222222,
             "#7201a8"
            ],
            [
             0.3333333333333333,
             "#9c179e"
            ],
            [
             0.4444444444444444,
             "#bd3786"
            ],
            [
             0.5555555555555556,
             "#d8576b"
            ],
            [
             0.6666666666666666,
             "#ed7953"
            ],
            [
             0.7777777777777778,
             "#fb9f3a"
            ],
            [
             0.8888888888888888,
             "#fdca26"
            ],
            [
             1,
             "#f0f921"
            ]
           ],
           "sequentialminus": [
            [
             0,
             "#0d0887"
            ],
            [
             0.1111111111111111,
             "#46039f"
            ],
            [
             0.2222222222222222,
             "#7201a8"
            ],
            [
             0.3333333333333333,
             "#9c179e"
            ],
            [
             0.4444444444444444,
             "#bd3786"
            ],
            [
             0.5555555555555556,
             "#d8576b"
            ],
            [
             0.6666666666666666,
             "#ed7953"
            ],
            [
             0.7777777777777778,
             "#fb9f3a"
            ],
            [
             0.8888888888888888,
             "#fdca26"
            ],
            [
             1,
             "#f0f921"
            ]
           ]
          },
          "colorway": [
           "#636efa",
           "#EF553B",
           "#00cc96",
           "#ab63fa",
           "#FFA15A",
           "#19d3f3",
           "#FF6692",
           "#B6E880",
           "#FF97FF",
           "#FECB52"
          ],
          "font": {
           "color": "#2a3f5f"
          },
          "geo": {
           "bgcolor": "white",
           "lakecolor": "white",
           "landcolor": "#E5ECF6",
           "showlakes": true,
           "showland": true,
           "subunitcolor": "white"
          },
          "hoverlabel": {
           "align": "left"
          },
          "hovermode": "closest",
          "mapbox": {
           "style": "light"
          },
          "paper_bgcolor": "white",
          "plot_bgcolor": "#E5ECF6",
          "polar": {
           "angularaxis": {
            "gridcolor": "white",
            "linecolor": "white",
            "ticks": ""
           },
           "bgcolor": "#E5ECF6",
           "radialaxis": {
            "gridcolor": "white",
            "linecolor": "white",
            "ticks": ""
           }
          },
          "scene": {
           "xaxis": {
            "backgroundcolor": "#E5ECF6",
            "gridcolor": "white",
            "gridwidth": 2,
            "linecolor": "white",
            "showbackground": true,
            "ticks": "",
            "zerolinecolor": "white"
           },
           "yaxis": {
            "backgroundcolor": "#E5ECF6",
            "gridcolor": "white",
            "gridwidth": 2,
            "linecolor": "white",
            "showbackground": true,
            "ticks": "",
            "zerolinecolor": "white"
           },
           "zaxis": {
            "backgroundcolor": "#E5ECF6",
            "gridcolor": "white",
            "gridwidth": 2,
            "linecolor": "white",
            "showbackground": true,
            "ticks": "",
            "zerolinecolor": "white"
           }
          },
          "shapedefaults": {
           "line": {
            "color": "#2a3f5f"
           }
          },
          "ternary": {
           "aaxis": {
            "gridcolor": "white",
            "linecolor": "white",
            "ticks": ""
           },
           "baxis": {
            "gridcolor": "white",
            "linecolor": "white",
            "ticks": ""
           },
           "bgcolor": "#E5ECF6",
           "caxis": {
            "gridcolor": "white",
            "linecolor": "white",
            "ticks": ""
           }
          },
          "title": {
           "x": 0.05
          },
          "xaxis": {
           "automargin": true,
           "gridcolor": "white",
           "linecolor": "white",
           "ticks": "",
           "title": {
            "standoff": 15
           },
           "zerolinecolor": "white",
           "zerolinewidth": 2
          },
          "yaxis": {
           "automargin": true,
           "gridcolor": "white",
           "linecolor": "white",
           "ticks": "",
           "title": {
            "standoff": 15
           },
           "zerolinecolor": "white",
           "zerolinewidth": 2
          }
         }
        },
        "title": {
         "text": "Time to retrieve - All Datasets and Models and Retrievals"
        },
        "width": 1200,
        "xaxis": {
         "anchor": "y",
         "categoryarray": [
          "context_query_alt_retrieval.feather",
          "document_retrieval.feather",
          "empty_retrieval.feather",
          "generative_retrieval.feather",
          "keyphrase_retrieval.feather",
          "ner_retrieval.feather",
          "query_alt_retrieval.feather",
          "rerank_retrieval.feather",
          "theme_retrieval.feather"
         ],
         "categoryorder": "array",
         "domain": [
          0,
          1
         ],
         "title": {
          "text": "retrieval"
         }
        },
        "yaxis": {
         "anchor": "x",
         "domain": [
          0,
          1
         ],
         "title": {
          "text": "time"
         }
        }
       }
      }
     },
     "metadata": {},
     "output_type": "display_data"
    }
   ],
   "source": [
    "display_results(full_results_df, display_ttr=True, color_by=\"retrieval\")"
   ]
  }
 ],
 "metadata": {
  "kernelspec": {
   "display_name": "venv",
   "language": "python",
   "name": "python3"
  },
  "language_info": {
   "codemirror_mode": {
    "name": "ipython",
    "version": 3
   },
   "file_extension": ".py",
   "mimetype": "text/x-python",
   "name": "python",
   "nbconvert_exporter": "python",
   "pygments_lexer": "ipython3",
   "version": "3.11.9"
  }
 },
 "nbformat": 4,
 "nbformat_minor": 2
}
